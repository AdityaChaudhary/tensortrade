{
 "cells": [
  {
   "cell_type": "code",
   "execution_count": 1,
   "id": "38929137",
   "metadata": {},
   "outputs": [],
   "source": [
    "from tensortrade.data.cdd import CryptoDataDownload\n",
    "\n",
    "import pandas as pd\n",
    "import numpy as np\n",
    "\n",
    "def prepare_data(df):\n",
    "    df['volume'] = np.int64(df['volume'])\n",
    "    df['date'] = pd.to_datetime(df['date'])\n",
    "    df.sort_values(by='date', ascending=True, inplace=True)\n",
    "    df.reset_index(drop=True, inplace=True)\n",
    "    df['date'] = df['date'].dt.strftime('%Y-%m-%d %I:%M %p')\n",
    "    return df\n",
    "\n",
    "def fetch_data():\n",
    "    cdd = CryptoDataDownload()\n",
    "    bitfinex_data = cdd.fetch(\"Bitfinex\", \"USD\", \"BTC\", \"1h\")\n",
    "    bitfinex_data = bitfinex_data[['date', 'open', 'high', 'low', 'close', 'volume']]\n",
    "    bitfinex_data = prepare_data(bitfinex_data)\n",
    "    return bitfinex_data\n",
    "\n",
    "def load_csv(filename):\n",
    "    df = pd.read_csv('data/' + filename, skiprows=1)\n",
    "    df.drop(columns=['symbol', 'volume_btc'], inplace=True)\n",
    "\n",
    "    # Fix timestamp form \"2019-10-17 09-AM\" to \"2019-10-17 09-00-00 AM\"\n",
    "    df['date'] = df['date'].str[:14] + '00-00 ' + df['date'].str[-2:]\n",
    "\n",
    "    return prepare_data(df)"
   ]
  },
  {
   "cell_type": "code",
   "execution_count": 2,
   "id": "d6071b91",
   "metadata": {},
   "outputs": [],
   "source": [
    "import ta\n",
    "\n",
    "def rsi(price: 'pd.Series[pd.Float64Dtype]', period: float) -> 'pd.Series[pd.Float64Dtype]':\n",
    "    r = price.diff()\n",
    "    upside = np.minimum(r, 0).abs()\n",
    "    downside = np.maximum(r, 0).abs()\n",
    "    rs = upside.ewm(alpha=1 / period).mean() / downside.ewm(alpha=1 / period).mean()\n",
    "    return 100*(1 - (1 + rs) ** -1)\n",
    "\n",
    "def macd(price: 'pd.Series[pd.Float64Dtype]', fast: float, slow: float, signal: float) -> 'pd.Series[pd.Float64Dtype]':\n",
    "    fm = price.ewm(span=fast, adjust=False).mean()\n",
    "    sm = price.ewm(span=slow, adjust=False).mean()\n",
    "    md = fm - sm\n",
    "    signal = md - md.ewm(span=signal, adjust=False).mean()\n",
    "    return signal\n",
    "\n",
    "def sharpe(returns: np.array, risk_free_rate: float = 0) -> float:\n",
    "    return (returns.mean() - risk_free_rate) / returns.std()\n",
    "\n",
    "def maximum_drawdown(net_worth: np.array) -> float:\n",
    "    n = len(net_worth)\n",
    "    nav = net_worth.copy()\n",
    "    mdd = 0\n",
    "    peak = -np.inf\n",
    "    for i in range(n):\n",
    "        if nav[i] > peak:\n",
    "            peak = nav[i]\n",
    "        dd = 100*(peak - nav[i]) / peak\n",
    "        if dd > mdd:\n",
    "            mdd = dd\n",
    "    return mdd\n",
    "\n",
    "def fracdiff(s: 'pd.Series[pd.Float64Dtype]', d: float = 0.6, window: int = 25) -> 'pd.Series[pd.Float64Dtype]':\n",
    "    c = np.tile([1.0, -1.0], -(-window // 2))[:window]\n",
    "    w = c*binom(d, np.arange(window))\n",
    "    w = w[::-1]\n",
    "    frac = s.rolling(window=window, min_periods=window).agg(lambda v: np.dot(w.T, v))\n",
    "    return frac\n",
    "\n",
    "def generate_features(data):\n",
    "    # Naming convention across most technical indicator libraries\n",
    "    data = data.rename(columns={'date': 'Date', \n",
    "                                'open': 'Open', \n",
    "                                'high': 'High', \n",
    "                                'low': 'Low', \n",
    "                                'close': 'Close', \n",
    "                                'volume': 'Volume'})\n",
    "    data = data.set_index('Date')\n",
    "\n",
    "    # Custom indicators\n",
    "    features = pd.DataFrame.from_dict({\n",
    "        'dfast': data['Close'].rolling(window=10).std().abs(),\n",
    "        'dmedium': data['Close'].rolling(window=50).std().abs(),\n",
    "        'dslow': data['Close'].rolling(window=100).std().abs(),\n",
    "        'fast': data['Close'].rolling(window=10).mean(),\n",
    "        'medium': data['Close'].rolling(window=50).mean(),\n",
    "        'slow': data['Close'].rolling(window=100).mean(),\n",
    "        'ema_fast': ta.trend.ema_indicator(data['Close'], window=5, fillna=True),\n",
    "        'ema_medium': ta.trend.ema_indicator(data['Close'], window=10, fillna=True),\n",
    "        'ema_slow': ta.trend.ema_indicator(data['Close'], window=64, fillna=True),\n",
    "        'lr': np.log(data['Close']).diff().fillna(0),\n",
    "        'rsi_5': rsi(data['Close'], period=5),\n",
    "        'rsi_10': rsi(data['Close'], period=10),\n",
    "        'rsi_100': rsi(data['Close'], period=100),\n",
    "        'macd_short': macd(data['Close'], fast=10, slow=50, signal=5),\n",
    "        'macd_long': macd(data['Close'], fast=200, slow=100, signal=50),\n",
    "    })\n",
    "\n",
    "    # Generate all default indicators from ta library\n",
    "    df = ta.add_all_ta_features(data, 'Open', 'High', 'Low', 'Close', 'Volume', fillna=True)\n",
    "\n",
    "    # Concatenate both manually and automatically generated features\n",
    "    data = pd.concat([df, features], axis='columns').fillna(method='pad')\n",
    "\n",
    "    # Remove potential column duplicates\n",
    "    data = data.loc[:,~data.columns.duplicated()]\n",
    "\n",
    "    # Revert naming convention\n",
    "    data = data.rename(columns={'Date': 'date', \n",
    "                                'Open': 'open', \n",
    "                                'High': 'high', \n",
    "                                'Low': 'low', \n",
    "                                'Close': 'close', \n",
    "                                'Volume': 'volume'})\n",
    "\n",
    "    # A lot of indicators generate NaNs at the beginning of DataFrames, so remove them\n",
    "    data = data.iloc[200:]\n",
    "    data = data.reset_index(drop=True)\n",
    "\n",
    "    return data"
   ]
  },
  {
   "cell_type": "code",
   "execution_count": 3,
   "id": "9523af02",
   "metadata": {},
   "outputs": [],
   "source": [
    "from sklearn.model_selection import train_test_split\n",
    "\n",
    "def split_data(data):\n",
    "    X = data.copy()\n",
    "    y = X['close'].pct_change()\n",
    "\n",
    "    X_train_test, X_valid, y_train_test, y_valid = \\\n",
    "        train_test_split(data, data['close'].pct_change(), train_size=0.67, test_size=0.33, shuffle=False)\n",
    "\n",
    "    X_train, X_test, y_train, y_test = \\\n",
    "        train_test_split(X_train_test, y_train_test, train_size=0.50, test_size=0.50, shuffle=False)\n",
    "\n",
    "    return X_train, X_test, X_valid, y_train, y_test, y_valid"
   ]
  },
  {
   "cell_type": "code",
   "execution_count": 4,
   "id": "bf8fcc9e",
   "metadata": {},
   "outputs": [
    {
     "data": {
      "text/html": [
       "<div>\n",
       "<style scoped>\n",
       "    .dataframe tbody tr th:only-of-type {\n",
       "        vertical-align: middle;\n",
       "    }\n",
       "\n",
       "    .dataframe tbody tr th {\n",
       "        vertical-align: top;\n",
       "    }\n",
       "\n",
       "    .dataframe thead th {\n",
       "        text-align: right;\n",
       "    }\n",
       "</style>\n",
       "<table border=\"1\" class=\"dataframe\">\n",
       "  <thead>\n",
       "    <tr style=\"text-align: right;\">\n",
       "      <th></th>\n",
       "      <th>date</th>\n",
       "      <th>open</th>\n",
       "      <th>high</th>\n",
       "      <th>low</th>\n",
       "      <th>close</th>\n",
       "      <th>volume</th>\n",
       "    </tr>\n",
       "  </thead>\n",
       "  <tbody>\n",
       "    <tr>\n",
       "      <th>0</th>\n",
       "      <td>2018-05-15 06:00 AM</td>\n",
       "      <td>8723.800000</td>\n",
       "      <td>8793.0</td>\n",
       "      <td>8714.900000</td>\n",
       "      <td>8739.0</td>\n",
       "      <td>8988053</td>\n",
       "    </tr>\n",
       "    <tr>\n",
       "      <th>1</th>\n",
       "      <td>2018-05-15 07:00 AM</td>\n",
       "      <td>8739.000000</td>\n",
       "      <td>8754.8</td>\n",
       "      <td>8719.300000</td>\n",
       "      <td>8743.0</td>\n",
       "      <td>2288904</td>\n",
       "    </tr>\n",
       "    <tr>\n",
       "      <th>2</th>\n",
       "      <td>2018-05-15 08:00 AM</td>\n",
       "      <td>8743.000000</td>\n",
       "      <td>8743.1</td>\n",
       "      <td>8653.200000</td>\n",
       "      <td>8723.7</td>\n",
       "      <td>8891773</td>\n",
       "    </tr>\n",
       "    <tr>\n",
       "      <th>3</th>\n",
       "      <td>2018-05-15 09:00 AM</td>\n",
       "      <td>8723.700000</td>\n",
       "      <td>8737.8</td>\n",
       "      <td>8701.200000</td>\n",
       "      <td>8708.1</td>\n",
       "      <td>2054868</td>\n",
       "    </tr>\n",
       "    <tr>\n",
       "      <th>4</th>\n",
       "      <td>2018-05-15 10:00 AM</td>\n",
       "      <td>8708.100000</td>\n",
       "      <td>8855.7</td>\n",
       "      <td>8695.800000</td>\n",
       "      <td>8784.4</td>\n",
       "      <td>17309722</td>\n",
       "    </tr>\n",
       "    <tr>\n",
       "      <th>...</th>\n",
       "      <td>...</td>\n",
       "      <td>...</td>\n",
       "      <td>...</td>\n",
       "      <td>...</td>\n",
       "      <td>...</td>\n",
       "      <td>...</td>\n",
       "    </tr>\n",
       "    <tr>\n",
       "      <th>32433</th>\n",
       "      <td>2022-01-25 08:00 PM</td>\n",
       "      <td>37101.030041</td>\n",
       "      <td>37135.0</td>\n",
       "      <td>36653.000000</td>\n",
       "      <td>36897.0</td>\n",
       "      <td>9529030</td>\n",
       "    </tr>\n",
       "    <tr>\n",
       "      <th>32434</th>\n",
       "      <td>2022-01-25 09:00 PM</td>\n",
       "      <td>36900.000000</td>\n",
       "      <td>36945.0</td>\n",
       "      <td>36461.000000</td>\n",
       "      <td>36595.0</td>\n",
       "      <td>15021792</td>\n",
       "    </tr>\n",
       "    <tr>\n",
       "      <th>32435</th>\n",
       "      <td>2022-01-25 10:00 PM</td>\n",
       "      <td>36597.000000</td>\n",
       "      <td>36835.0</td>\n",
       "      <td>36486.000000</td>\n",
       "      <td>36835.0</td>\n",
       "      <td>9658911</td>\n",
       "    </tr>\n",
       "    <tr>\n",
       "      <th>32436</th>\n",
       "      <td>2022-01-25 11:00 PM</td>\n",
       "      <td>36835.000000</td>\n",
       "      <td>37070.0</td>\n",
       "      <td>36754.000000</td>\n",
       "      <td>36986.0</td>\n",
       "      <td>4049707</td>\n",
       "    </tr>\n",
       "    <tr>\n",
       "      <th>32437</th>\n",
       "      <td>2022-01-26 12:00 AM</td>\n",
       "      <td>36995.000000</td>\n",
       "      <td>37022.0</td>\n",
       "      <td>36769.202077</td>\n",
       "      <td>36838.0</td>\n",
       "      <td>1635796</td>\n",
       "    </tr>\n",
       "  </tbody>\n",
       "</table>\n",
       "<p>32438 rows × 6 columns</p>\n",
       "</div>"
      ],
      "text/plain": [
       "                      date          open     high           low    close  \\\n",
       "0      2018-05-15 06:00 AM   8723.800000   8793.0   8714.900000   8739.0   \n",
       "1      2018-05-15 07:00 AM   8739.000000   8754.8   8719.300000   8743.0   \n",
       "2      2018-05-15 08:00 AM   8743.000000   8743.1   8653.200000   8723.7   \n",
       "3      2018-05-15 09:00 AM   8723.700000   8737.8   8701.200000   8708.1   \n",
       "4      2018-05-15 10:00 AM   8708.100000   8855.7   8695.800000   8784.4   \n",
       "...                    ...           ...      ...           ...      ...   \n",
       "32433  2022-01-25 08:00 PM  37101.030041  37135.0  36653.000000  36897.0   \n",
       "32434  2022-01-25 09:00 PM  36900.000000  36945.0  36461.000000  36595.0   \n",
       "32435  2022-01-25 10:00 PM  36597.000000  36835.0  36486.000000  36835.0   \n",
       "32436  2022-01-25 11:00 PM  36835.000000  37070.0  36754.000000  36986.0   \n",
       "32437  2022-01-26 12:00 AM  36995.000000  37022.0  36769.202077  36838.0   \n",
       "\n",
       "         volume  \n",
       "0       8988053  \n",
       "1       2288904  \n",
       "2       8891773  \n",
       "3       2054868  \n",
       "4      17309722  \n",
       "...         ...  \n",
       "32433   9529030  \n",
       "32434  15021792  \n",
       "32435   9658911  \n",
       "32436   4049707  \n",
       "32437   1635796  \n",
       "\n",
       "[32438 rows x 6 columns]"
      ]
     },
     "execution_count": 4,
     "metadata": {},
     "output_type": "execute_result"
    }
   ],
   "source": [
    "data = fetch_data()\n",
    "data"
   ]
  },
  {
   "cell_type": "code",
   "execution_count": 5,
   "id": "6e1cf7fd",
   "metadata": {},
   "outputs": [
    {
     "name": "stderr",
     "output_type": "stream",
     "text": [
      "/usr/local/lib/python3.6/dist-packages/ta/trend.py:769: RuntimeWarning:\n",
      "\n",
      "invalid value encountered in double_scalars\n",
      "\n",
      "/usr/local/lib/python3.6/dist-packages/ta/trend.py:774: RuntimeWarning:\n",
      "\n",
      "invalid value encountered in double_scalars\n",
      "\n"
     ]
    },
    {
     "data": {
      "text/html": [
       "<div>\n",
       "<style scoped>\n",
       "    .dataframe tbody tr th:only-of-type {\n",
       "        vertical-align: middle;\n",
       "    }\n",
       "\n",
       "    .dataframe tbody tr th {\n",
       "        vertical-align: top;\n",
       "    }\n",
       "\n",
       "    .dataframe thead th {\n",
       "        text-align: right;\n",
       "    }\n",
       "</style>\n",
       "<table border=\"1\" class=\"dataframe\">\n",
       "  <thead>\n",
       "    <tr style=\"text-align: right;\">\n",
       "      <th></th>\n",
       "      <th>open</th>\n",
       "      <th>high</th>\n",
       "      <th>low</th>\n",
       "      <th>close</th>\n",
       "      <th>volume</th>\n",
       "      <th>volume_adi</th>\n",
       "      <th>volume_obv</th>\n",
       "      <th>volume_cmf</th>\n",
       "      <th>volume_fi</th>\n",
       "      <th>volume_em</th>\n",
       "      <th>...</th>\n",
       "      <th>slow</th>\n",
       "      <th>ema_fast</th>\n",
       "      <th>ema_medium</th>\n",
       "      <th>ema_slow</th>\n",
       "      <th>lr</th>\n",
       "      <th>rsi_5</th>\n",
       "      <th>rsi_10</th>\n",
       "      <th>rsi_100</th>\n",
       "      <th>macd_short</th>\n",
       "      <th>macd_long</th>\n",
       "    </tr>\n",
       "  </thead>\n",
       "  <tbody>\n",
       "    <tr>\n",
       "      <th>0</th>\n",
       "      <td>7897.300000</td>\n",
       "      <td>7898.8</td>\n",
       "      <td>7849.800000</td>\n",
       "      <td>7877.4</td>\n",
       "      <td>9341499</td>\n",
       "      <td>-1.219515e+08</td>\n",
       "      <td>-153103304</td>\n",
       "      <td>-0.175983</td>\n",
       "      <td>-1.548039e+08</td>\n",
       "      <td>-1.586737e+04</td>\n",
       "      <td>...</td>\n",
       "      <td>8269.03880</td>\n",
       "      <td>7879.763903</td>\n",
       "      <td>7890.436477</td>\n",
       "      <td>8137.070233</td>\n",
       "      <td>-0.002523</td>\n",
       "      <td>54.694594</td>\n",
       "      <td>62.862413</td>\n",
       "      <td>58.177953</td>\n",
       "      <td>10.871904</td>\n",
       "      <td>31.873058</td>\n",
       "    </tr>\n",
       "    <tr>\n",
       "      <th>1</th>\n",
       "      <td>7877.400000</td>\n",
       "      <td>7889.7</td>\n",
       "      <td>7661.000000</td>\n",
       "      <td>7700.0</td>\n",
       "      <td>23679375</td>\n",
       "      <td>-1.375548e+08</td>\n",
       "      <td>-176782679</td>\n",
       "      <td>-0.228723</td>\n",
       "      <td>-7.327921e+08</td>\n",
       "      <td>-9.556783e+04</td>\n",
       "      <td>...</td>\n",
       "      <td>8262.21880</td>\n",
       "      <td>7819.842602</td>\n",
       "      <td>7855.811663</td>\n",
       "      <td>8123.621918</td>\n",
       "      <td>-0.022778</td>\n",
       "      <td>83.970505</td>\n",
       "      <td>78.146122</td>\n",
       "      <td>60.860099</td>\n",
       "      <td>-5.426751</td>\n",
       "      <td>34.355233</td>\n",
       "    </tr>\n",
       "    <tr>\n",
       "      <th>2</th>\n",
       "      <td>7700.000000</td>\n",
       "      <td>7700.1</td>\n",
       "      <td>7548.100000</td>\n",
       "      <td>7605.4</td>\n",
       "      <td>42144843</td>\n",
       "      <td>-1.479246e+08</td>\n",
       "      <td>-218927522</td>\n",
       "      <td>-0.216859</td>\n",
       "      <td>-1.197665e+09</td>\n",
       "      <td>-5.454997e+04</td>\n",
       "      <td>...</td>\n",
       "      <td>8254.82080</td>\n",
       "      <td>7748.361735</td>\n",
       "      <td>7810.282270</td>\n",
       "      <td>8107.676628</td>\n",
       "      <td>-0.012362</td>\n",
       "      <td>88.796304</td>\n",
       "      <td>82.430355</td>\n",
       "      <td>62.167022</td>\n",
       "      <td>-21.497215</td>\n",
       "      <td>37.504922</td>\n",
       "    </tr>\n",
       "    <tr>\n",
       "      <th>3</th>\n",
       "      <td>7605.400000</td>\n",
       "      <td>7623.6</td>\n",
       "      <td>7441.800000</td>\n",
       "      <td>7511.1</td>\n",
       "      <td>38711817</td>\n",
       "      <td>-1.571235e+08</td>\n",
       "      <td>-257639339</td>\n",
       "      <td>-0.221424</td>\n",
       "      <td>-1.548073e+09</td>\n",
       "      <td>-4.292364e+04</td>\n",
       "      <td>...</td>\n",
       "      <td>8246.92580</td>\n",
       "      <td>7669.274490</td>\n",
       "      <td>7755.885493</td>\n",
       "      <td>8089.320424</td>\n",
       "      <td>-0.012477</td>\n",
       "      <td>91.852619</td>\n",
       "      <td>85.564709</td>\n",
       "      <td>63.397644</td>\n",
       "      <td>-36.146245</td>\n",
       "      <td>41.269618</td>\n",
       "    </tr>\n",
       "    <tr>\n",
       "      <th>4</th>\n",
       "      <td>7511.100000</td>\n",
       "      <td>7551.6</td>\n",
       "      <td>7403.000000</td>\n",
       "      <td>7489.1</td>\n",
       "      <td>23046091</td>\n",
       "      <td>-1.534634e+08</td>\n",
       "      <td>-280685430</td>\n",
       "      <td>-0.149460</td>\n",
       "      <td>-1.399351e+09</td>\n",
       "      <td>-3.572163e+04</td>\n",
       "      <td>...</td>\n",
       "      <td>8238.78980</td>\n",
       "      <td>7609.216327</td>\n",
       "      <td>7707.379040</td>\n",
       "      <td>8070.852104</td>\n",
       "      <td>-0.002933</td>\n",
       "      <td>92.453006</td>\n",
       "      <td>86.202747</td>\n",
       "      <td>63.676078</td>\n",
       "      <td>-41.976877</td>\n",
       "      <td>44.917996</td>\n",
       "    </tr>\n",
       "    <tr>\n",
       "      <th>...</th>\n",
       "      <td>...</td>\n",
       "      <td>...</td>\n",
       "      <td>...</td>\n",
       "      <td>...</td>\n",
       "      <td>...</td>\n",
       "      <td>...</td>\n",
       "      <td>...</td>\n",
       "      <td>...</td>\n",
       "      <td>...</td>\n",
       "      <td>...</td>\n",
       "      <td>...</td>\n",
       "      <td>...</td>\n",
       "      <td>...</td>\n",
       "      <td>...</td>\n",
       "      <td>...</td>\n",
       "      <td>...</td>\n",
       "      <td>...</td>\n",
       "      <td>...</td>\n",
       "      <td>...</td>\n",
       "      <td>...</td>\n",
       "      <td>...</td>\n",
       "    </tr>\n",
       "    <tr>\n",
       "      <th>32233</th>\n",
       "      <td>37101.030041</td>\n",
       "      <td>37135.0</td>\n",
       "      <td>36653.000000</td>\n",
       "      <td>36897.0</td>\n",
       "      <td>9529030</td>\n",
       "      <td>1.015426e+10</td>\n",
       "      <td>-4440425588</td>\n",
       "      <td>-0.044424</td>\n",
       "      <td>1.518061e+09</td>\n",
       "      <td>-1.575477e+06</td>\n",
       "      <td>...</td>\n",
       "      <td>35750.63159</td>\n",
       "      <td>36996.499922</td>\n",
       "      <td>36839.411214</td>\n",
       "      <td>36178.299460</td>\n",
       "      <td>-0.005783</td>\n",
       "      <td>48.483315</td>\n",
       "      <td>42.133757</td>\n",
       "      <td>52.180247</td>\n",
       "      <td>49.637765</td>\n",
       "      <td>-184.980100</td>\n",
       "    </tr>\n",
       "    <tr>\n",
       "      <th>32234</th>\n",
       "      <td>36900.000000</td>\n",
       "      <td>36945.0</td>\n",
       "      <td>36461.000000</td>\n",
       "      <td>36595.0</td>\n",
       "      <td>15021792</td>\n",
       "      <td>1.014755e+10</td>\n",
       "      <td>-4455447380</td>\n",
       "      <td>-0.076612</td>\n",
       "      <td>6.531117e+08</td>\n",
       "      <td>-6.153993e+05</td>\n",
       "      <td>...</td>\n",
       "      <td>35732.79159</td>\n",
       "      <td>36862.666615</td>\n",
       "      <td>36794.972811</td>\n",
       "      <td>36191.121015</td>\n",
       "      <td>-0.008219</td>\n",
       "      <td>62.034701</td>\n",
       "      <td>49.562954</td>\n",
       "      <td>52.723389</td>\n",
       "      <td>-8.399734</td>\n",
       "      <td>-191.776968</td>\n",
       "    </tr>\n",
       "    <tr>\n",
       "      <th>32235</th>\n",
       "      <td>36597.000000</td>\n",
       "      <td>36835.0</td>\n",
       "      <td>36486.000000</td>\n",
       "      <td>36835.0</td>\n",
       "      <td>9658911</td>\n",
       "      <td>1.015721e+10</td>\n",
       "      <td>-4445788469</td>\n",
       "      <td>-0.057153</td>\n",
       "      <td>8.909727e+08</td>\n",
       "      <td>-1.535629e+05</td>\n",
       "      <td>...</td>\n",
       "      <td>35718.09159</td>\n",
       "      <td>36853.444410</td>\n",
       "      <td>36802.250482</td>\n",
       "      <td>36210.932676</td>\n",
       "      <td>0.006537</td>\n",
       "      <td>49.182894</td>\n",
       "      <td>44.516364</td>\n",
       "      <td>52.247027</td>\n",
       "      <td>-18.423196</td>\n",
       "      <td>-200.438385</td>\n",
       "    </tr>\n",
       "    <tr>\n",
       "      <th>32236</th>\n",
       "      <td>36835.000000</td>\n",
       "      <td>37070.0</td>\n",
       "      <td>36754.000000</td>\n",
       "      <td>36986.0</td>\n",
       "      <td>4049707</td>\n",
       "      <td>1.015911e+10</td>\n",
       "      <td>-4441738762</td>\n",
       "      <td>-0.056832</td>\n",
       "      <td>8.510489e+08</td>\n",
       "      <td>1.962463e+06</td>\n",
       "      <td>...</td>\n",
       "      <td>35707.99159</td>\n",
       "      <td>36897.629606</td>\n",
       "      <td>36835.659485</td>\n",
       "      <td>36234.780901</td>\n",
       "      <td>0.004091</td>\n",
       "      <td>42.292165</td>\n",
       "      <td>41.558209</td>\n",
       "      <td>51.948737</td>\n",
       "      <td>-10.939185</td>\n",
       "      <td>-209.982639</td>\n",
       "    </tr>\n",
       "    <tr>\n",
       "      <th>32237</th>\n",
       "      <td>36995.000000</td>\n",
       "      <td>37022.0</td>\n",
       "      <td>36769.202077</td>\n",
       "      <td>36838.0</td>\n",
       "      <td>1635796</td>\n",
       "      <td>1.015836e+10</td>\n",
       "      <td>-4443374558</td>\n",
       "      <td>-0.040436</td>\n",
       "      <td>6.948851e+08</td>\n",
       "      <td>-2.534316e+05</td>\n",
       "      <td>...</td>\n",
       "      <td>35692.66159</td>\n",
       "      <td>36877.753071</td>\n",
       "      <td>36836.085033</td>\n",
       "      <td>36253.341489</td>\n",
       "      <td>-0.004010</td>\n",
       "      <td>50.746558</td>\n",
       "      <td>45.502086</td>\n",
       "      <td>52.218812</td>\n",
       "      <td>-23.248759</td>\n",
       "      <td>-217.505398</td>\n",
       "    </tr>\n",
       "  </tbody>\n",
       "</table>\n",
       "<p>32238 rows × 106 columns</p>\n",
       "</div>"
      ],
      "text/plain": [
       "               open     high           low    close    volume    volume_adi  \\\n",
       "0       7897.300000   7898.8   7849.800000   7877.4   9341499 -1.219515e+08   \n",
       "1       7877.400000   7889.7   7661.000000   7700.0  23679375 -1.375548e+08   \n",
       "2       7700.000000   7700.1   7548.100000   7605.4  42144843 -1.479246e+08   \n",
       "3       7605.400000   7623.6   7441.800000   7511.1  38711817 -1.571235e+08   \n",
       "4       7511.100000   7551.6   7403.000000   7489.1  23046091 -1.534634e+08   \n",
       "...             ...      ...           ...      ...       ...           ...   \n",
       "32233  37101.030041  37135.0  36653.000000  36897.0   9529030  1.015426e+10   \n",
       "32234  36900.000000  36945.0  36461.000000  36595.0  15021792  1.014755e+10   \n",
       "32235  36597.000000  36835.0  36486.000000  36835.0   9658911  1.015721e+10   \n",
       "32236  36835.000000  37070.0  36754.000000  36986.0   4049707  1.015911e+10   \n",
       "32237  36995.000000  37022.0  36769.202077  36838.0   1635796  1.015836e+10   \n",
       "\n",
       "       volume_obv  volume_cmf     volume_fi     volume_em  ...         slow  \\\n",
       "0      -153103304   -0.175983 -1.548039e+08 -1.586737e+04  ...   8269.03880   \n",
       "1      -176782679   -0.228723 -7.327921e+08 -9.556783e+04  ...   8262.21880   \n",
       "2      -218927522   -0.216859 -1.197665e+09 -5.454997e+04  ...   8254.82080   \n",
       "3      -257639339   -0.221424 -1.548073e+09 -4.292364e+04  ...   8246.92580   \n",
       "4      -280685430   -0.149460 -1.399351e+09 -3.572163e+04  ...   8238.78980   \n",
       "...           ...         ...           ...           ...  ...          ...   \n",
       "32233 -4440425588   -0.044424  1.518061e+09 -1.575477e+06  ...  35750.63159   \n",
       "32234 -4455447380   -0.076612  6.531117e+08 -6.153993e+05  ...  35732.79159   \n",
       "32235 -4445788469   -0.057153  8.909727e+08 -1.535629e+05  ...  35718.09159   \n",
       "32236 -4441738762   -0.056832  8.510489e+08  1.962463e+06  ...  35707.99159   \n",
       "32237 -4443374558   -0.040436  6.948851e+08 -2.534316e+05  ...  35692.66159   \n",
       "\n",
       "           ema_fast    ema_medium      ema_slow        lr      rsi_5  \\\n",
       "0       7879.763903   7890.436477   8137.070233 -0.002523  54.694594   \n",
       "1       7819.842602   7855.811663   8123.621918 -0.022778  83.970505   \n",
       "2       7748.361735   7810.282270   8107.676628 -0.012362  88.796304   \n",
       "3       7669.274490   7755.885493   8089.320424 -0.012477  91.852619   \n",
       "4       7609.216327   7707.379040   8070.852104 -0.002933  92.453006   \n",
       "...             ...           ...           ...       ...        ...   \n",
       "32233  36996.499922  36839.411214  36178.299460 -0.005783  48.483315   \n",
       "32234  36862.666615  36794.972811  36191.121015 -0.008219  62.034701   \n",
       "32235  36853.444410  36802.250482  36210.932676  0.006537  49.182894   \n",
       "32236  36897.629606  36835.659485  36234.780901  0.004091  42.292165   \n",
       "32237  36877.753071  36836.085033  36253.341489 -0.004010  50.746558   \n",
       "\n",
       "          rsi_10    rsi_100  macd_short   macd_long  \n",
       "0      62.862413  58.177953   10.871904   31.873058  \n",
       "1      78.146122  60.860099   -5.426751   34.355233  \n",
       "2      82.430355  62.167022  -21.497215   37.504922  \n",
       "3      85.564709  63.397644  -36.146245   41.269618  \n",
       "4      86.202747  63.676078  -41.976877   44.917996  \n",
       "...          ...        ...         ...         ...  \n",
       "32233  42.133757  52.180247   49.637765 -184.980100  \n",
       "32234  49.562954  52.723389   -8.399734 -191.776968  \n",
       "32235  44.516364  52.247027  -18.423196 -200.438385  \n",
       "32236  41.558209  51.948737  -10.939185 -209.982639  \n",
       "32237  45.502086  52.218812  -23.248759 -217.505398  \n",
       "\n",
       "[32238 rows x 106 columns]"
      ]
     },
     "execution_count": 5,
     "metadata": {},
     "output_type": "execute_result"
    }
   ],
   "source": [
    "dataset = generate_features(data)\n",
    "dataset"
   ]
  },
  {
   "cell_type": "code",
   "execution_count": 6,
   "id": "855ee4ef",
   "metadata": {},
   "outputs": [],
   "source": [
    "X_train, X_test, X_valid, y_train, y_test, y_valid = \\\n",
    "    split_data(data)\n",
    "\n",
    "import os\n",
    "cwd = os.getcwd()\n",
    "train_csv = os.path.join(cwd, 'train.csv')\n",
    "test_csv = os.path.join(cwd, 'test.csv')\n",
    "valid_csv = os.path.join(cwd, 'valid.csv')\n",
    "X_train.to_csv(train_csv, index=False)\n",
    "X_test.to_csv(test_csv, index=False)\n",
    "X_valid.to_csv(valid_csv, index=False)"
   ]
  },
  {
   "cell_type": "code",
   "execution_count": 7,
   "id": "705bd1b4",
   "metadata": {},
   "outputs": [],
   "source": [
    "# Things to understand here:\n",
    "# Writing a Renderer\n",
    "\n",
    "import numpy as np\n",
    "import pandas as pd\n",
    "import matplotlib.pyplot as plt\n",
    "\n",
    "from tensortrade.env.generic import Renderer\n",
    "\n",
    "\n",
    "class PositionChangeChart(Renderer):\n",
    "    def __init__(self, color: str = \"orange\"):\n",
    "        self.color = \"orange\"\n",
    "\n",
    "    def render(self, env, **kwargs):\n",
    "        history = pd.DataFrame(env.observer.renderer_history)\n",
    "\n",
    "        actions = list(history.action)\n",
    "        price = list(history.close)\n",
    "\n",
    "        buy = {}\n",
    "        sell = {}\n",
    "\n",
    "        for i in range(len(actions) - 1):\n",
    "            a1 = actions[i]\n",
    "            a2 = actions[i + 1]\n",
    "\n",
    "            if a1 != a2:\n",
    "                if a1 == 0 and a2 == 1:\n",
    "                    buy[i] = price[i]\n",
    "                else:\n",
    "                    sell[i] = price[i]\n",
    "\n",
    "        buy = pd.Series(buy)\n",
    "        sell = pd.Series(sell)\n",
    "\n",
    "        fig, axs = plt.subplots(1, 2, figsize=(15, 5))\n",
    "\n",
    "        fig.suptitle(\"Performance\")\n",
    "\n",
    "        axs[0].plot(np.arange(len(price)), price, label=\"price\", color=self.color)\n",
    "        axs[0].scatter(buy.index, buy.values, marker=\"^\", color=\"green\")\n",
    "        axs[0].scatter(sell.index, sell.values, marker=\"^\", color=\"red\")\n",
    "        axs[0].set_title(\"Trading Chart\")\n",
    "\n",
    "        performance_df = pd.DataFrame().from_dict(env.action_scheme.portfolio.performance, orient='index')\n",
    "        performance_df.plot(ax=axs[1])\n",
    "        axs[1].set_title(\"Net Worth\")\n",
    "\n",
    "        plt.show()"
   ]
  },
  {
   "cell_type": "code",
   "execution_count": 8,
   "id": "1ae7f27d",
   "metadata": {},
   "outputs": [
    {
     "name": "stderr",
     "output_type": "stream",
     "text": [
      "2022-01-27 00:36:47,551\tINFO services.py:1340 -- View the Ray dashboard at \u001b[1m\u001b[32mhttp://127.0.0.1:8265\u001b[39m\u001b[22m\n",
      "2022-01-27 00:36:47,556\tWARNING services.py:1826 -- WARNING: The object store is using /tmp instead of /dev/shm because /dev/shm has only 67108864 bytes available. This will harm performance! You may be able to free up space by deleting files in /dev/shm. If you are inside a Docker container, you can increase /dev/shm size by passing '--shm-size=1.98gb' to 'docker run' (or add it to the run_options list in a Ray cluster config). Make sure to set this to more than 30% of available RAM.\n"
     ]
    }
   ],
   "source": [
    "# Things to understand here:\n",
    "# execution_order\n",
    "# Types of execution logic\n",
    "# Exchange\n",
    "# DataFeed\n",
    "# renderer_feed\n",
    "# default (env)\n",
    "\n",
    "import ray\n",
    "import numpy as np\n",
    "import pandas as pd\n",
    "\n",
    "from ray import tune\n",
    "from ray.tune.registry import register_env\n",
    "\n",
    "import tensortrade.env.default as default\n",
    "\n",
    "from tensortrade.env.default.rewards import PBR, RiskAdjustedReturns, SimpleProfit\n",
    "from tensortrade.env.default.actions import BSH, ManagedRiskOrders\n",
    "from tensortrade.feed.core import DataFeed, Stream\n",
    "from tensortrade.oms.exchanges import Exchange, ExchangeOptions\n",
    "from tensortrade.oms.instruments import USD, BTC\n",
    "from tensortrade.oms.services.execution.simulated import execute_order\n",
    "from tensortrade.oms.wallets import Wallet, Portfolio\n",
    "\n",
    "\n",
    "def create_env(config):\n",
    "    data = pd.read_csv(filepath_or_buffer=config[\"csv_filename\"], \n",
    "                       parse_dates=['date']).fillna(method='backfill').fillna(method='ffill')\n",
    "\n",
    "    commission = 0.1  # TODO: adjust according to your commission percentage, if present\n",
    "    price = Stream.source(list(data[\"close\"]), dtype=\"float\").rename(\"USD-BTC\")\n",
    "    bitstamp_options = ExchangeOptions(commission=commission)\n",
    "    bitstamp = Exchange(\"bitstamp\", service=execute_order, options=bitstamp_options)(price)\n",
    "\n",
    "    cash = Wallet(bitstamp, 10000 * USD)\n",
    "    asset = Wallet(bitstamp, 0 * BTC)\n",
    "\n",
    "    portfolio = Portfolio(USD, [cash, asset])\n",
    "\n",
    "    features = []\n",
    "    for c in data.columns[1:]:\n",
    "        s = Stream.source(list(data[c]), dtype=\"float\").rename(data[c].name)\n",
    "        features += [s]\n",
    "\n",
    "    cp = Stream.select(features, lambda s: s.name == \"close\")\n",
    "\n",
    "    feed = DataFeed(features)\n",
    "    feed.compile()\n",
    "\n",
    "    reward_scheme = PBR(price=price)\n",
    "\n",
    "    action_scheme = BSH(\n",
    "        cash=cash,\n",
    "        asset=asset\n",
    "    ).attach(reward_scheme)\n",
    "\n",
    "    renderer_feed = DataFeed([\n",
    "        Stream.source(list(data[\"date\"])).rename(\"date\"),\n",
    "        Stream.source(list(data[\"open\"]), dtype=\"float\").rename(\"open\"),\n",
    "        Stream.source(list(data[\"high\"]), dtype=\"float\").rename(\"high\"),\n",
    "        Stream.source(list(data[\"low\"]), dtype=\"float\").rename(\"low\"),\n",
    "        Stream.source(list(data[\"close\"]), dtype=\"float\").rename(\"close\"), \n",
    "        Stream.source(list(data[\"volume\"]), dtype=\"float\").rename(\"volume\"), \n",
    "        Stream.sensor(action_scheme, lambda s: s.action, dtype=\"float\").rename(\"action\")\n",
    "    ])\n",
    "\n",
    "    environment = default.create(\n",
    "        feed=feed,\n",
    "        portfolio=portfolio,\n",
    "        action_scheme=action_scheme,\n",
    "        reward_scheme=reward_scheme,\n",
    "        renderer_feed=renderer_feed,\n",
    "        renderer=PositionChangeChart(),\n",
    "        window_size=config[\"window_size\"],\n",
    "        max_allowed_loss=0.6\n",
    "    )\n",
    "    return environment\n",
    "\n",
    "ray.init(include_dashboard=True, ignore_reinit_error=True)\n",
    "\n",
    "register_env(\"TradingEnv\", create_env)"
   ]
  },
  {
   "cell_type": "code",
   "execution_count": 9,
   "id": "18ac068f",
   "metadata": {},
   "outputs": [],
   "source": [
    "# Setting this flag to true will wrap the model in an LSTM\n",
    "use_lstm = True\n",
    "\n",
    "# Determine the size of the LSTM cell which will correspond to the size of the hidden state output of the LSTM\n",
    "lstm_cell_size = 512"
   ]
  },
  {
   "cell_type": "code",
   "execution_count": 10,
   "id": "1082cb70",
   "metadata": {},
   "outputs": [
    {
     "data": {
      "text/html": [
       "== Status ==<br>Current time: 2022-01-27 00:36:50 (running for 00:00:00.24)<br>Memory usage on this node: 3.4/7.7 GiB<br>Using FIFO scheduling algorithm.<br>Resources requested: 0/8 CPUs, 0/1 GPUs, 0.0/3.59 GiB heap, 0.0/1.8 GiB objects (0.0/1.0 accelerator_type:GT)<br>Result logdir: /root/ray_results/PPO<br>Number of trials: 1/1 (1 PENDING)<br><table>\n",
       "<thead>\n",
       "<tr><th>Trial name                </th><th>status  </th><th>loc  </th></tr>\n",
       "</thead>\n",
       "<tbody>\n",
       "<tr><td>PPO_TradingEnv_36bfe_00000</td><td>PENDING </td><td>     </td></tr>\n",
       "</tbody>\n",
       "</table><br><br>"
      ],
      "text/plain": [
       "<IPython.core.display.HTML object>"
      ]
     },
     "metadata": {},
     "output_type": "display_data"
    },
    {
     "name": "stderr",
     "output_type": "stream",
     "text": [
      "2022-01-27 00:36:51,126\tERROR syncer.py:111 -- Log sync requires rsync to be installed.\n",
      "\u001b[2m\u001b[36m(PPO pid=5590)\u001b[0m 2022-01-27 00:36:55,871\tINFO ppo.py:167 -- In multi-agent mode, policies will be optimized sequentially by the multi-GPU optimizer. Consider setting simple_optimizer=True if this doesn't work for you.\n",
      "\u001b[2m\u001b[36m(PPO pid=5590)\u001b[0m 2022-01-27 00:36:55,871\tINFO trainer.py:745 -- Current log_level is ERROR. For more information, set 'log_level': 'INFO' / 'DEBUG' or use the -v and -vv flags.\n",
      "\u001b[2m\u001b[36m(RolloutWorker pid=5588)\u001b[0m /usr/local/lib/python3.6/dist-packages/gym/logger.py:30: UserWarning:\n",
      "\u001b[2m\u001b[36m(RolloutWorker pid=5588)\u001b[0m \n",
      "\u001b[2m\u001b[36m(RolloutWorker pid=5588)\u001b[0m \u001b[33mWARN: Box bound precision lowered by casting to float32\u001b[0m\n",
      "\u001b[2m\u001b[36m(RolloutWorker pid=5588)\u001b[0m \n",
      "\u001b[2m\u001b[36m(RolloutWorker pid=5594)\u001b[0m /usr/local/lib/python3.6/dist-packages/gym/logger.py:30: UserWarning:\n",
      "\u001b[2m\u001b[36m(RolloutWorker pid=5594)\u001b[0m \n",
      "\u001b[2m\u001b[36m(RolloutWorker pid=5594)\u001b[0m \u001b[33mWARN: Box bound precision lowered by casting to float32\u001b[0m\n",
      "\u001b[2m\u001b[36m(RolloutWorker pid=5594)\u001b[0m \n",
      "\u001b[2m\u001b[36m(PPO pid=5590)\u001b[0m /usr/local/lib/python3.6/dist-packages/gym/logger.py:30: UserWarning:\n",
      "\u001b[2m\u001b[36m(PPO pid=5590)\u001b[0m \n",
      "\u001b[2m\u001b[36m(PPO pid=5590)\u001b[0m \u001b[33mWARN: Box bound precision lowered by casting to float32\u001b[0m\n",
      "\u001b[2m\u001b[36m(PPO pid=5590)\u001b[0m \n",
      "\u001b[2m\u001b[36m(RolloutWorker pid=5588)\u001b[0m /usr/local/lib/python3.6/dist-packages/ray/rllib/utils/numpy.py:140: FutureWarning:\n",
      "\u001b[2m\u001b[36m(RolloutWorker pid=5588)\u001b[0m \n",
      "\u001b[2m\u001b[36m(RolloutWorker pid=5588)\u001b[0m Conversion of the second argument of issubdtype from `int` to `np.signedinteger` is deprecated. In future, it will be treated as `np.int64 == np.dtype(int).type`.\n",
      "\u001b[2m\u001b[36m(RolloutWorker pid=5588)\u001b[0m \n",
      "\u001b[2m\u001b[36m(RolloutWorker pid=5594)\u001b[0m /usr/local/lib/python3.6/dist-packages/ray/rllib/utils/numpy.py:140: FutureWarning:\n",
      "\u001b[2m\u001b[36m(RolloutWorker pid=5594)\u001b[0m \n",
      "\u001b[2m\u001b[36m(RolloutWorker pid=5594)\u001b[0m Conversion of the second argument of issubdtype from `int` to `np.signedinteger` is deprecated. In future, it will be treated as `np.int64 == np.dtype(int).type`.\n",
      "\u001b[2m\u001b[36m(RolloutWorker pid=5594)\u001b[0m \n"
     ]
    },
    {
     "data": {
      "text/html": [
       "== Status ==<br>Current time: 2022-01-27 00:37:03 (running for 00:00:12.40)<br>Memory usage on this node: 4.3/7.7 GiB<br>Using FIFO scheduling algorithm.<br>Resources requested: 3.0/8 CPUs, 0/1 GPUs, 0.0/3.59 GiB heap, 0.0/1.8 GiB objects (0.0/1.0 accelerator_type:GT)<br>Result logdir: /root/ray_results/PPO<br>Number of trials: 1/1 (1 RUNNING)<br><table>\n",
       "<thead>\n",
       "<tr><th>Trial name                </th><th>status  </th><th>loc            </th></tr>\n",
       "</thead>\n",
       "<tbody>\n",
       "<tr><td>PPO_TradingEnv_36bfe_00000</td><td>RUNNING </td><td>172.17.0.2:5590</td></tr>\n",
       "</tbody>\n",
       "</table><br><br>"
      ],
      "text/plain": [
       "<IPython.core.display.HTML object>"
      ]
     },
     "metadata": {},
     "output_type": "display_data"
    },
    {
     "name": "stderr",
     "output_type": "stream",
     "text": [
      "\u001b[2m\u001b[36m(PPO pid=5590)\u001b[0m /usr/local/lib/python3.6/dist-packages/ray/rllib/utils/numpy.py:140: FutureWarning:\n",
      "\u001b[2m\u001b[36m(PPO pid=5590)\u001b[0m \n",
      "\u001b[2m\u001b[36m(PPO pid=5590)\u001b[0m Conversion of the second argument of issubdtype from `int` to `np.signedinteger` is deprecated. In future, it will be treated as `np.int64 == np.dtype(int).type`.\n",
      "\u001b[2m\u001b[36m(PPO pid=5590)\u001b[0m \n",
      "\u001b[2m\u001b[36m(PPO pid=5590)\u001b[0m 2022-01-27 00:37:03,074\tWARNING util.py:57 -- Install gputil for GPU system monitoring.\n",
      "\u001b[2m\u001b[36m(RolloutWorker pid=5588)\u001b[0m /usr/local/lib/python3.6/dist-packages/ray/rllib/utils/numpy.py:140: FutureWarning:\n",
      "\u001b[2m\u001b[36m(RolloutWorker pid=5588)\u001b[0m \n",
      "\u001b[2m\u001b[36m(RolloutWorker pid=5588)\u001b[0m Conversion of the second argument of issubdtype from `int` to `np.signedinteger` is deprecated. In future, it will be treated as `np.int64 == np.dtype(int).type`.\n",
      "\u001b[2m\u001b[36m(RolloutWorker pid=5588)\u001b[0m \n",
      "\u001b[2m\u001b[36m(RolloutWorker pid=5594)\u001b[0m /usr/local/lib/python3.6/dist-packages/ray/rllib/utils/numpy.py:140: FutureWarning:\n",
      "\u001b[2m\u001b[36m(RolloutWorker pid=5594)\u001b[0m \n",
      "\u001b[2m\u001b[36m(RolloutWorker pid=5594)\u001b[0m Conversion of the second argument of issubdtype from `int` to `np.signedinteger` is deprecated. In future, it will be treated as `np.int64 == np.dtype(int).type`.\n",
      "\u001b[2m\u001b[36m(RolloutWorker pid=5594)\u001b[0m \n"
     ]
    },
    {
     "data": {
      "text/html": [
       "== Status ==<br>Current time: 2022-01-27 00:37:04 (running for 00:00:13.41)<br>Memory usage on this node: 4.3/7.7 GiB<br>Using FIFO scheduling algorithm.<br>Resources requested: 3.0/8 CPUs, 0/1 GPUs, 0.0/3.59 GiB heap, 0.0/1.8 GiB objects (0.0/1.0 accelerator_type:GT)<br>Result logdir: /root/ray_results/PPO<br>Number of trials: 1/1 (1 RUNNING)<br><table>\n",
       "<thead>\n",
       "<tr><th>Trial name                </th><th>status  </th><th>loc            </th></tr>\n",
       "</thead>\n",
       "<tbody>\n",
       "<tr><td>PPO_TradingEnv_36bfe_00000</td><td>RUNNING </td><td>172.17.0.2:5590</td></tr>\n",
       "</tbody>\n",
       "</table><br><br>"
      ],
      "text/plain": [
       "<IPython.core.display.HTML object>"
      ]
     },
     "metadata": {},
     "output_type": "display_data"
    },
    {
     "data": {
      "text/html": [
       "== Status ==<br>Current time: 2022-01-27 00:37:09 (running for 00:00:18.41)<br>Memory usage on this node: 4.3/7.7 GiB<br>Using FIFO scheduling algorithm.<br>Resources requested: 3.0/8 CPUs, 0/1 GPUs, 0.0/3.59 GiB heap, 0.0/1.8 GiB objects (0.0/1.0 accelerator_type:GT)<br>Result logdir: /root/ray_results/PPO<br>Number of trials: 1/1 (1 RUNNING)<br><table>\n",
       "<thead>\n",
       "<tr><th>Trial name                </th><th>status  </th><th>loc            </th></tr>\n",
       "</thead>\n",
       "<tbody>\n",
       "<tr><td>PPO_TradingEnv_36bfe_00000</td><td>RUNNING </td><td>172.17.0.2:5590</td></tr>\n",
       "</tbody>\n",
       "</table><br><br>"
      ],
      "text/plain": [
       "<IPython.core.display.HTML object>"
      ]
     },
     "metadata": {},
     "output_type": "display_data"
    },
    {
     "data": {
      "text/html": [
       "== Status ==<br>Current time: 2022-01-27 00:37:14 (running for 00:00:23.42)<br>Memory usage on this node: 4.4/7.7 GiB<br>Using FIFO scheduling algorithm.<br>Resources requested: 3.0/8 CPUs, 0/1 GPUs, 0.0/3.59 GiB heap, 0.0/1.8 GiB objects (0.0/1.0 accelerator_type:GT)<br>Result logdir: /root/ray_results/PPO<br>Number of trials: 1/1 (1 RUNNING)<br><table>\n",
       "<thead>\n",
       "<tr><th>Trial name                </th><th>status  </th><th>loc            </th></tr>\n",
       "</thead>\n",
       "<tbody>\n",
       "<tr><td>PPO_TradingEnv_36bfe_00000</td><td>RUNNING </td><td>172.17.0.2:5590</td></tr>\n",
       "</tbody>\n",
       "</table><br><br>"
      ],
      "text/plain": [
       "<IPython.core.display.HTML object>"
      ]
     },
     "metadata": {},
     "output_type": "display_data"
    },
    {
     "data": {
      "text/html": [
       "== Status ==<br>Current time: 2022-01-27 00:37:19 (running for 00:00:28.43)<br>Memory usage on this node: 4.4/7.7 GiB<br>Using FIFO scheduling algorithm.<br>Resources requested: 3.0/8 CPUs, 0/1 GPUs, 0.0/3.59 GiB heap, 0.0/1.8 GiB objects (0.0/1.0 accelerator_type:GT)<br>Result logdir: /root/ray_results/PPO<br>Number of trials: 1/1 (1 RUNNING)<br><table>\n",
       "<thead>\n",
       "<tr><th>Trial name                </th><th>status  </th><th>loc            </th></tr>\n",
       "</thead>\n",
       "<tbody>\n",
       "<tr><td>PPO_TradingEnv_36bfe_00000</td><td>RUNNING </td><td>172.17.0.2:5590</td></tr>\n",
       "</tbody>\n",
       "</table><br><br>"
      ],
      "text/plain": [
       "<IPython.core.display.HTML object>"
      ]
     },
     "metadata": {},
     "output_type": "display_data"
    },
    {
     "data": {
      "text/html": [
       "== Status ==<br>Current time: 2022-01-27 00:37:24 (running for 00:00:33.44)<br>Memory usage on this node: 4.4/7.7 GiB<br>Using FIFO scheduling algorithm.<br>Resources requested: 3.0/8 CPUs, 0/1 GPUs, 0.0/3.59 GiB heap, 0.0/1.8 GiB objects (0.0/1.0 accelerator_type:GT)<br>Result logdir: /root/ray_results/PPO<br>Number of trials: 1/1 (1 RUNNING)<br><table>\n",
       "<thead>\n",
       "<tr><th>Trial name                </th><th>status  </th><th>loc            </th></tr>\n",
       "</thead>\n",
       "<tbody>\n",
       "<tr><td>PPO_TradingEnv_36bfe_00000</td><td>RUNNING </td><td>172.17.0.2:5590</td></tr>\n",
       "</tbody>\n",
       "</table><br><br>"
      ],
      "text/plain": [
       "<IPython.core.display.HTML object>"
      ]
     },
     "metadata": {},
     "output_type": "display_data"
    },
    {
     "data": {
      "text/html": [
       "== Status ==<br>Current time: 2022-01-27 00:37:29 (running for 00:00:38.44)<br>Memory usage on this node: 4.4/7.7 GiB<br>Using FIFO scheduling algorithm.<br>Resources requested: 3.0/8 CPUs, 0/1 GPUs, 0.0/3.59 GiB heap, 0.0/1.8 GiB objects (0.0/1.0 accelerator_type:GT)<br>Result logdir: /root/ray_results/PPO<br>Number of trials: 1/1 (1 RUNNING)<br><table>\n",
       "<thead>\n",
       "<tr><th>Trial name                </th><th>status  </th><th>loc            </th></tr>\n",
       "</thead>\n",
       "<tbody>\n",
       "<tr><td>PPO_TradingEnv_36bfe_00000</td><td>RUNNING </td><td>172.17.0.2:5590</td></tr>\n",
       "</tbody>\n",
       "</table><br><br>"
      ],
      "text/plain": [
       "<IPython.core.display.HTML object>"
      ]
     },
     "metadata": {},
     "output_type": "display_data"
    },
    {
     "data": {
      "text/html": [
       "== Status ==<br>Current time: 2022-01-27 00:37:34 (running for 00:00:43.45)<br>Memory usage on this node: 4.4/7.7 GiB<br>Using FIFO scheduling algorithm.<br>Resources requested: 3.0/8 CPUs, 0/1 GPUs, 0.0/3.59 GiB heap, 0.0/1.8 GiB objects (0.0/1.0 accelerator_type:GT)<br>Result logdir: /root/ray_results/PPO<br>Number of trials: 1/1 (1 RUNNING)<br><table>\n",
       "<thead>\n",
       "<tr><th>Trial name                </th><th>status  </th><th>loc            </th></tr>\n",
       "</thead>\n",
       "<tbody>\n",
       "<tr><td>PPO_TradingEnv_36bfe_00000</td><td>RUNNING </td><td>172.17.0.2:5590</td></tr>\n",
       "</tbody>\n",
       "</table><br><br>"
      ],
      "text/plain": [
       "<IPython.core.display.HTML object>"
      ]
     },
     "metadata": {},
     "output_type": "display_data"
    },
    {
     "data": {
      "text/html": [
       "== Status ==<br>Current time: 2022-01-27 00:37:39 (running for 00:00:48.46)<br>Memory usage on this node: 4.4/7.7 GiB<br>Using FIFO scheduling algorithm.<br>Resources requested: 3.0/8 CPUs, 0/1 GPUs, 0.0/3.59 GiB heap, 0.0/1.8 GiB objects (0.0/1.0 accelerator_type:GT)<br>Result logdir: /root/ray_results/PPO<br>Number of trials: 1/1 (1 RUNNING)<br><table>\n",
       "<thead>\n",
       "<tr><th>Trial name                </th><th>status  </th><th>loc            </th></tr>\n",
       "</thead>\n",
       "<tbody>\n",
       "<tr><td>PPO_TradingEnv_36bfe_00000</td><td>RUNNING </td><td>172.17.0.2:5590</td></tr>\n",
       "</tbody>\n",
       "</table><br><br>"
      ],
      "text/plain": [
       "<IPython.core.display.HTML object>"
      ]
     },
     "metadata": {},
     "output_type": "display_data"
    },
    {
     "data": {
      "text/html": [
       "== Status ==<br>Current time: 2022-01-27 00:37:44 (running for 00:00:53.46)<br>Memory usage on this node: 4.4/7.7 GiB<br>Using FIFO scheduling algorithm.<br>Resources requested: 3.0/8 CPUs, 0/1 GPUs, 0.0/3.59 GiB heap, 0.0/1.8 GiB objects (0.0/1.0 accelerator_type:GT)<br>Result logdir: /root/ray_results/PPO<br>Number of trials: 1/1 (1 RUNNING)<br><table>\n",
       "<thead>\n",
       "<tr><th>Trial name                </th><th>status  </th><th>loc            </th></tr>\n",
       "</thead>\n",
       "<tbody>\n",
       "<tr><td>PPO_TradingEnv_36bfe_00000</td><td>RUNNING </td><td>172.17.0.2:5590</td></tr>\n",
       "</tbody>\n",
       "</table><br><br>"
      ],
      "text/plain": [
       "<IPython.core.display.HTML object>"
      ]
     },
     "metadata": {},
     "output_type": "display_data"
    },
    {
     "data": {
      "text/html": [
       "== Status ==<br>Current time: 2022-01-27 00:37:49 (running for 00:00:58.47)<br>Memory usage on this node: 4.4/7.7 GiB<br>Using FIFO scheduling algorithm.<br>Resources requested: 3.0/8 CPUs, 0/1 GPUs, 0.0/3.59 GiB heap, 0.0/1.8 GiB objects (0.0/1.0 accelerator_type:GT)<br>Result logdir: /root/ray_results/PPO<br>Number of trials: 1/1 (1 RUNNING)<br><table>\n",
       "<thead>\n",
       "<tr><th>Trial name                </th><th>status  </th><th>loc            </th></tr>\n",
       "</thead>\n",
       "<tbody>\n",
       "<tr><td>PPO_TradingEnv_36bfe_00000</td><td>RUNNING </td><td>172.17.0.2:5590</td></tr>\n",
       "</tbody>\n",
       "</table><br><br>"
      ],
      "text/plain": [
       "<IPython.core.display.HTML object>"
      ]
     },
     "metadata": {},
     "output_type": "display_data"
    },
    {
     "data": {
      "text/html": [
       "== Status ==<br>Current time: 2022-01-27 00:37:54 (running for 00:01:03.48)<br>Memory usage on this node: 4.4/7.7 GiB<br>Using FIFO scheduling algorithm.<br>Resources requested: 3.0/8 CPUs, 0/1 GPUs, 0.0/3.59 GiB heap, 0.0/1.8 GiB objects (0.0/1.0 accelerator_type:GT)<br>Result logdir: /root/ray_results/PPO<br>Number of trials: 1/1 (1 RUNNING)<br><table>\n",
       "<thead>\n",
       "<tr><th>Trial name                </th><th>status  </th><th>loc            </th></tr>\n",
       "</thead>\n",
       "<tbody>\n",
       "<tr><td>PPO_TradingEnv_36bfe_00000</td><td>RUNNING </td><td>172.17.0.2:5590</td></tr>\n",
       "</tbody>\n",
       "</table><br><br>"
      ],
      "text/plain": [
       "<IPython.core.display.HTML object>"
      ]
     },
     "metadata": {},
     "output_type": "display_data"
    },
    {
     "data": {
      "text/html": [
       "== Status ==<br>Current time: 2022-01-27 00:37:59 (running for 00:01:08.48)<br>Memory usage on this node: 4.4/7.7 GiB<br>Using FIFO scheduling algorithm.<br>Resources requested: 3.0/8 CPUs, 0/1 GPUs, 0.0/3.59 GiB heap, 0.0/1.8 GiB objects (0.0/1.0 accelerator_type:GT)<br>Result logdir: /root/ray_results/PPO<br>Number of trials: 1/1 (1 RUNNING)<br><table>\n",
       "<thead>\n",
       "<tr><th>Trial name                </th><th>status  </th><th>loc            </th></tr>\n",
       "</thead>\n",
       "<tbody>\n",
       "<tr><td>PPO_TradingEnv_36bfe_00000</td><td>RUNNING </td><td>172.17.0.2:5590</td></tr>\n",
       "</tbody>\n",
       "</table><br><br>"
      ],
      "text/plain": [
       "<IPython.core.display.HTML object>"
      ]
     },
     "metadata": {},
     "output_type": "display_data"
    },
    {
     "data": {
      "text/html": [
       "== Status ==<br>Current time: 2022-01-27 00:38:04 (running for 00:01:13.49)<br>Memory usage on this node: 4.4/7.7 GiB<br>Using FIFO scheduling algorithm.<br>Resources requested: 3.0/8 CPUs, 0/1 GPUs, 0.0/3.59 GiB heap, 0.0/1.8 GiB objects (0.0/1.0 accelerator_type:GT)<br>Result logdir: /root/ray_results/PPO<br>Number of trials: 1/1 (1 RUNNING)<br><table>\n",
       "<thead>\n",
       "<tr><th>Trial name                </th><th>status  </th><th>loc            </th></tr>\n",
       "</thead>\n",
       "<tbody>\n",
       "<tr><td>PPO_TradingEnv_36bfe_00000</td><td>RUNNING </td><td>172.17.0.2:5590</td></tr>\n",
       "</tbody>\n",
       "</table><br><br>"
      ],
      "text/plain": [
       "<IPython.core.display.HTML object>"
      ]
     },
     "metadata": {},
     "output_type": "display_data"
    },
    {
     "data": {
      "text/html": [
       "== Status ==<br>Current time: 2022-01-27 00:38:09 (running for 00:01:18.50)<br>Memory usage on this node: 4.4/7.7 GiB<br>Using FIFO scheduling algorithm.<br>Resources requested: 3.0/8 CPUs, 0/1 GPUs, 0.0/3.59 GiB heap, 0.0/1.8 GiB objects (0.0/1.0 accelerator_type:GT)<br>Result logdir: /root/ray_results/PPO<br>Number of trials: 1/1 (1 RUNNING)<br><table>\n",
       "<thead>\n",
       "<tr><th>Trial name                </th><th>status  </th><th>loc            </th></tr>\n",
       "</thead>\n",
       "<tbody>\n",
       "<tr><td>PPO_TradingEnv_36bfe_00000</td><td>RUNNING </td><td>172.17.0.2:5590</td></tr>\n",
       "</tbody>\n",
       "</table><br><br>"
      ],
      "text/plain": [
       "<IPython.core.display.HTML object>"
      ]
     },
     "metadata": {},
     "output_type": "display_data"
    },
    {
     "data": {
      "text/html": [
       "== Status ==<br>Current time: 2022-01-27 00:38:14 (running for 00:01:23.51)<br>Memory usage on this node: 4.4/7.7 GiB<br>Using FIFO scheduling algorithm.<br>Resources requested: 3.0/8 CPUs, 0/1 GPUs, 0.0/3.59 GiB heap, 0.0/1.8 GiB objects (0.0/1.0 accelerator_type:GT)<br>Result logdir: /root/ray_results/PPO<br>Number of trials: 1/1 (1 RUNNING)<br><table>\n",
       "<thead>\n",
       "<tr><th>Trial name                </th><th>status  </th><th>loc            </th></tr>\n",
       "</thead>\n",
       "<tbody>\n",
       "<tr><td>PPO_TradingEnv_36bfe_00000</td><td>RUNNING </td><td>172.17.0.2:5590</td></tr>\n",
       "</tbody>\n",
       "</table><br><br>"
      ],
      "text/plain": [
       "<IPython.core.display.HTML object>"
      ]
     },
     "metadata": {},
     "output_type": "display_data"
    },
    {
     "data": {
      "text/html": [
       "== Status ==<br>Current time: 2022-01-27 00:38:19 (running for 00:01:28.51)<br>Memory usage on this node: 4.4/7.7 GiB<br>Using FIFO scheduling algorithm.<br>Resources requested: 3.0/8 CPUs, 0/1 GPUs, 0.0/3.59 GiB heap, 0.0/1.8 GiB objects (0.0/1.0 accelerator_type:GT)<br>Result logdir: /root/ray_results/PPO<br>Number of trials: 1/1 (1 RUNNING)<br><table>\n",
       "<thead>\n",
       "<tr><th>Trial name                </th><th>status  </th><th>loc            </th></tr>\n",
       "</thead>\n",
       "<tbody>\n",
       "<tr><td>PPO_TradingEnv_36bfe_00000</td><td>RUNNING </td><td>172.17.0.2:5590</td></tr>\n",
       "</tbody>\n",
       "</table><br><br>"
      ],
      "text/plain": [
       "<IPython.core.display.HTML object>"
      ]
     },
     "metadata": {},
     "output_type": "display_data"
    },
    {
     "data": {
      "text/html": [
       "== Status ==<br>Current time: 2022-01-27 00:38:24 (running for 00:01:33.52)<br>Memory usage on this node: 4.4/7.7 GiB<br>Using FIFO scheduling algorithm.<br>Resources requested: 3.0/8 CPUs, 0/1 GPUs, 0.0/3.59 GiB heap, 0.0/1.8 GiB objects (0.0/1.0 accelerator_type:GT)<br>Result logdir: /root/ray_results/PPO<br>Number of trials: 1/1 (1 RUNNING)<br><table>\n",
       "<thead>\n",
       "<tr><th>Trial name                </th><th>status  </th><th>loc            </th></tr>\n",
       "</thead>\n",
       "<tbody>\n",
       "<tr><td>PPO_TradingEnv_36bfe_00000</td><td>RUNNING </td><td>172.17.0.2:5590</td></tr>\n",
       "</tbody>\n",
       "</table><br><br>"
      ],
      "text/plain": [
       "<IPython.core.display.HTML object>"
      ]
     },
     "metadata": {},
     "output_type": "display_data"
    },
    {
     "data": {
      "text/html": [
       "== Status ==<br>Current time: 2022-01-27 00:38:29 (running for 00:01:38.52)<br>Memory usage on this node: 4.4/7.7 GiB<br>Using FIFO scheduling algorithm.<br>Resources requested: 3.0/8 CPUs, 0/1 GPUs, 0.0/3.59 GiB heap, 0.0/1.8 GiB objects (0.0/1.0 accelerator_type:GT)<br>Result logdir: /root/ray_results/PPO<br>Number of trials: 1/1 (1 RUNNING)<br><table>\n",
       "<thead>\n",
       "<tr><th>Trial name                </th><th>status  </th><th>loc            </th></tr>\n",
       "</thead>\n",
       "<tbody>\n",
       "<tr><td>PPO_TradingEnv_36bfe_00000</td><td>RUNNING </td><td>172.17.0.2:5590</td></tr>\n",
       "</tbody>\n",
       "</table><br><br>"
      ],
      "text/plain": [
       "<IPython.core.display.HTML object>"
      ]
     },
     "metadata": {},
     "output_type": "display_data"
    },
    {
     "data": {
      "text/html": [
       "== Status ==<br>Current time: 2022-01-27 00:38:34 (running for 00:01:43.53)<br>Memory usage on this node: 4.4/7.7 GiB<br>Using FIFO scheduling algorithm.<br>Resources requested: 3.0/8 CPUs, 0/1 GPUs, 0.0/3.59 GiB heap, 0.0/1.8 GiB objects (0.0/1.0 accelerator_type:GT)<br>Result logdir: /root/ray_results/PPO<br>Number of trials: 1/1 (1 RUNNING)<br><table>\n",
       "<thead>\n",
       "<tr><th>Trial name                </th><th>status  </th><th>loc            </th></tr>\n",
       "</thead>\n",
       "<tbody>\n",
       "<tr><td>PPO_TradingEnv_36bfe_00000</td><td>RUNNING </td><td>172.17.0.2:5590</td></tr>\n",
       "</tbody>\n",
       "</table><br><br>"
      ],
      "text/plain": [
       "<IPython.core.display.HTML object>"
      ]
     },
     "metadata": {},
     "output_type": "display_data"
    },
    {
     "data": {
      "text/html": [
       "== Status ==<br>Current time: 2022-01-27 00:38:39 (running for 00:01:48.54)<br>Memory usage on this node: 4.4/7.7 GiB<br>Using FIFO scheduling algorithm.<br>Resources requested: 3.0/8 CPUs, 0/1 GPUs, 0.0/3.59 GiB heap, 0.0/1.8 GiB objects (0.0/1.0 accelerator_type:GT)<br>Result logdir: /root/ray_results/PPO<br>Number of trials: 1/1 (1 RUNNING)<br><table>\n",
       "<thead>\n",
       "<tr><th>Trial name                </th><th>status  </th><th>loc            </th></tr>\n",
       "</thead>\n",
       "<tbody>\n",
       "<tr><td>PPO_TradingEnv_36bfe_00000</td><td>RUNNING </td><td>172.17.0.2:5590</td></tr>\n",
       "</tbody>\n",
       "</table><br><br>"
      ],
      "text/plain": [
       "<IPython.core.display.HTML object>"
      ]
     },
     "metadata": {},
     "output_type": "display_data"
    },
    {
     "data": {
      "text/html": [
       "== Status ==<br>Current time: 2022-01-27 00:38:44 (running for 00:01:53.55)<br>Memory usage on this node: 4.4/7.7 GiB<br>Using FIFO scheduling algorithm.<br>Resources requested: 3.0/8 CPUs, 0/1 GPUs, 0.0/3.59 GiB heap, 0.0/1.8 GiB objects (0.0/1.0 accelerator_type:GT)<br>Result logdir: /root/ray_results/PPO<br>Number of trials: 1/1 (1 RUNNING)<br><table>\n",
       "<thead>\n",
       "<tr><th>Trial name                </th><th>status  </th><th>loc            </th></tr>\n",
       "</thead>\n",
       "<tbody>\n",
       "<tr><td>PPO_TradingEnv_36bfe_00000</td><td>RUNNING </td><td>172.17.0.2:5590</td></tr>\n",
       "</tbody>\n",
       "</table><br><br>"
      ],
      "text/plain": [
       "<IPython.core.display.HTML object>"
      ]
     },
     "metadata": {},
     "output_type": "display_data"
    },
    {
     "data": {
      "text/html": [
       "== Status ==<br>Current time: 2022-01-27 00:38:49 (running for 00:01:58.55)<br>Memory usage on this node: 4.4/7.7 GiB<br>Using FIFO scheduling algorithm.<br>Resources requested: 3.0/8 CPUs, 0/1 GPUs, 0.0/3.59 GiB heap, 0.0/1.8 GiB objects (0.0/1.0 accelerator_type:GT)<br>Result logdir: /root/ray_results/PPO<br>Number of trials: 1/1 (1 RUNNING)<br><table>\n",
       "<thead>\n",
       "<tr><th>Trial name                </th><th>status  </th><th>loc            </th></tr>\n",
       "</thead>\n",
       "<tbody>\n",
       "<tr><td>PPO_TradingEnv_36bfe_00000</td><td>RUNNING </td><td>172.17.0.2:5590</td></tr>\n",
       "</tbody>\n",
       "</table><br><br>"
      ],
      "text/plain": [
       "<IPython.core.display.HTML object>"
      ]
     },
     "metadata": {},
     "output_type": "display_data"
    },
    {
     "data": {
      "text/html": [
       "== Status ==<br>Current time: 2022-01-27 00:38:54 (running for 00:02:03.56)<br>Memory usage on this node: 4.4/7.7 GiB<br>Using FIFO scheduling algorithm.<br>Resources requested: 3.0/8 CPUs, 0/1 GPUs, 0.0/3.59 GiB heap, 0.0/1.8 GiB objects (0.0/1.0 accelerator_type:GT)<br>Result logdir: /root/ray_results/PPO<br>Number of trials: 1/1 (1 RUNNING)<br><table>\n",
       "<thead>\n",
       "<tr><th>Trial name                </th><th>status  </th><th>loc            </th></tr>\n",
       "</thead>\n",
       "<tbody>\n",
       "<tr><td>PPO_TradingEnv_36bfe_00000</td><td>RUNNING </td><td>172.17.0.2:5590</td></tr>\n",
       "</tbody>\n",
       "</table><br><br>"
      ],
      "text/plain": [
       "<IPython.core.display.HTML object>"
      ]
     },
     "metadata": {},
     "output_type": "display_data"
    },
    {
     "data": {
      "text/html": [
       "== Status ==<br>Current time: 2022-01-27 00:38:59 (running for 00:02:08.56)<br>Memory usage on this node: 4.4/7.7 GiB<br>Using FIFO scheduling algorithm.<br>Resources requested: 3.0/8 CPUs, 0/1 GPUs, 0.0/3.59 GiB heap, 0.0/1.8 GiB objects (0.0/1.0 accelerator_type:GT)<br>Result logdir: /root/ray_results/PPO<br>Number of trials: 1/1 (1 RUNNING)<br><table>\n",
       "<thead>\n",
       "<tr><th>Trial name                </th><th>status  </th><th>loc            </th></tr>\n",
       "</thead>\n",
       "<tbody>\n",
       "<tr><td>PPO_TradingEnv_36bfe_00000</td><td>RUNNING </td><td>172.17.0.2:5590</td></tr>\n",
       "</tbody>\n",
       "</table><br><br>"
      ],
      "text/plain": [
       "<IPython.core.display.HTML object>"
      ]
     },
     "metadata": {},
     "output_type": "display_data"
    },
    {
     "data": {
      "text/html": [
       "== Status ==<br>Current time: 2022-01-27 00:39:04 (running for 00:02:13.57)<br>Memory usage on this node: 4.4/7.7 GiB<br>Using FIFO scheduling algorithm.<br>Resources requested: 3.0/8 CPUs, 0/1 GPUs, 0.0/3.59 GiB heap, 0.0/1.8 GiB objects (0.0/1.0 accelerator_type:GT)<br>Result logdir: /root/ray_results/PPO<br>Number of trials: 1/1 (1 RUNNING)<br><table>\n",
       "<thead>\n",
       "<tr><th>Trial name                </th><th>status  </th><th>loc            </th></tr>\n",
       "</thead>\n",
       "<tbody>\n",
       "<tr><td>PPO_TradingEnv_36bfe_00000</td><td>RUNNING </td><td>172.17.0.2:5590</td></tr>\n",
       "</tbody>\n",
       "</table><br><br>"
      ],
      "text/plain": [
       "<IPython.core.display.HTML object>"
      ]
     },
     "metadata": {},
     "output_type": "display_data"
    },
    {
     "data": {
      "text/html": [
       "== Status ==<br>Current time: 2022-01-27 00:39:09 (running for 00:02:18.58)<br>Memory usage on this node: 4.4/7.7 GiB<br>Using FIFO scheduling algorithm.<br>Resources requested: 3.0/8 CPUs, 0/1 GPUs, 0.0/3.59 GiB heap, 0.0/1.8 GiB objects (0.0/1.0 accelerator_type:GT)<br>Result logdir: /root/ray_results/PPO<br>Number of trials: 1/1 (1 RUNNING)<br><table>\n",
       "<thead>\n",
       "<tr><th>Trial name                </th><th>status  </th><th>loc            </th></tr>\n",
       "</thead>\n",
       "<tbody>\n",
       "<tr><td>PPO_TradingEnv_36bfe_00000</td><td>RUNNING </td><td>172.17.0.2:5590</td></tr>\n",
       "</tbody>\n",
       "</table><br><br>"
      ],
      "text/plain": [
       "<IPython.core.display.HTML object>"
      ]
     },
     "metadata": {},
     "output_type": "display_data"
    },
    {
     "data": {
      "text/html": [
       "== Status ==<br>Current time: 2022-01-27 00:39:14 (running for 00:02:23.59)<br>Memory usage on this node: 4.4/7.7 GiB<br>Using FIFO scheduling algorithm.<br>Resources requested: 3.0/8 CPUs, 0/1 GPUs, 0.0/3.59 GiB heap, 0.0/1.8 GiB objects (0.0/1.0 accelerator_type:GT)<br>Result logdir: /root/ray_results/PPO<br>Number of trials: 1/1 (1 RUNNING)<br><table>\n",
       "<thead>\n",
       "<tr><th>Trial name                </th><th>status  </th><th>loc            </th></tr>\n",
       "</thead>\n",
       "<tbody>\n",
       "<tr><td>PPO_TradingEnv_36bfe_00000</td><td>RUNNING </td><td>172.17.0.2:5590</td></tr>\n",
       "</tbody>\n",
       "</table><br><br>"
      ],
      "text/plain": [
       "<IPython.core.display.HTML object>"
      ]
     },
     "metadata": {},
     "output_type": "display_data"
    },
    {
     "data": {
      "text/html": [
       "== Status ==<br>Current time: 2022-01-27 00:39:19 (running for 00:02:28.59)<br>Memory usage on this node: 4.4/7.7 GiB<br>Using FIFO scheduling algorithm.<br>Resources requested: 3.0/8 CPUs, 0/1 GPUs, 0.0/3.59 GiB heap, 0.0/1.8 GiB objects (0.0/1.0 accelerator_type:GT)<br>Result logdir: /root/ray_results/PPO<br>Number of trials: 1/1 (1 RUNNING)<br><table>\n",
       "<thead>\n",
       "<tr><th>Trial name                </th><th>status  </th><th>loc            </th></tr>\n",
       "</thead>\n",
       "<tbody>\n",
       "<tr><td>PPO_TradingEnv_36bfe_00000</td><td>RUNNING </td><td>172.17.0.2:5590</td></tr>\n",
       "</tbody>\n",
       "</table><br><br>"
      ],
      "text/plain": [
       "<IPython.core.display.HTML object>"
      ]
     },
     "metadata": {},
     "output_type": "display_data"
    },
    {
     "data": {
      "text/html": [
       "== Status ==<br>Current time: 2022-01-27 00:39:24 (running for 00:02:33.60)<br>Memory usage on this node: 4.4/7.7 GiB<br>Using FIFO scheduling algorithm.<br>Resources requested: 3.0/8 CPUs, 0/1 GPUs, 0.0/3.59 GiB heap, 0.0/1.8 GiB objects (0.0/1.0 accelerator_type:GT)<br>Result logdir: /root/ray_results/PPO<br>Number of trials: 1/1 (1 RUNNING)<br><table>\n",
       "<thead>\n",
       "<tr><th>Trial name                </th><th>status  </th><th>loc            </th></tr>\n",
       "</thead>\n",
       "<tbody>\n",
       "<tr><td>PPO_TradingEnv_36bfe_00000</td><td>RUNNING </td><td>172.17.0.2:5590</td></tr>\n",
       "</tbody>\n",
       "</table><br><br>"
      ],
      "text/plain": [
       "<IPython.core.display.HTML object>"
      ]
     },
     "metadata": {},
     "output_type": "display_data"
    },
    {
     "data": {
      "text/html": [
       "== Status ==<br>Current time: 2022-01-27 00:39:29 (running for 00:02:38.60)<br>Memory usage on this node: 4.4/7.7 GiB<br>Using FIFO scheduling algorithm.<br>Resources requested: 3.0/8 CPUs, 0/1 GPUs, 0.0/3.59 GiB heap, 0.0/1.8 GiB objects (0.0/1.0 accelerator_type:GT)<br>Result logdir: /root/ray_results/PPO<br>Number of trials: 1/1 (1 RUNNING)<br><table>\n",
       "<thead>\n",
       "<tr><th>Trial name                </th><th>status  </th><th>loc            </th></tr>\n",
       "</thead>\n",
       "<tbody>\n",
       "<tr><td>PPO_TradingEnv_36bfe_00000</td><td>RUNNING </td><td>172.17.0.2:5590</td></tr>\n",
       "</tbody>\n",
       "</table><br><br>"
      ],
      "text/plain": [
       "<IPython.core.display.HTML object>"
      ]
     },
     "metadata": {},
     "output_type": "display_data"
    },
    {
     "data": {
      "text/html": [
       "== Status ==<br>Current time: 2022-01-27 00:39:34 (running for 00:02:43.61)<br>Memory usage on this node: 4.4/7.7 GiB<br>Using FIFO scheduling algorithm.<br>Resources requested: 3.0/8 CPUs, 0/1 GPUs, 0.0/3.59 GiB heap, 0.0/1.8 GiB objects (0.0/1.0 accelerator_type:GT)<br>Result logdir: /root/ray_results/PPO<br>Number of trials: 1/1 (1 RUNNING)<br><table>\n",
       "<thead>\n",
       "<tr><th>Trial name                </th><th>status  </th><th>loc            </th></tr>\n",
       "</thead>\n",
       "<tbody>\n",
       "<tr><td>PPO_TradingEnv_36bfe_00000</td><td>RUNNING </td><td>172.17.0.2:5590</td></tr>\n",
       "</tbody>\n",
       "</table><br><br>"
      ],
      "text/plain": [
       "<IPython.core.display.HTML object>"
      ]
     },
     "metadata": {},
     "output_type": "display_data"
    },
    {
     "data": {
      "text/html": [
       "== Status ==<br>Current time: 2022-01-27 00:39:39 (running for 00:02:48.62)<br>Memory usage on this node: 4.4/7.7 GiB<br>Using FIFO scheduling algorithm.<br>Resources requested: 3.0/8 CPUs, 0/1 GPUs, 0.0/3.59 GiB heap, 0.0/1.8 GiB objects (0.0/1.0 accelerator_type:GT)<br>Result logdir: /root/ray_results/PPO<br>Number of trials: 1/1 (1 RUNNING)<br><table>\n",
       "<thead>\n",
       "<tr><th>Trial name                </th><th>status  </th><th>loc            </th></tr>\n",
       "</thead>\n",
       "<tbody>\n",
       "<tr><td>PPO_TradingEnv_36bfe_00000</td><td>RUNNING </td><td>172.17.0.2:5590</td></tr>\n",
       "</tbody>\n",
       "</table><br><br>"
      ],
      "text/plain": [
       "<IPython.core.display.HTML object>"
      ]
     },
     "metadata": {},
     "output_type": "display_data"
    },
    {
     "data": {
      "text/html": [
       "== Status ==<br>Current time: 2022-01-27 00:39:44 (running for 00:02:53.63)<br>Memory usage on this node: 4.4/7.7 GiB<br>Using FIFO scheduling algorithm.<br>Resources requested: 3.0/8 CPUs, 0/1 GPUs, 0.0/3.59 GiB heap, 0.0/1.8 GiB objects (0.0/1.0 accelerator_type:GT)<br>Result logdir: /root/ray_results/PPO<br>Number of trials: 1/1 (1 RUNNING)<br><table>\n",
       "<thead>\n",
       "<tr><th>Trial name                </th><th>status  </th><th>loc            </th></tr>\n",
       "</thead>\n",
       "<tbody>\n",
       "<tr><td>PPO_TradingEnv_36bfe_00000</td><td>RUNNING </td><td>172.17.0.2:5590</td></tr>\n",
       "</tbody>\n",
       "</table><br><br>"
      ],
      "text/plain": [
       "<IPython.core.display.HTML object>"
      ]
     },
     "metadata": {},
     "output_type": "display_data"
    },
    {
     "data": {
      "text/html": [
       "== Status ==<br>Current time: 2022-01-27 00:39:49 (running for 00:02:58.63)<br>Memory usage on this node: 4.4/7.7 GiB<br>Using FIFO scheduling algorithm.<br>Resources requested: 3.0/8 CPUs, 0/1 GPUs, 0.0/3.59 GiB heap, 0.0/1.8 GiB objects (0.0/1.0 accelerator_type:GT)<br>Result logdir: /root/ray_results/PPO<br>Number of trials: 1/1 (1 RUNNING)<br><table>\n",
       "<thead>\n",
       "<tr><th>Trial name                </th><th>status  </th><th>loc            </th></tr>\n",
       "</thead>\n",
       "<tbody>\n",
       "<tr><td>PPO_TradingEnv_36bfe_00000</td><td>RUNNING </td><td>172.17.0.2:5590</td></tr>\n",
       "</tbody>\n",
       "</table><br><br>"
      ],
      "text/plain": [
       "<IPython.core.display.HTML object>"
      ]
     },
     "metadata": {},
     "output_type": "display_data"
    },
    {
     "data": {
      "text/html": [
       "== Status ==<br>Current time: 2022-01-27 00:39:54 (running for 00:03:03.64)<br>Memory usage on this node: 4.4/7.7 GiB<br>Using FIFO scheduling algorithm.<br>Resources requested: 3.0/8 CPUs, 0/1 GPUs, 0.0/3.59 GiB heap, 0.0/1.8 GiB objects (0.0/1.0 accelerator_type:GT)<br>Result logdir: /root/ray_results/PPO<br>Number of trials: 1/1 (1 RUNNING)<br><table>\n",
       "<thead>\n",
       "<tr><th>Trial name                </th><th>status  </th><th>loc            </th></tr>\n",
       "</thead>\n",
       "<tbody>\n",
       "<tr><td>PPO_TradingEnv_36bfe_00000</td><td>RUNNING </td><td>172.17.0.2:5590</td></tr>\n",
       "</tbody>\n",
       "</table><br><br>"
      ],
      "text/plain": [
       "<IPython.core.display.HTML object>"
      ]
     },
     "metadata": {},
     "output_type": "display_data"
    },
    {
     "name": "stdout",
     "output_type": "stream",
     "text": [
      "Result for PPO_TradingEnv_36bfe_00000:\n",
      "  agent_timesteps_total: 4000\n",
      "  custom_metrics: {}\n",
      "  date: 2022-01-27_00-39-59\n",
      "  done: false\n",
      "  episode_len_mean: 18.47906976744186\n",
      "  episode_media: {}\n",
      "  episode_reward_max: 859.100000000004\n",
      "  episode_reward_mean: 27.48604651162832\n",
      "  episode_reward_min: -809.6999999999971\n",
      "  episodes_this_iter: 215\n",
      "  episodes_total: 215\n",
      "  experiment_id: 24a371e8dfc342d4a5944195365b4acd\n",
      "  hostname: 1560ecedb02e\n",
      "  info:\n",
      "    learner:\n",
      "      default_policy:\n",
      "        custom_metrics: {}\n",
      "        learner_stats:\n",
      "          allreduce_latency: 0.0\n",
      "          cur_kl_coeff: 0.20000000000000004\n",
      "          cur_lr: 0.10000000000000002\n",
      "          entropy: 0.6399631786250299\n",
      "          entropy_coeff: 0.01\n",
      "          kl: 0.0623449514473648\n",
      "          policy_loss: -0.2016389006566036\n",
      "          total_loss: 0.7421323211603267\n",
      "          vf_explained_var: 0.008684069751411356\n",
      "          vf_loss: 1.8754037203327303\n",
      "        model: {}\n",
      "    num_agent_steps_sampled: 4000\n",
      "    num_agent_steps_trained: 4000\n",
      "    num_steps_sampled: 4000\n",
      "    num_steps_trained: 4000\n",
      "  iterations_since_restore: 1\n",
      "  node_ip: 172.17.0.2\n",
      "  num_healthy_workers: 2\n",
      "  off_policy_estimator: {}\n",
      "  perf:\n",
      "    cpu_util_percent: 17.34563492063492\n",
      "    ram_util_percent: 57.529365079365085\n",
      "  pid: 5590\n",
      "  policy_reward_max: {}\n",
      "  policy_reward_mean: {}\n",
      "  policy_reward_min: {}\n",
      "  sampler_perf:\n",
      "    mean_action_processing_ms: 0.12276917323656286\n",
      "    mean_env_render_ms: 0.0\n",
      "    mean_env_wait_ms: 0.9454361239139427\n",
      "    mean_inference_ms: 2.8328339887829403\n",
      "    mean_raw_obs_processing_ms: 0.35244101223796476\n",
      "  time_since_restore: 175.97071862220764\n",
      "  time_this_iter_s: 175.97071862220764\n",
      "  time_total_s: 175.97071862220764\n",
      "  timers:\n",
      "    learn_throughput: 23.93\n",
      "    learn_time_ms: 167152.383\n",
      "    load_throughput: 51622.997\n",
      "    load_time_ms: 77.485\n",
      "    sample_throughput: 458.455\n",
      "    sample_time_ms: 8724.965\n",
      "    update_time_ms: 5.378\n",
      "  timestamp: 1643243999\n",
      "  timesteps_since_restore: 0\n",
      "  timesteps_this_iter: 0\n",
      "  timesteps_total: 4000\n",
      "  training_iteration: 1\n",
      "  trial_id: 36bfe_00000\n",
      "  \n"
     ]
    },
    {
     "name": "stderr",
     "output_type": "stream",
     "text": [
      "\u001b[2m\u001b[36m(RolloutWorker pid=5588)\u001b[0m /usr/local/lib/python3.6/dist-packages/ray/rllib/utils/numpy.py:140: FutureWarning:\n",
      "\u001b[2m\u001b[36m(RolloutWorker pid=5588)\u001b[0m \n",
      "\u001b[2m\u001b[36m(RolloutWorker pid=5588)\u001b[0m Conversion of the second argument of issubdtype from `int` to `np.signedinteger` is deprecated. In future, it will be treated as `np.int64 == np.dtype(int).type`.\n",
      "\u001b[2m\u001b[36m(RolloutWorker pid=5588)\u001b[0m \n",
      "\u001b[2m\u001b[36m(RolloutWorker pid=5594)\u001b[0m /usr/local/lib/python3.6/dist-packages/ray/rllib/utils/numpy.py:140: FutureWarning:\n",
      "\u001b[2m\u001b[36m(RolloutWorker pid=5594)\u001b[0m \n",
      "\u001b[2m\u001b[36m(RolloutWorker pid=5594)\u001b[0m Conversion of the second argument of issubdtype from `int` to `np.signedinteger` is deprecated. In future, it will be treated as `np.int64 == np.dtype(int).type`.\n",
      "\u001b[2m\u001b[36m(RolloutWorker pid=5594)\u001b[0m \n"
     ]
    },
    {
     "data": {
      "text/html": [
       "== Status ==<br>Current time: 2022-01-27 00:40:00 (running for 00:03:09.42)<br>Memory usage on this node: 4.4/7.7 GiB<br>Using FIFO scheduling algorithm.<br>Resources requested: 3.0/8 CPUs, 0/1 GPUs, 0.0/3.59 GiB heap, 0.0/1.8 GiB objects (0.0/1.0 accelerator_type:GT)<br>Result logdir: /root/ray_results/PPO<br>Number of trials: 1/1 (1 RUNNING)<br><table>\n",
       "<thead>\n",
       "<tr><th>Trial name                </th><th>status  </th><th>loc            </th><th style=\"text-align: right;\">  iter</th><th style=\"text-align: right;\">  total time (s)</th><th style=\"text-align: right;\">  ts</th><th style=\"text-align: right;\">  reward</th><th style=\"text-align: right;\">  episode_reward_max</th><th style=\"text-align: right;\">  episode_reward_min</th><th style=\"text-align: right;\">  episode_len_mean</th></tr>\n",
       "</thead>\n",
       "<tbody>\n",
       "<tr><td>PPO_TradingEnv_36bfe_00000</td><td>RUNNING </td><td>172.17.0.2:5590</td><td style=\"text-align: right;\">     1</td><td style=\"text-align: right;\">         175.971</td><td style=\"text-align: right;\">4000</td><td style=\"text-align: right;\">  27.486</td><td style=\"text-align: right;\">               859.1</td><td style=\"text-align: right;\">              -809.7</td><td style=\"text-align: right;\">           18.4791</td></tr>\n",
       "</tbody>\n",
       "</table><br><br>"
      ],
      "text/plain": [
       "<IPython.core.display.HTML object>"
      ]
     },
     "metadata": {},
     "output_type": "display_data"
    },
    {
     "data": {
      "text/html": [
       "== Status ==<br>Current time: 2022-01-27 00:40:05 (running for 00:03:14.43)<br>Memory usage on this node: 4.4/7.7 GiB<br>Using FIFO scheduling algorithm.<br>Resources requested: 3.0/8 CPUs, 0/1 GPUs, 0.0/3.59 GiB heap, 0.0/1.8 GiB objects (0.0/1.0 accelerator_type:GT)<br>Result logdir: /root/ray_results/PPO<br>Number of trials: 1/1 (1 RUNNING)<br><table>\n",
       "<thead>\n",
       "<tr><th>Trial name                </th><th>status  </th><th>loc            </th><th style=\"text-align: right;\">  iter</th><th style=\"text-align: right;\">  total time (s)</th><th style=\"text-align: right;\">  ts</th><th style=\"text-align: right;\">  reward</th><th style=\"text-align: right;\">  episode_reward_max</th><th style=\"text-align: right;\">  episode_reward_min</th><th style=\"text-align: right;\">  episode_len_mean</th></tr>\n",
       "</thead>\n",
       "<tbody>\n",
       "<tr><td>PPO_TradingEnv_36bfe_00000</td><td>RUNNING </td><td>172.17.0.2:5590</td><td style=\"text-align: right;\">     1</td><td style=\"text-align: right;\">         175.971</td><td style=\"text-align: right;\">4000</td><td style=\"text-align: right;\">  27.486</td><td style=\"text-align: right;\">               859.1</td><td style=\"text-align: right;\">              -809.7</td><td style=\"text-align: right;\">           18.4791</td></tr>\n",
       "</tbody>\n",
       "</table><br><br>"
      ],
      "text/plain": [
       "<IPython.core.display.HTML object>"
      ]
     },
     "metadata": {},
     "output_type": "display_data"
    },
    {
     "data": {
      "text/html": [
       "== Status ==<br>Current time: 2022-01-27 00:40:10 (running for 00:03:19.44)<br>Memory usage on this node: 4.4/7.7 GiB<br>Using FIFO scheduling algorithm.<br>Resources requested: 3.0/8 CPUs, 0/1 GPUs, 0.0/3.59 GiB heap, 0.0/1.8 GiB objects (0.0/1.0 accelerator_type:GT)<br>Result logdir: /root/ray_results/PPO<br>Number of trials: 1/1 (1 RUNNING)<br><table>\n",
       "<thead>\n",
       "<tr><th>Trial name                </th><th>status  </th><th>loc            </th><th style=\"text-align: right;\">  iter</th><th style=\"text-align: right;\">  total time (s)</th><th style=\"text-align: right;\">  ts</th><th style=\"text-align: right;\">  reward</th><th style=\"text-align: right;\">  episode_reward_max</th><th style=\"text-align: right;\">  episode_reward_min</th><th style=\"text-align: right;\">  episode_len_mean</th></tr>\n",
       "</thead>\n",
       "<tbody>\n",
       "<tr><td>PPO_TradingEnv_36bfe_00000</td><td>RUNNING </td><td>172.17.0.2:5590</td><td style=\"text-align: right;\">     1</td><td style=\"text-align: right;\">         175.971</td><td style=\"text-align: right;\">4000</td><td style=\"text-align: right;\">  27.486</td><td style=\"text-align: right;\">               859.1</td><td style=\"text-align: right;\">              -809.7</td><td style=\"text-align: right;\">           18.4791</td></tr>\n",
       "</tbody>\n",
       "</table><br><br>"
      ],
      "text/plain": [
       "<IPython.core.display.HTML object>"
      ]
     },
     "metadata": {},
     "output_type": "display_data"
    },
    {
     "data": {
      "text/html": [
       "== Status ==<br>Current time: 2022-01-27 00:40:15 (running for 00:03:24.45)<br>Memory usage on this node: 4.4/7.7 GiB<br>Using FIFO scheduling algorithm.<br>Resources requested: 3.0/8 CPUs, 0/1 GPUs, 0.0/3.59 GiB heap, 0.0/1.8 GiB objects (0.0/1.0 accelerator_type:GT)<br>Result logdir: /root/ray_results/PPO<br>Number of trials: 1/1 (1 RUNNING)<br><table>\n",
       "<thead>\n",
       "<tr><th>Trial name                </th><th>status  </th><th>loc            </th><th style=\"text-align: right;\">  iter</th><th style=\"text-align: right;\">  total time (s)</th><th style=\"text-align: right;\">  ts</th><th style=\"text-align: right;\">  reward</th><th style=\"text-align: right;\">  episode_reward_max</th><th style=\"text-align: right;\">  episode_reward_min</th><th style=\"text-align: right;\">  episode_len_mean</th></tr>\n",
       "</thead>\n",
       "<tbody>\n",
       "<tr><td>PPO_TradingEnv_36bfe_00000</td><td>RUNNING </td><td>172.17.0.2:5590</td><td style=\"text-align: right;\">     1</td><td style=\"text-align: right;\">         175.971</td><td style=\"text-align: right;\">4000</td><td style=\"text-align: right;\">  27.486</td><td style=\"text-align: right;\">               859.1</td><td style=\"text-align: right;\">              -809.7</td><td style=\"text-align: right;\">           18.4791</td></tr>\n",
       "</tbody>\n",
       "</table><br><br>"
      ],
      "text/plain": [
       "<IPython.core.display.HTML object>"
      ]
     },
     "metadata": {},
     "output_type": "display_data"
    },
    {
     "data": {
      "text/html": [
       "== Status ==<br>Current time: 2022-01-27 00:40:20 (running for 00:03:29.45)<br>Memory usage on this node: 4.4/7.7 GiB<br>Using FIFO scheduling algorithm.<br>Resources requested: 3.0/8 CPUs, 0/1 GPUs, 0.0/3.59 GiB heap, 0.0/1.8 GiB objects (0.0/1.0 accelerator_type:GT)<br>Result logdir: /root/ray_results/PPO<br>Number of trials: 1/1 (1 RUNNING)<br><table>\n",
       "<thead>\n",
       "<tr><th>Trial name                </th><th>status  </th><th>loc            </th><th style=\"text-align: right;\">  iter</th><th style=\"text-align: right;\">  total time (s)</th><th style=\"text-align: right;\">  ts</th><th style=\"text-align: right;\">  reward</th><th style=\"text-align: right;\">  episode_reward_max</th><th style=\"text-align: right;\">  episode_reward_min</th><th style=\"text-align: right;\">  episode_len_mean</th></tr>\n",
       "</thead>\n",
       "<tbody>\n",
       "<tr><td>PPO_TradingEnv_36bfe_00000</td><td>RUNNING </td><td>172.17.0.2:5590</td><td style=\"text-align: right;\">     1</td><td style=\"text-align: right;\">         175.971</td><td style=\"text-align: right;\">4000</td><td style=\"text-align: right;\">  27.486</td><td style=\"text-align: right;\">               859.1</td><td style=\"text-align: right;\">              -809.7</td><td style=\"text-align: right;\">           18.4791</td></tr>\n",
       "</tbody>\n",
       "</table><br><br>"
      ],
      "text/plain": [
       "<IPython.core.display.HTML object>"
      ]
     },
     "metadata": {},
     "output_type": "display_data"
    },
    {
     "data": {
      "text/html": [
       "== Status ==<br>Current time: 2022-01-27 00:40:25 (running for 00:03:34.46)<br>Memory usage on this node: 4.4/7.7 GiB<br>Using FIFO scheduling algorithm.<br>Resources requested: 3.0/8 CPUs, 0/1 GPUs, 0.0/3.59 GiB heap, 0.0/1.8 GiB objects (0.0/1.0 accelerator_type:GT)<br>Result logdir: /root/ray_results/PPO<br>Number of trials: 1/1 (1 RUNNING)<br><table>\n",
       "<thead>\n",
       "<tr><th>Trial name                </th><th>status  </th><th>loc            </th><th style=\"text-align: right;\">  iter</th><th style=\"text-align: right;\">  total time (s)</th><th style=\"text-align: right;\">  ts</th><th style=\"text-align: right;\">  reward</th><th style=\"text-align: right;\">  episode_reward_max</th><th style=\"text-align: right;\">  episode_reward_min</th><th style=\"text-align: right;\">  episode_len_mean</th></tr>\n",
       "</thead>\n",
       "<tbody>\n",
       "<tr><td>PPO_TradingEnv_36bfe_00000</td><td>RUNNING </td><td>172.17.0.2:5590</td><td style=\"text-align: right;\">     1</td><td style=\"text-align: right;\">         175.971</td><td style=\"text-align: right;\">4000</td><td style=\"text-align: right;\">  27.486</td><td style=\"text-align: right;\">               859.1</td><td style=\"text-align: right;\">              -809.7</td><td style=\"text-align: right;\">           18.4791</td></tr>\n",
       "</tbody>\n",
       "</table><br><br>"
      ],
      "text/plain": [
       "<IPython.core.display.HTML object>"
      ]
     },
     "metadata": {},
     "output_type": "display_data"
    },
    {
     "data": {
      "text/html": [
       "== Status ==<br>Current time: 2022-01-27 00:40:30 (running for 00:03:39.47)<br>Memory usage on this node: 4.5/7.7 GiB<br>Using FIFO scheduling algorithm.<br>Resources requested: 3.0/8 CPUs, 0/1 GPUs, 0.0/3.59 GiB heap, 0.0/1.8 GiB objects (0.0/1.0 accelerator_type:GT)<br>Result logdir: /root/ray_results/PPO<br>Number of trials: 1/1 (1 RUNNING)<br><table>\n",
       "<thead>\n",
       "<tr><th>Trial name                </th><th>status  </th><th>loc            </th><th style=\"text-align: right;\">  iter</th><th style=\"text-align: right;\">  total time (s)</th><th style=\"text-align: right;\">  ts</th><th style=\"text-align: right;\">  reward</th><th style=\"text-align: right;\">  episode_reward_max</th><th style=\"text-align: right;\">  episode_reward_min</th><th style=\"text-align: right;\">  episode_len_mean</th></tr>\n",
       "</thead>\n",
       "<tbody>\n",
       "<tr><td>PPO_TradingEnv_36bfe_00000</td><td>RUNNING </td><td>172.17.0.2:5590</td><td style=\"text-align: right;\">     1</td><td style=\"text-align: right;\">         175.971</td><td style=\"text-align: right;\">4000</td><td style=\"text-align: right;\">  27.486</td><td style=\"text-align: right;\">               859.1</td><td style=\"text-align: right;\">              -809.7</td><td style=\"text-align: right;\">           18.4791</td></tr>\n",
       "</tbody>\n",
       "</table><br><br>"
      ],
      "text/plain": [
       "<IPython.core.display.HTML object>"
      ]
     },
     "metadata": {},
     "output_type": "display_data"
    },
    {
     "data": {
      "text/html": [
       "== Status ==<br>Current time: 2022-01-27 00:40:35 (running for 00:03:44.48)<br>Memory usage on this node: 4.4/7.7 GiB<br>Using FIFO scheduling algorithm.<br>Resources requested: 3.0/8 CPUs, 0/1 GPUs, 0.0/3.59 GiB heap, 0.0/1.8 GiB objects (0.0/1.0 accelerator_type:GT)<br>Result logdir: /root/ray_results/PPO<br>Number of trials: 1/1 (1 RUNNING)<br><table>\n",
       "<thead>\n",
       "<tr><th>Trial name                </th><th>status  </th><th>loc            </th><th style=\"text-align: right;\">  iter</th><th style=\"text-align: right;\">  total time (s)</th><th style=\"text-align: right;\">  ts</th><th style=\"text-align: right;\">  reward</th><th style=\"text-align: right;\">  episode_reward_max</th><th style=\"text-align: right;\">  episode_reward_min</th><th style=\"text-align: right;\">  episode_len_mean</th></tr>\n",
       "</thead>\n",
       "<tbody>\n",
       "<tr><td>PPO_TradingEnv_36bfe_00000</td><td>RUNNING </td><td>172.17.0.2:5590</td><td style=\"text-align: right;\">     1</td><td style=\"text-align: right;\">         175.971</td><td style=\"text-align: right;\">4000</td><td style=\"text-align: right;\">  27.486</td><td style=\"text-align: right;\">               859.1</td><td style=\"text-align: right;\">              -809.7</td><td style=\"text-align: right;\">           18.4791</td></tr>\n",
       "</tbody>\n",
       "</table><br><br>"
      ],
      "text/plain": [
       "<IPython.core.display.HTML object>"
      ]
     },
     "metadata": {},
     "output_type": "display_data"
    },
    {
     "data": {
      "text/html": [
       "== Status ==<br>Current time: 2022-01-27 00:40:40 (running for 00:03:49.48)<br>Memory usage on this node: 4.5/7.7 GiB<br>Using FIFO scheduling algorithm.<br>Resources requested: 3.0/8 CPUs, 0/1 GPUs, 0.0/3.59 GiB heap, 0.0/1.8 GiB objects (0.0/1.0 accelerator_type:GT)<br>Result logdir: /root/ray_results/PPO<br>Number of trials: 1/1 (1 RUNNING)<br><table>\n",
       "<thead>\n",
       "<tr><th>Trial name                </th><th>status  </th><th>loc            </th><th style=\"text-align: right;\">  iter</th><th style=\"text-align: right;\">  total time (s)</th><th style=\"text-align: right;\">  ts</th><th style=\"text-align: right;\">  reward</th><th style=\"text-align: right;\">  episode_reward_max</th><th style=\"text-align: right;\">  episode_reward_min</th><th style=\"text-align: right;\">  episode_len_mean</th></tr>\n",
       "</thead>\n",
       "<tbody>\n",
       "<tr><td>PPO_TradingEnv_36bfe_00000</td><td>RUNNING </td><td>172.17.0.2:5590</td><td style=\"text-align: right;\">     1</td><td style=\"text-align: right;\">         175.971</td><td style=\"text-align: right;\">4000</td><td style=\"text-align: right;\">  27.486</td><td style=\"text-align: right;\">               859.1</td><td style=\"text-align: right;\">              -809.7</td><td style=\"text-align: right;\">           18.4791</td></tr>\n",
       "</tbody>\n",
       "</table><br><br>"
      ],
      "text/plain": [
       "<IPython.core.display.HTML object>"
      ]
     },
     "metadata": {},
     "output_type": "display_data"
    },
    {
     "data": {
      "text/html": [
       "== Status ==<br>Current time: 2022-01-27 00:40:45 (running for 00:03:54.49)<br>Memory usage on this node: 4.4/7.7 GiB<br>Using FIFO scheduling algorithm.<br>Resources requested: 3.0/8 CPUs, 0/1 GPUs, 0.0/3.59 GiB heap, 0.0/1.8 GiB objects (0.0/1.0 accelerator_type:GT)<br>Result logdir: /root/ray_results/PPO<br>Number of trials: 1/1 (1 RUNNING)<br><table>\n",
       "<thead>\n",
       "<tr><th>Trial name                </th><th>status  </th><th>loc            </th><th style=\"text-align: right;\">  iter</th><th style=\"text-align: right;\">  total time (s)</th><th style=\"text-align: right;\">  ts</th><th style=\"text-align: right;\">  reward</th><th style=\"text-align: right;\">  episode_reward_max</th><th style=\"text-align: right;\">  episode_reward_min</th><th style=\"text-align: right;\">  episode_len_mean</th></tr>\n",
       "</thead>\n",
       "<tbody>\n",
       "<tr><td>PPO_TradingEnv_36bfe_00000</td><td>RUNNING </td><td>172.17.0.2:5590</td><td style=\"text-align: right;\">     1</td><td style=\"text-align: right;\">         175.971</td><td style=\"text-align: right;\">4000</td><td style=\"text-align: right;\">  27.486</td><td style=\"text-align: right;\">               859.1</td><td style=\"text-align: right;\">              -809.7</td><td style=\"text-align: right;\">           18.4791</td></tr>\n",
       "</tbody>\n",
       "</table><br><br>"
      ],
      "text/plain": [
       "<IPython.core.display.HTML object>"
      ]
     },
     "metadata": {},
     "output_type": "display_data"
    },
    {
     "data": {
      "text/html": [
       "== Status ==<br>Current time: 2022-01-27 00:40:50 (running for 00:03:59.50)<br>Memory usage on this node: 4.4/7.7 GiB<br>Using FIFO scheduling algorithm.<br>Resources requested: 3.0/8 CPUs, 0/1 GPUs, 0.0/3.59 GiB heap, 0.0/1.8 GiB objects (0.0/1.0 accelerator_type:GT)<br>Result logdir: /root/ray_results/PPO<br>Number of trials: 1/1 (1 RUNNING)<br><table>\n",
       "<thead>\n",
       "<tr><th>Trial name                </th><th>status  </th><th>loc            </th><th style=\"text-align: right;\">  iter</th><th style=\"text-align: right;\">  total time (s)</th><th style=\"text-align: right;\">  ts</th><th style=\"text-align: right;\">  reward</th><th style=\"text-align: right;\">  episode_reward_max</th><th style=\"text-align: right;\">  episode_reward_min</th><th style=\"text-align: right;\">  episode_len_mean</th></tr>\n",
       "</thead>\n",
       "<tbody>\n",
       "<tr><td>PPO_TradingEnv_36bfe_00000</td><td>RUNNING </td><td>172.17.0.2:5590</td><td style=\"text-align: right;\">     1</td><td style=\"text-align: right;\">         175.971</td><td style=\"text-align: right;\">4000</td><td style=\"text-align: right;\">  27.486</td><td style=\"text-align: right;\">               859.1</td><td style=\"text-align: right;\">              -809.7</td><td style=\"text-align: right;\">           18.4791</td></tr>\n",
       "</tbody>\n",
       "</table><br><br>"
      ],
      "text/plain": [
       "<IPython.core.display.HTML object>"
      ]
     },
     "metadata": {},
     "output_type": "display_data"
    },
    {
     "data": {
      "text/html": [
       "== Status ==<br>Current time: 2022-01-27 00:40:55 (running for 00:04:04.51)<br>Memory usage on this node: 4.4/7.7 GiB<br>Using FIFO scheduling algorithm.<br>Resources requested: 3.0/8 CPUs, 0/1 GPUs, 0.0/3.59 GiB heap, 0.0/1.8 GiB objects (0.0/1.0 accelerator_type:GT)<br>Result logdir: /root/ray_results/PPO<br>Number of trials: 1/1 (1 RUNNING)<br><table>\n",
       "<thead>\n",
       "<tr><th>Trial name                </th><th>status  </th><th>loc            </th><th style=\"text-align: right;\">  iter</th><th style=\"text-align: right;\">  total time (s)</th><th style=\"text-align: right;\">  ts</th><th style=\"text-align: right;\">  reward</th><th style=\"text-align: right;\">  episode_reward_max</th><th style=\"text-align: right;\">  episode_reward_min</th><th style=\"text-align: right;\">  episode_len_mean</th></tr>\n",
       "</thead>\n",
       "<tbody>\n",
       "<tr><td>PPO_TradingEnv_36bfe_00000</td><td>RUNNING </td><td>172.17.0.2:5590</td><td style=\"text-align: right;\">     1</td><td style=\"text-align: right;\">         175.971</td><td style=\"text-align: right;\">4000</td><td style=\"text-align: right;\">  27.486</td><td style=\"text-align: right;\">               859.1</td><td style=\"text-align: right;\">              -809.7</td><td style=\"text-align: right;\">           18.4791</td></tr>\n",
       "</tbody>\n",
       "</table><br><br>"
      ],
      "text/plain": [
       "<IPython.core.display.HTML object>"
      ]
     },
     "metadata": {},
     "output_type": "display_data"
    },
    {
     "data": {
      "text/html": [
       "== Status ==<br>Current time: 2022-01-27 00:41:00 (running for 00:04:09.51)<br>Memory usage on this node: 4.4/7.7 GiB<br>Using FIFO scheduling algorithm.<br>Resources requested: 3.0/8 CPUs, 0/1 GPUs, 0.0/3.59 GiB heap, 0.0/1.8 GiB objects (0.0/1.0 accelerator_type:GT)<br>Result logdir: /root/ray_results/PPO<br>Number of trials: 1/1 (1 RUNNING)<br><table>\n",
       "<thead>\n",
       "<tr><th>Trial name                </th><th>status  </th><th>loc            </th><th style=\"text-align: right;\">  iter</th><th style=\"text-align: right;\">  total time (s)</th><th style=\"text-align: right;\">  ts</th><th style=\"text-align: right;\">  reward</th><th style=\"text-align: right;\">  episode_reward_max</th><th style=\"text-align: right;\">  episode_reward_min</th><th style=\"text-align: right;\">  episode_len_mean</th></tr>\n",
       "</thead>\n",
       "<tbody>\n",
       "<tr><td>PPO_TradingEnv_36bfe_00000</td><td>RUNNING </td><td>172.17.0.2:5590</td><td style=\"text-align: right;\">     1</td><td style=\"text-align: right;\">         175.971</td><td style=\"text-align: right;\">4000</td><td style=\"text-align: right;\">  27.486</td><td style=\"text-align: right;\">               859.1</td><td style=\"text-align: right;\">              -809.7</td><td style=\"text-align: right;\">           18.4791</td></tr>\n",
       "</tbody>\n",
       "</table><br><br>"
      ],
      "text/plain": [
       "<IPython.core.display.HTML object>"
      ]
     },
     "metadata": {},
     "output_type": "display_data"
    },
    {
     "data": {
      "text/html": [
       "== Status ==<br>Current time: 2022-01-27 00:41:05 (running for 00:04:14.52)<br>Memory usage on this node: 4.4/7.7 GiB<br>Using FIFO scheduling algorithm.<br>Resources requested: 3.0/8 CPUs, 0/1 GPUs, 0.0/3.59 GiB heap, 0.0/1.8 GiB objects (0.0/1.0 accelerator_type:GT)<br>Result logdir: /root/ray_results/PPO<br>Number of trials: 1/1 (1 RUNNING)<br><table>\n",
       "<thead>\n",
       "<tr><th>Trial name                </th><th>status  </th><th>loc            </th><th style=\"text-align: right;\">  iter</th><th style=\"text-align: right;\">  total time (s)</th><th style=\"text-align: right;\">  ts</th><th style=\"text-align: right;\">  reward</th><th style=\"text-align: right;\">  episode_reward_max</th><th style=\"text-align: right;\">  episode_reward_min</th><th style=\"text-align: right;\">  episode_len_mean</th></tr>\n",
       "</thead>\n",
       "<tbody>\n",
       "<tr><td>PPO_TradingEnv_36bfe_00000</td><td>RUNNING </td><td>172.17.0.2:5590</td><td style=\"text-align: right;\">     1</td><td style=\"text-align: right;\">         175.971</td><td style=\"text-align: right;\">4000</td><td style=\"text-align: right;\">  27.486</td><td style=\"text-align: right;\">               859.1</td><td style=\"text-align: right;\">              -809.7</td><td style=\"text-align: right;\">           18.4791</td></tr>\n",
       "</tbody>\n",
       "</table><br><br>"
      ],
      "text/plain": [
       "<IPython.core.display.HTML object>"
      ]
     },
     "metadata": {},
     "output_type": "display_data"
    },
    {
     "data": {
      "text/html": [
       "== Status ==<br>Current time: 2022-01-27 00:41:10 (running for 00:04:19.52)<br>Memory usage on this node: 4.4/7.7 GiB<br>Using FIFO scheduling algorithm.<br>Resources requested: 3.0/8 CPUs, 0/1 GPUs, 0.0/3.59 GiB heap, 0.0/1.8 GiB objects (0.0/1.0 accelerator_type:GT)<br>Result logdir: /root/ray_results/PPO<br>Number of trials: 1/1 (1 RUNNING)<br><table>\n",
       "<thead>\n",
       "<tr><th>Trial name                </th><th>status  </th><th>loc            </th><th style=\"text-align: right;\">  iter</th><th style=\"text-align: right;\">  total time (s)</th><th style=\"text-align: right;\">  ts</th><th style=\"text-align: right;\">  reward</th><th style=\"text-align: right;\">  episode_reward_max</th><th style=\"text-align: right;\">  episode_reward_min</th><th style=\"text-align: right;\">  episode_len_mean</th></tr>\n",
       "</thead>\n",
       "<tbody>\n",
       "<tr><td>PPO_TradingEnv_36bfe_00000</td><td>RUNNING </td><td>172.17.0.2:5590</td><td style=\"text-align: right;\">     1</td><td style=\"text-align: right;\">         175.971</td><td style=\"text-align: right;\">4000</td><td style=\"text-align: right;\">  27.486</td><td style=\"text-align: right;\">               859.1</td><td style=\"text-align: right;\">              -809.7</td><td style=\"text-align: right;\">           18.4791</td></tr>\n",
       "</tbody>\n",
       "</table><br><br>"
      ],
      "text/plain": [
       "<IPython.core.display.HTML object>"
      ]
     },
     "metadata": {},
     "output_type": "display_data"
    },
    {
     "data": {
      "text/html": [
       "== Status ==<br>Current time: 2022-01-27 00:41:15 (running for 00:04:24.53)<br>Memory usage on this node: 4.4/7.7 GiB<br>Using FIFO scheduling algorithm.<br>Resources requested: 3.0/8 CPUs, 0/1 GPUs, 0.0/3.59 GiB heap, 0.0/1.8 GiB objects (0.0/1.0 accelerator_type:GT)<br>Result logdir: /root/ray_results/PPO<br>Number of trials: 1/1 (1 RUNNING)<br><table>\n",
       "<thead>\n",
       "<tr><th>Trial name                </th><th>status  </th><th>loc            </th><th style=\"text-align: right;\">  iter</th><th style=\"text-align: right;\">  total time (s)</th><th style=\"text-align: right;\">  ts</th><th style=\"text-align: right;\">  reward</th><th style=\"text-align: right;\">  episode_reward_max</th><th style=\"text-align: right;\">  episode_reward_min</th><th style=\"text-align: right;\">  episode_len_mean</th></tr>\n",
       "</thead>\n",
       "<tbody>\n",
       "<tr><td>PPO_TradingEnv_36bfe_00000</td><td>RUNNING </td><td>172.17.0.2:5590</td><td style=\"text-align: right;\">     1</td><td style=\"text-align: right;\">         175.971</td><td style=\"text-align: right;\">4000</td><td style=\"text-align: right;\">  27.486</td><td style=\"text-align: right;\">               859.1</td><td style=\"text-align: right;\">              -809.7</td><td style=\"text-align: right;\">           18.4791</td></tr>\n",
       "</tbody>\n",
       "</table><br><br>"
      ],
      "text/plain": [
       "<IPython.core.display.HTML object>"
      ]
     },
     "metadata": {},
     "output_type": "display_data"
    },
    {
     "data": {
      "text/html": [
       "== Status ==<br>Current time: 2022-01-27 00:41:20 (running for 00:04:29.54)<br>Memory usage on this node: 4.4/7.7 GiB<br>Using FIFO scheduling algorithm.<br>Resources requested: 3.0/8 CPUs, 0/1 GPUs, 0.0/3.59 GiB heap, 0.0/1.8 GiB objects (0.0/1.0 accelerator_type:GT)<br>Result logdir: /root/ray_results/PPO<br>Number of trials: 1/1 (1 RUNNING)<br><table>\n",
       "<thead>\n",
       "<tr><th>Trial name                </th><th>status  </th><th>loc            </th><th style=\"text-align: right;\">  iter</th><th style=\"text-align: right;\">  total time (s)</th><th style=\"text-align: right;\">  ts</th><th style=\"text-align: right;\">  reward</th><th style=\"text-align: right;\">  episode_reward_max</th><th style=\"text-align: right;\">  episode_reward_min</th><th style=\"text-align: right;\">  episode_len_mean</th></tr>\n",
       "</thead>\n",
       "<tbody>\n",
       "<tr><td>PPO_TradingEnv_36bfe_00000</td><td>RUNNING </td><td>172.17.0.2:5590</td><td style=\"text-align: right;\">     1</td><td style=\"text-align: right;\">         175.971</td><td style=\"text-align: right;\">4000</td><td style=\"text-align: right;\">  27.486</td><td style=\"text-align: right;\">               859.1</td><td style=\"text-align: right;\">              -809.7</td><td style=\"text-align: right;\">           18.4791</td></tr>\n",
       "</tbody>\n",
       "</table><br><br>"
      ],
      "text/plain": [
       "<IPython.core.display.HTML object>"
      ]
     },
     "metadata": {},
     "output_type": "display_data"
    },
    {
     "data": {
      "text/html": [
       "== Status ==<br>Current time: 2022-01-27 00:41:25 (running for 00:04:34.55)<br>Memory usage on this node: 4.4/7.7 GiB<br>Using FIFO scheduling algorithm.<br>Resources requested: 3.0/8 CPUs, 0/1 GPUs, 0.0/3.59 GiB heap, 0.0/1.8 GiB objects (0.0/1.0 accelerator_type:GT)<br>Result logdir: /root/ray_results/PPO<br>Number of trials: 1/1 (1 RUNNING)<br><table>\n",
       "<thead>\n",
       "<tr><th>Trial name                </th><th>status  </th><th>loc            </th><th style=\"text-align: right;\">  iter</th><th style=\"text-align: right;\">  total time (s)</th><th style=\"text-align: right;\">  ts</th><th style=\"text-align: right;\">  reward</th><th style=\"text-align: right;\">  episode_reward_max</th><th style=\"text-align: right;\">  episode_reward_min</th><th style=\"text-align: right;\">  episode_len_mean</th></tr>\n",
       "</thead>\n",
       "<tbody>\n",
       "<tr><td>PPO_TradingEnv_36bfe_00000</td><td>RUNNING </td><td>172.17.0.2:5590</td><td style=\"text-align: right;\">     1</td><td style=\"text-align: right;\">         175.971</td><td style=\"text-align: right;\">4000</td><td style=\"text-align: right;\">  27.486</td><td style=\"text-align: right;\">               859.1</td><td style=\"text-align: right;\">              -809.7</td><td style=\"text-align: right;\">           18.4791</td></tr>\n",
       "</tbody>\n",
       "</table><br><br>"
      ],
      "text/plain": [
       "<IPython.core.display.HTML object>"
      ]
     },
     "metadata": {},
     "output_type": "display_data"
    },
    {
     "data": {
      "text/html": [
       "== Status ==<br>Current time: 2022-01-27 00:41:30 (running for 00:04:39.55)<br>Memory usage on this node: 4.5/7.7 GiB<br>Using FIFO scheduling algorithm.<br>Resources requested: 3.0/8 CPUs, 0/1 GPUs, 0.0/3.59 GiB heap, 0.0/1.8 GiB objects (0.0/1.0 accelerator_type:GT)<br>Result logdir: /root/ray_results/PPO<br>Number of trials: 1/1 (1 RUNNING)<br><table>\n",
       "<thead>\n",
       "<tr><th>Trial name                </th><th>status  </th><th>loc            </th><th style=\"text-align: right;\">  iter</th><th style=\"text-align: right;\">  total time (s)</th><th style=\"text-align: right;\">  ts</th><th style=\"text-align: right;\">  reward</th><th style=\"text-align: right;\">  episode_reward_max</th><th style=\"text-align: right;\">  episode_reward_min</th><th style=\"text-align: right;\">  episode_len_mean</th></tr>\n",
       "</thead>\n",
       "<tbody>\n",
       "<tr><td>PPO_TradingEnv_36bfe_00000</td><td>RUNNING </td><td>172.17.0.2:5590</td><td style=\"text-align: right;\">     1</td><td style=\"text-align: right;\">         175.971</td><td style=\"text-align: right;\">4000</td><td style=\"text-align: right;\">  27.486</td><td style=\"text-align: right;\">               859.1</td><td style=\"text-align: right;\">              -809.7</td><td style=\"text-align: right;\">           18.4791</td></tr>\n",
       "</tbody>\n",
       "</table><br><br>"
      ],
      "text/plain": [
       "<IPython.core.display.HTML object>"
      ]
     },
     "metadata": {},
     "output_type": "display_data"
    },
    {
     "data": {
      "text/html": [
       "== Status ==<br>Current time: 2022-01-27 00:41:35 (running for 00:04:44.56)<br>Memory usage on this node: 4.4/7.7 GiB<br>Using FIFO scheduling algorithm.<br>Resources requested: 3.0/8 CPUs, 0/1 GPUs, 0.0/3.59 GiB heap, 0.0/1.8 GiB objects (0.0/1.0 accelerator_type:GT)<br>Result logdir: /root/ray_results/PPO<br>Number of trials: 1/1 (1 RUNNING)<br><table>\n",
       "<thead>\n",
       "<tr><th>Trial name                </th><th>status  </th><th>loc            </th><th style=\"text-align: right;\">  iter</th><th style=\"text-align: right;\">  total time (s)</th><th style=\"text-align: right;\">  ts</th><th style=\"text-align: right;\">  reward</th><th style=\"text-align: right;\">  episode_reward_max</th><th style=\"text-align: right;\">  episode_reward_min</th><th style=\"text-align: right;\">  episode_len_mean</th></tr>\n",
       "</thead>\n",
       "<tbody>\n",
       "<tr><td>PPO_TradingEnv_36bfe_00000</td><td>RUNNING </td><td>172.17.0.2:5590</td><td style=\"text-align: right;\">     1</td><td style=\"text-align: right;\">         175.971</td><td style=\"text-align: right;\">4000</td><td style=\"text-align: right;\">  27.486</td><td style=\"text-align: right;\">               859.1</td><td style=\"text-align: right;\">              -809.7</td><td style=\"text-align: right;\">           18.4791</td></tr>\n",
       "</tbody>\n",
       "</table><br><br>"
      ],
      "text/plain": [
       "<IPython.core.display.HTML object>"
      ]
     },
     "metadata": {},
     "output_type": "display_data"
    },
    {
     "data": {
      "text/html": [
       "== Status ==<br>Current time: 2022-01-27 00:41:40 (running for 00:04:49.57)<br>Memory usage on this node: 4.4/7.7 GiB<br>Using FIFO scheduling algorithm.<br>Resources requested: 3.0/8 CPUs, 0/1 GPUs, 0.0/3.59 GiB heap, 0.0/1.8 GiB objects (0.0/1.0 accelerator_type:GT)<br>Result logdir: /root/ray_results/PPO<br>Number of trials: 1/1 (1 RUNNING)<br><table>\n",
       "<thead>\n",
       "<tr><th>Trial name                </th><th>status  </th><th>loc            </th><th style=\"text-align: right;\">  iter</th><th style=\"text-align: right;\">  total time (s)</th><th style=\"text-align: right;\">  ts</th><th style=\"text-align: right;\">  reward</th><th style=\"text-align: right;\">  episode_reward_max</th><th style=\"text-align: right;\">  episode_reward_min</th><th style=\"text-align: right;\">  episode_len_mean</th></tr>\n",
       "</thead>\n",
       "<tbody>\n",
       "<tr><td>PPO_TradingEnv_36bfe_00000</td><td>RUNNING </td><td>172.17.0.2:5590</td><td style=\"text-align: right;\">     1</td><td style=\"text-align: right;\">         175.971</td><td style=\"text-align: right;\">4000</td><td style=\"text-align: right;\">  27.486</td><td style=\"text-align: right;\">               859.1</td><td style=\"text-align: right;\">              -809.7</td><td style=\"text-align: right;\">           18.4791</td></tr>\n",
       "</tbody>\n",
       "</table><br><br>"
      ],
      "text/plain": [
       "<IPython.core.display.HTML object>"
      ]
     },
     "metadata": {},
     "output_type": "display_data"
    },
    {
     "data": {
      "text/html": [
       "== Status ==<br>Current time: 2022-01-27 00:41:45 (running for 00:04:54.58)<br>Memory usage on this node: 4.4/7.7 GiB<br>Using FIFO scheduling algorithm.<br>Resources requested: 3.0/8 CPUs, 0/1 GPUs, 0.0/3.59 GiB heap, 0.0/1.8 GiB objects (0.0/1.0 accelerator_type:GT)<br>Result logdir: /root/ray_results/PPO<br>Number of trials: 1/1 (1 RUNNING)<br><table>\n",
       "<thead>\n",
       "<tr><th>Trial name                </th><th>status  </th><th>loc            </th><th style=\"text-align: right;\">  iter</th><th style=\"text-align: right;\">  total time (s)</th><th style=\"text-align: right;\">  ts</th><th style=\"text-align: right;\">  reward</th><th style=\"text-align: right;\">  episode_reward_max</th><th style=\"text-align: right;\">  episode_reward_min</th><th style=\"text-align: right;\">  episode_len_mean</th></tr>\n",
       "</thead>\n",
       "<tbody>\n",
       "<tr><td>PPO_TradingEnv_36bfe_00000</td><td>RUNNING </td><td>172.17.0.2:5590</td><td style=\"text-align: right;\">     1</td><td style=\"text-align: right;\">         175.971</td><td style=\"text-align: right;\">4000</td><td style=\"text-align: right;\">  27.486</td><td style=\"text-align: right;\">               859.1</td><td style=\"text-align: right;\">              -809.7</td><td style=\"text-align: right;\">           18.4791</td></tr>\n",
       "</tbody>\n",
       "</table><br><br>"
      ],
      "text/plain": [
       "<IPython.core.display.HTML object>"
      ]
     },
     "metadata": {},
     "output_type": "display_data"
    },
    {
     "data": {
      "text/html": [
       "== Status ==<br>Current time: 2022-01-27 00:41:50 (running for 00:04:59.58)<br>Memory usage on this node: 4.4/7.7 GiB<br>Using FIFO scheduling algorithm.<br>Resources requested: 3.0/8 CPUs, 0/1 GPUs, 0.0/3.59 GiB heap, 0.0/1.8 GiB objects (0.0/1.0 accelerator_type:GT)<br>Result logdir: /root/ray_results/PPO<br>Number of trials: 1/1 (1 RUNNING)<br><table>\n",
       "<thead>\n",
       "<tr><th>Trial name                </th><th>status  </th><th>loc            </th><th style=\"text-align: right;\">  iter</th><th style=\"text-align: right;\">  total time (s)</th><th style=\"text-align: right;\">  ts</th><th style=\"text-align: right;\">  reward</th><th style=\"text-align: right;\">  episode_reward_max</th><th style=\"text-align: right;\">  episode_reward_min</th><th style=\"text-align: right;\">  episode_len_mean</th></tr>\n",
       "</thead>\n",
       "<tbody>\n",
       "<tr><td>PPO_TradingEnv_36bfe_00000</td><td>RUNNING </td><td>172.17.0.2:5590</td><td style=\"text-align: right;\">     1</td><td style=\"text-align: right;\">         175.971</td><td style=\"text-align: right;\">4000</td><td style=\"text-align: right;\">  27.486</td><td style=\"text-align: right;\">               859.1</td><td style=\"text-align: right;\">              -809.7</td><td style=\"text-align: right;\">           18.4791</td></tr>\n",
       "</tbody>\n",
       "</table><br><br>"
      ],
      "text/plain": [
       "<IPython.core.display.HTML object>"
      ]
     },
     "metadata": {},
     "output_type": "display_data"
    },
    {
     "data": {
      "text/html": [
       "== Status ==<br>Current time: 2022-01-27 00:41:55 (running for 00:05:04.59)<br>Memory usage on this node: 4.4/7.7 GiB<br>Using FIFO scheduling algorithm.<br>Resources requested: 3.0/8 CPUs, 0/1 GPUs, 0.0/3.59 GiB heap, 0.0/1.8 GiB objects (0.0/1.0 accelerator_type:GT)<br>Result logdir: /root/ray_results/PPO<br>Number of trials: 1/1 (1 RUNNING)<br><table>\n",
       "<thead>\n",
       "<tr><th>Trial name                </th><th>status  </th><th>loc            </th><th style=\"text-align: right;\">  iter</th><th style=\"text-align: right;\">  total time (s)</th><th style=\"text-align: right;\">  ts</th><th style=\"text-align: right;\">  reward</th><th style=\"text-align: right;\">  episode_reward_max</th><th style=\"text-align: right;\">  episode_reward_min</th><th style=\"text-align: right;\">  episode_len_mean</th></tr>\n",
       "</thead>\n",
       "<tbody>\n",
       "<tr><td>PPO_TradingEnv_36bfe_00000</td><td>RUNNING </td><td>172.17.0.2:5590</td><td style=\"text-align: right;\">     1</td><td style=\"text-align: right;\">         175.971</td><td style=\"text-align: right;\">4000</td><td style=\"text-align: right;\">  27.486</td><td style=\"text-align: right;\">               859.1</td><td style=\"text-align: right;\">              -809.7</td><td style=\"text-align: right;\">           18.4791</td></tr>\n",
       "</tbody>\n",
       "</table><br><br>"
      ],
      "text/plain": [
       "<IPython.core.display.HTML object>"
      ]
     },
     "metadata": {},
     "output_type": "display_data"
    },
    {
     "data": {
      "text/html": [
       "== Status ==<br>Current time: 2022-01-27 00:42:00 (running for 00:05:09.60)<br>Memory usage on this node: 4.4/7.7 GiB<br>Using FIFO scheduling algorithm.<br>Resources requested: 3.0/8 CPUs, 0/1 GPUs, 0.0/3.59 GiB heap, 0.0/1.8 GiB objects (0.0/1.0 accelerator_type:GT)<br>Result logdir: /root/ray_results/PPO<br>Number of trials: 1/1 (1 RUNNING)<br><table>\n",
       "<thead>\n",
       "<tr><th>Trial name                </th><th>status  </th><th>loc            </th><th style=\"text-align: right;\">  iter</th><th style=\"text-align: right;\">  total time (s)</th><th style=\"text-align: right;\">  ts</th><th style=\"text-align: right;\">  reward</th><th style=\"text-align: right;\">  episode_reward_max</th><th style=\"text-align: right;\">  episode_reward_min</th><th style=\"text-align: right;\">  episode_len_mean</th></tr>\n",
       "</thead>\n",
       "<tbody>\n",
       "<tr><td>PPO_TradingEnv_36bfe_00000</td><td>RUNNING </td><td>172.17.0.2:5590</td><td style=\"text-align: right;\">     1</td><td style=\"text-align: right;\">         175.971</td><td style=\"text-align: right;\">4000</td><td style=\"text-align: right;\">  27.486</td><td style=\"text-align: right;\">               859.1</td><td style=\"text-align: right;\">              -809.7</td><td style=\"text-align: right;\">           18.4791</td></tr>\n",
       "</tbody>\n",
       "</table><br><br>"
      ],
      "text/plain": [
       "<IPython.core.display.HTML object>"
      ]
     },
     "metadata": {},
     "output_type": "display_data"
    },
    {
     "data": {
      "text/html": [
       "== Status ==<br>Current time: 2022-01-27 00:42:05 (running for 00:05:14.61)<br>Memory usage on this node: 4.4/7.7 GiB<br>Using FIFO scheduling algorithm.<br>Resources requested: 3.0/8 CPUs, 0/1 GPUs, 0.0/3.59 GiB heap, 0.0/1.8 GiB objects (0.0/1.0 accelerator_type:GT)<br>Result logdir: /root/ray_results/PPO<br>Number of trials: 1/1 (1 RUNNING)<br><table>\n",
       "<thead>\n",
       "<tr><th>Trial name                </th><th>status  </th><th>loc            </th><th style=\"text-align: right;\">  iter</th><th style=\"text-align: right;\">  total time (s)</th><th style=\"text-align: right;\">  ts</th><th style=\"text-align: right;\">  reward</th><th style=\"text-align: right;\">  episode_reward_max</th><th style=\"text-align: right;\">  episode_reward_min</th><th style=\"text-align: right;\">  episode_len_mean</th></tr>\n",
       "</thead>\n",
       "<tbody>\n",
       "<tr><td>PPO_TradingEnv_36bfe_00000</td><td>RUNNING </td><td>172.17.0.2:5590</td><td style=\"text-align: right;\">     1</td><td style=\"text-align: right;\">         175.971</td><td style=\"text-align: right;\">4000</td><td style=\"text-align: right;\">  27.486</td><td style=\"text-align: right;\">               859.1</td><td style=\"text-align: right;\">              -809.7</td><td style=\"text-align: right;\">           18.4791</td></tr>\n",
       "</tbody>\n",
       "</table><br><br>"
      ],
      "text/plain": [
       "<IPython.core.display.HTML object>"
      ]
     },
     "metadata": {},
     "output_type": "display_data"
    },
    {
     "data": {
      "text/html": [
       "== Status ==<br>Current time: 2022-01-27 00:42:10 (running for 00:05:19.61)<br>Memory usage on this node: 4.4/7.7 GiB<br>Using FIFO scheduling algorithm.<br>Resources requested: 3.0/8 CPUs, 0/1 GPUs, 0.0/3.59 GiB heap, 0.0/1.8 GiB objects (0.0/1.0 accelerator_type:GT)<br>Result logdir: /root/ray_results/PPO<br>Number of trials: 1/1 (1 RUNNING)<br><table>\n",
       "<thead>\n",
       "<tr><th>Trial name                </th><th>status  </th><th>loc            </th><th style=\"text-align: right;\">  iter</th><th style=\"text-align: right;\">  total time (s)</th><th style=\"text-align: right;\">  ts</th><th style=\"text-align: right;\">  reward</th><th style=\"text-align: right;\">  episode_reward_max</th><th style=\"text-align: right;\">  episode_reward_min</th><th style=\"text-align: right;\">  episode_len_mean</th></tr>\n",
       "</thead>\n",
       "<tbody>\n",
       "<tr><td>PPO_TradingEnv_36bfe_00000</td><td>RUNNING </td><td>172.17.0.2:5590</td><td style=\"text-align: right;\">     1</td><td style=\"text-align: right;\">         175.971</td><td style=\"text-align: right;\">4000</td><td style=\"text-align: right;\">  27.486</td><td style=\"text-align: right;\">               859.1</td><td style=\"text-align: right;\">              -809.7</td><td style=\"text-align: right;\">           18.4791</td></tr>\n",
       "</tbody>\n",
       "</table><br><br>"
      ],
      "text/plain": [
       "<IPython.core.display.HTML object>"
      ]
     },
     "metadata": {},
     "output_type": "display_data"
    },
    {
     "data": {
      "text/html": [
       "== Status ==<br>Current time: 2022-01-27 00:42:15 (running for 00:05:24.62)<br>Memory usage on this node: 4.4/7.7 GiB<br>Using FIFO scheduling algorithm.<br>Resources requested: 3.0/8 CPUs, 0/1 GPUs, 0.0/3.59 GiB heap, 0.0/1.8 GiB objects (0.0/1.0 accelerator_type:GT)<br>Result logdir: /root/ray_results/PPO<br>Number of trials: 1/1 (1 RUNNING)<br><table>\n",
       "<thead>\n",
       "<tr><th>Trial name                </th><th>status  </th><th>loc            </th><th style=\"text-align: right;\">  iter</th><th style=\"text-align: right;\">  total time (s)</th><th style=\"text-align: right;\">  ts</th><th style=\"text-align: right;\">  reward</th><th style=\"text-align: right;\">  episode_reward_max</th><th style=\"text-align: right;\">  episode_reward_min</th><th style=\"text-align: right;\">  episode_len_mean</th></tr>\n",
       "</thead>\n",
       "<tbody>\n",
       "<tr><td>PPO_TradingEnv_36bfe_00000</td><td>RUNNING </td><td>172.17.0.2:5590</td><td style=\"text-align: right;\">     1</td><td style=\"text-align: right;\">         175.971</td><td style=\"text-align: right;\">4000</td><td style=\"text-align: right;\">  27.486</td><td style=\"text-align: right;\">               859.1</td><td style=\"text-align: right;\">              -809.7</td><td style=\"text-align: right;\">           18.4791</td></tr>\n",
       "</tbody>\n",
       "</table><br><br>"
      ],
      "text/plain": [
       "<IPython.core.display.HTML object>"
      ]
     },
     "metadata": {},
     "output_type": "display_data"
    },
    {
     "data": {
      "text/html": [
       "== Status ==<br>Current time: 2022-01-27 00:42:20 (running for 00:05:29.63)<br>Memory usage on this node: 4.4/7.7 GiB<br>Using FIFO scheduling algorithm.<br>Resources requested: 3.0/8 CPUs, 0/1 GPUs, 0.0/3.59 GiB heap, 0.0/1.8 GiB objects (0.0/1.0 accelerator_type:GT)<br>Result logdir: /root/ray_results/PPO<br>Number of trials: 1/1 (1 RUNNING)<br><table>\n",
       "<thead>\n",
       "<tr><th>Trial name                </th><th>status  </th><th>loc            </th><th style=\"text-align: right;\">  iter</th><th style=\"text-align: right;\">  total time (s)</th><th style=\"text-align: right;\">  ts</th><th style=\"text-align: right;\">  reward</th><th style=\"text-align: right;\">  episode_reward_max</th><th style=\"text-align: right;\">  episode_reward_min</th><th style=\"text-align: right;\">  episode_len_mean</th></tr>\n",
       "</thead>\n",
       "<tbody>\n",
       "<tr><td>PPO_TradingEnv_36bfe_00000</td><td>RUNNING </td><td>172.17.0.2:5590</td><td style=\"text-align: right;\">     1</td><td style=\"text-align: right;\">         175.971</td><td style=\"text-align: right;\">4000</td><td style=\"text-align: right;\">  27.486</td><td style=\"text-align: right;\">               859.1</td><td style=\"text-align: right;\">              -809.7</td><td style=\"text-align: right;\">           18.4791</td></tr>\n",
       "</tbody>\n",
       "</table><br><br>"
      ],
      "text/plain": [
       "<IPython.core.display.HTML object>"
      ]
     },
     "metadata": {},
     "output_type": "display_data"
    },
    {
     "data": {
      "text/html": [
       "== Status ==<br>Current time: 2022-01-27 00:42:25 (running for 00:05:34.64)<br>Memory usage on this node: 4.4/7.7 GiB<br>Using FIFO scheduling algorithm.<br>Resources requested: 3.0/8 CPUs, 0/1 GPUs, 0.0/3.59 GiB heap, 0.0/1.8 GiB objects (0.0/1.0 accelerator_type:GT)<br>Result logdir: /root/ray_results/PPO<br>Number of trials: 1/1 (1 RUNNING)<br><table>\n",
       "<thead>\n",
       "<tr><th>Trial name                </th><th>status  </th><th>loc            </th><th style=\"text-align: right;\">  iter</th><th style=\"text-align: right;\">  total time (s)</th><th style=\"text-align: right;\">  ts</th><th style=\"text-align: right;\">  reward</th><th style=\"text-align: right;\">  episode_reward_max</th><th style=\"text-align: right;\">  episode_reward_min</th><th style=\"text-align: right;\">  episode_len_mean</th></tr>\n",
       "</thead>\n",
       "<tbody>\n",
       "<tr><td>PPO_TradingEnv_36bfe_00000</td><td>RUNNING </td><td>172.17.0.2:5590</td><td style=\"text-align: right;\">     1</td><td style=\"text-align: right;\">         175.971</td><td style=\"text-align: right;\">4000</td><td style=\"text-align: right;\">  27.486</td><td style=\"text-align: right;\">               859.1</td><td style=\"text-align: right;\">              -809.7</td><td style=\"text-align: right;\">           18.4791</td></tr>\n",
       "</tbody>\n",
       "</table><br><br>"
      ],
      "text/plain": [
       "<IPython.core.display.HTML object>"
      ]
     },
     "metadata": {},
     "output_type": "display_data"
    },
    {
     "data": {
      "text/html": [
       "== Status ==<br>Current time: 2022-01-27 00:42:30 (running for 00:05:39.64)<br>Memory usage on this node: 4.4/7.7 GiB<br>Using FIFO scheduling algorithm.<br>Resources requested: 3.0/8 CPUs, 0/1 GPUs, 0.0/3.59 GiB heap, 0.0/1.8 GiB objects (0.0/1.0 accelerator_type:GT)<br>Result logdir: /root/ray_results/PPO<br>Number of trials: 1/1 (1 RUNNING)<br><table>\n",
       "<thead>\n",
       "<tr><th>Trial name                </th><th>status  </th><th>loc            </th><th style=\"text-align: right;\">  iter</th><th style=\"text-align: right;\">  total time (s)</th><th style=\"text-align: right;\">  ts</th><th style=\"text-align: right;\">  reward</th><th style=\"text-align: right;\">  episode_reward_max</th><th style=\"text-align: right;\">  episode_reward_min</th><th style=\"text-align: right;\">  episode_len_mean</th></tr>\n",
       "</thead>\n",
       "<tbody>\n",
       "<tr><td>PPO_TradingEnv_36bfe_00000</td><td>RUNNING </td><td>172.17.0.2:5590</td><td style=\"text-align: right;\">     1</td><td style=\"text-align: right;\">         175.971</td><td style=\"text-align: right;\">4000</td><td style=\"text-align: right;\">  27.486</td><td style=\"text-align: right;\">               859.1</td><td style=\"text-align: right;\">              -809.7</td><td style=\"text-align: right;\">           18.4791</td></tr>\n",
       "</tbody>\n",
       "</table><br><br>"
      ],
      "text/plain": [
       "<IPython.core.display.HTML object>"
      ]
     },
     "metadata": {},
     "output_type": "display_data"
    },
    {
     "data": {
      "text/html": [
       "== Status ==<br>Current time: 2022-01-27 00:42:35 (running for 00:05:44.65)<br>Memory usage on this node: 4.4/7.7 GiB<br>Using FIFO scheduling algorithm.<br>Resources requested: 3.0/8 CPUs, 0/1 GPUs, 0.0/3.59 GiB heap, 0.0/1.8 GiB objects (0.0/1.0 accelerator_type:GT)<br>Result logdir: /root/ray_results/PPO<br>Number of trials: 1/1 (1 RUNNING)<br><table>\n",
       "<thead>\n",
       "<tr><th>Trial name                </th><th>status  </th><th>loc            </th><th style=\"text-align: right;\">  iter</th><th style=\"text-align: right;\">  total time (s)</th><th style=\"text-align: right;\">  ts</th><th style=\"text-align: right;\">  reward</th><th style=\"text-align: right;\">  episode_reward_max</th><th style=\"text-align: right;\">  episode_reward_min</th><th style=\"text-align: right;\">  episode_len_mean</th></tr>\n",
       "</thead>\n",
       "<tbody>\n",
       "<tr><td>PPO_TradingEnv_36bfe_00000</td><td>RUNNING </td><td>172.17.0.2:5590</td><td style=\"text-align: right;\">     1</td><td style=\"text-align: right;\">         175.971</td><td style=\"text-align: right;\">4000</td><td style=\"text-align: right;\">  27.486</td><td style=\"text-align: right;\">               859.1</td><td style=\"text-align: right;\">              -809.7</td><td style=\"text-align: right;\">           18.4791</td></tr>\n",
       "</tbody>\n",
       "</table><br><br>"
      ],
      "text/plain": [
       "<IPython.core.display.HTML object>"
      ]
     },
     "metadata": {},
     "output_type": "display_data"
    },
    {
     "data": {
      "text/html": [
       "== Status ==<br>Current time: 2022-01-27 00:42:40 (running for 00:05:49.65)<br>Memory usage on this node: 4.4/7.7 GiB<br>Using FIFO scheduling algorithm.<br>Resources requested: 3.0/8 CPUs, 0/1 GPUs, 0.0/3.59 GiB heap, 0.0/1.8 GiB objects (0.0/1.0 accelerator_type:GT)<br>Result logdir: /root/ray_results/PPO<br>Number of trials: 1/1 (1 RUNNING)<br><table>\n",
       "<thead>\n",
       "<tr><th>Trial name                </th><th>status  </th><th>loc            </th><th style=\"text-align: right;\">  iter</th><th style=\"text-align: right;\">  total time (s)</th><th style=\"text-align: right;\">  ts</th><th style=\"text-align: right;\">  reward</th><th style=\"text-align: right;\">  episode_reward_max</th><th style=\"text-align: right;\">  episode_reward_min</th><th style=\"text-align: right;\">  episode_len_mean</th></tr>\n",
       "</thead>\n",
       "<tbody>\n",
       "<tr><td>PPO_TradingEnv_36bfe_00000</td><td>RUNNING </td><td>172.17.0.2:5590</td><td style=\"text-align: right;\">     1</td><td style=\"text-align: right;\">         175.971</td><td style=\"text-align: right;\">4000</td><td style=\"text-align: right;\">  27.486</td><td style=\"text-align: right;\">               859.1</td><td style=\"text-align: right;\">              -809.7</td><td style=\"text-align: right;\">           18.4791</td></tr>\n",
       "</tbody>\n",
       "</table><br><br>"
      ],
      "text/plain": [
       "<IPython.core.display.HTML object>"
      ]
     },
     "metadata": {},
     "output_type": "display_data"
    },
    {
     "name": "stdout",
     "output_type": "stream",
     "text": [
      "Result for PPO_TradingEnv_36bfe_00000:\n",
      "  agent_timesteps_total: 8000\n",
      "  custom_metrics: {}\n",
      "  date: 2022-01-27_00-42-45\n",
      "  done: false\n",
      "  episode_len_mean: 18.09009009009009\n",
      "  episode_media: {}\n",
      "  episode_reward_max: 1202.2000000000007\n",
      "  episode_reward_mean: 259.10765765765666\n",
      "  episode_reward_min: -464.79999999999745\n",
      "  episodes_this_iter: 222\n",
      "  episodes_total: 437\n",
      "  experiment_id: 24a371e8dfc342d4a5944195365b4acd\n",
      "  hostname: 1560ecedb02e\n",
      "  info:\n",
      "    learner:\n",
      "      default_policy:\n",
      "        custom_metrics: {}\n",
      "        learner_stats:\n",
      "          allreduce_latency: 0.0\n",
      "          cur_kl_coeff: 0.3\n",
      "          cur_lr: 0.0007\n",
      "          entropy: 0.4760569243982274\n",
      "          entropy_coeff: 0.01\n",
      "          kl: 0.07934426198168523\n",
      "          policy_loss: -0.17866915529487423\n",
      "          total_loss: 0.6562312469367058\n",
      "          vf_explained_var: -0.007140074942701607\n",
      "          vf_loss: 1.631715384606392\n",
      "        model: {}\n",
      "    num_agent_steps_sampled: 8000\n",
      "    num_agent_steps_trained: 8000\n",
      "    num_steps_sampled: 8000\n",
      "    num_steps_trained: 8000\n",
      "    num_steps_trained_this_iter: 0\n",
      "  iterations_since_restore: 2\n",
      "  node_ip: 172.17.0.2\n",
      "  num_healthy_workers: 2\n",
      "  off_policy_estimator: {}\n",
      "  perf:\n",
      "    cpu_util_percent: 17.125\n",
      "    ram_util_percent: 57.96822033898305\n",
      "  pid: 5590\n",
      "  policy_reward_max: {}\n",
      "  policy_reward_mean: {}\n",
      "  policy_reward_min: {}\n",
      "  sampler_perf:\n",
      "    mean_action_processing_ms: 0.11814533877005705\n",
      "    mean_env_render_ms: 0.0\n",
      "    mean_env_wait_ms: 0.9293067174817303\n",
      "    mean_inference_ms: 2.7461678932428883\n",
      "    mean_raw_obs_processing_ms: 0.34140415623230486\n",
      "  time_since_restore: 341.91530108451843\n",
      "  time_this_iter_s: 165.9445824623108\n",
      "  time_total_s: 341.91530108451843\n",
      "  timers:\n",
      "    learn_throughput: 24.631\n",
      "    learn_time_ms: 162397.22\n",
      "    load_throughput: 53613.491\n",
      "    load_time_ms: 74.608\n",
      "    sample_throughput: 43.422\n",
      "    sample_time_ms: 92118.215\n",
      "    update_time_ms: 5.671\n",
      "  timestamp: 1643244165\n",
      "  timesteps_since_restore: 0\n",
      "  timesteps_this_iter: 0\n",
      "  timesteps_total: 8000\n",
      "  training_iteration: 2\n",
      "  trial_id: 36bfe_00000\n",
      "  \n"
     ]
    },
    {
     "name": "stderr",
     "output_type": "stream",
     "text": [
      "\u001b[2m\u001b[36m(RolloutWorker pid=5588)\u001b[0m /usr/local/lib/python3.6/dist-packages/ray/rllib/utils/numpy.py:140: FutureWarning:\n",
      "\u001b[2m\u001b[36m(RolloutWorker pid=5588)\u001b[0m \n",
      "\u001b[2m\u001b[36m(RolloutWorker pid=5588)\u001b[0m Conversion of the second argument of issubdtype from `int` to `np.signedinteger` is deprecated. In future, it will be treated as `np.int64 == np.dtype(int).type`.\n",
      "\u001b[2m\u001b[36m(RolloutWorker pid=5588)\u001b[0m \n",
      "\u001b[2m\u001b[36m(RolloutWorker pid=5594)\u001b[0m /usr/local/lib/python3.6/dist-packages/ray/rllib/utils/numpy.py:140: FutureWarning:\n",
      "\u001b[2m\u001b[36m(RolloutWorker pid=5594)\u001b[0m \n",
      "\u001b[2m\u001b[36m(RolloutWorker pid=5594)\u001b[0m Conversion of the second argument of issubdtype from `int` to `np.signedinteger` is deprecated. In future, it will be treated as `np.int64 == np.dtype(int).type`.\n",
      "\u001b[2m\u001b[36m(RolloutWorker pid=5594)\u001b[0m \n"
     ]
    },
    {
     "data": {
      "text/html": [
       "== Status ==<br>Current time: 2022-01-27 00:42:46 (running for 00:05:55.43)<br>Memory usage on this node: 4.4/7.7 GiB<br>Using FIFO scheduling algorithm.<br>Resources requested: 3.0/8 CPUs, 0/1 GPUs, 0.0/3.59 GiB heap, 0.0/1.8 GiB objects (0.0/1.0 accelerator_type:GT)<br>Result logdir: /root/ray_results/PPO<br>Number of trials: 1/1 (1 RUNNING)<br><table>\n",
       "<thead>\n",
       "<tr><th>Trial name                </th><th>status  </th><th>loc            </th><th style=\"text-align: right;\">  iter</th><th style=\"text-align: right;\">  total time (s)</th><th style=\"text-align: right;\">  ts</th><th style=\"text-align: right;\">  reward</th><th style=\"text-align: right;\">  episode_reward_max</th><th style=\"text-align: right;\">  episode_reward_min</th><th style=\"text-align: right;\">  episode_len_mean</th></tr>\n",
       "</thead>\n",
       "<tbody>\n",
       "<tr><td>PPO_TradingEnv_36bfe_00000</td><td>RUNNING </td><td>172.17.0.2:5590</td><td style=\"text-align: right;\">     2</td><td style=\"text-align: right;\">         341.915</td><td style=\"text-align: right;\">8000</td><td style=\"text-align: right;\"> 259.108</td><td style=\"text-align: right;\">              1202.2</td><td style=\"text-align: right;\">              -464.8</td><td style=\"text-align: right;\">           18.0901</td></tr>\n",
       "</tbody>\n",
       "</table><br><br>"
      ],
      "text/plain": [
       "<IPython.core.display.HTML object>"
      ]
     },
     "metadata": {},
     "output_type": "display_data"
    },
    {
     "data": {
      "text/html": [
       "== Status ==<br>Current time: 2022-01-27 00:42:51 (running for 00:06:00.43)<br>Memory usage on this node: 4.4/7.7 GiB<br>Using FIFO scheduling algorithm.<br>Resources requested: 3.0/8 CPUs, 0/1 GPUs, 0.0/3.59 GiB heap, 0.0/1.8 GiB objects (0.0/1.0 accelerator_type:GT)<br>Result logdir: /root/ray_results/PPO<br>Number of trials: 1/1 (1 RUNNING)<br><table>\n",
       "<thead>\n",
       "<tr><th>Trial name                </th><th>status  </th><th>loc            </th><th style=\"text-align: right;\">  iter</th><th style=\"text-align: right;\">  total time (s)</th><th style=\"text-align: right;\">  ts</th><th style=\"text-align: right;\">  reward</th><th style=\"text-align: right;\">  episode_reward_max</th><th style=\"text-align: right;\">  episode_reward_min</th><th style=\"text-align: right;\">  episode_len_mean</th></tr>\n",
       "</thead>\n",
       "<tbody>\n",
       "<tr><td>PPO_TradingEnv_36bfe_00000</td><td>RUNNING </td><td>172.17.0.2:5590</td><td style=\"text-align: right;\">     2</td><td style=\"text-align: right;\">         341.915</td><td style=\"text-align: right;\">8000</td><td style=\"text-align: right;\"> 259.108</td><td style=\"text-align: right;\">              1202.2</td><td style=\"text-align: right;\">              -464.8</td><td style=\"text-align: right;\">           18.0901</td></tr>\n",
       "</tbody>\n",
       "</table><br><br>"
      ],
      "text/plain": [
       "<IPython.core.display.HTML object>"
      ]
     },
     "metadata": {},
     "output_type": "display_data"
    },
    {
     "data": {
      "text/html": [
       "== Status ==<br>Current time: 2022-01-27 00:42:56 (running for 00:06:05.44)<br>Memory usage on this node: 4.4/7.7 GiB<br>Using FIFO scheduling algorithm.<br>Resources requested: 3.0/8 CPUs, 0/1 GPUs, 0.0/3.59 GiB heap, 0.0/1.8 GiB objects (0.0/1.0 accelerator_type:GT)<br>Result logdir: /root/ray_results/PPO<br>Number of trials: 1/1 (1 RUNNING)<br><table>\n",
       "<thead>\n",
       "<tr><th>Trial name                </th><th>status  </th><th>loc            </th><th style=\"text-align: right;\">  iter</th><th style=\"text-align: right;\">  total time (s)</th><th style=\"text-align: right;\">  ts</th><th style=\"text-align: right;\">  reward</th><th style=\"text-align: right;\">  episode_reward_max</th><th style=\"text-align: right;\">  episode_reward_min</th><th style=\"text-align: right;\">  episode_len_mean</th></tr>\n",
       "</thead>\n",
       "<tbody>\n",
       "<tr><td>PPO_TradingEnv_36bfe_00000</td><td>RUNNING </td><td>172.17.0.2:5590</td><td style=\"text-align: right;\">     2</td><td style=\"text-align: right;\">         341.915</td><td style=\"text-align: right;\">8000</td><td style=\"text-align: right;\"> 259.108</td><td style=\"text-align: right;\">              1202.2</td><td style=\"text-align: right;\">              -464.8</td><td style=\"text-align: right;\">           18.0901</td></tr>\n",
       "</tbody>\n",
       "</table><br><br>"
      ],
      "text/plain": [
       "<IPython.core.display.HTML object>"
      ]
     },
     "metadata": {},
     "output_type": "display_data"
    },
    {
     "data": {
      "text/html": [
       "== Status ==<br>Current time: 2022-01-27 00:43:01 (running for 00:06:10.45)<br>Memory usage on this node: 4.5/7.7 GiB<br>Using FIFO scheduling algorithm.<br>Resources requested: 3.0/8 CPUs, 0/1 GPUs, 0.0/3.59 GiB heap, 0.0/1.8 GiB objects (0.0/1.0 accelerator_type:GT)<br>Result logdir: /root/ray_results/PPO<br>Number of trials: 1/1 (1 RUNNING)<br><table>\n",
       "<thead>\n",
       "<tr><th>Trial name                </th><th>status  </th><th>loc            </th><th style=\"text-align: right;\">  iter</th><th style=\"text-align: right;\">  total time (s)</th><th style=\"text-align: right;\">  ts</th><th style=\"text-align: right;\">  reward</th><th style=\"text-align: right;\">  episode_reward_max</th><th style=\"text-align: right;\">  episode_reward_min</th><th style=\"text-align: right;\">  episode_len_mean</th></tr>\n",
       "</thead>\n",
       "<tbody>\n",
       "<tr><td>PPO_TradingEnv_36bfe_00000</td><td>RUNNING </td><td>172.17.0.2:5590</td><td style=\"text-align: right;\">     2</td><td style=\"text-align: right;\">         341.915</td><td style=\"text-align: right;\">8000</td><td style=\"text-align: right;\"> 259.108</td><td style=\"text-align: right;\">              1202.2</td><td style=\"text-align: right;\">              -464.8</td><td style=\"text-align: right;\">           18.0901</td></tr>\n",
       "</tbody>\n",
       "</table><br><br>"
      ],
      "text/plain": [
       "<IPython.core.display.HTML object>"
      ]
     },
     "metadata": {},
     "output_type": "display_data"
    },
    {
     "data": {
      "text/html": [
       "== Status ==<br>Current time: 2022-01-27 00:43:06 (running for 00:06:15.46)<br>Memory usage on this node: 4.4/7.7 GiB<br>Using FIFO scheduling algorithm.<br>Resources requested: 3.0/8 CPUs, 0/1 GPUs, 0.0/3.59 GiB heap, 0.0/1.8 GiB objects (0.0/1.0 accelerator_type:GT)<br>Result logdir: /root/ray_results/PPO<br>Number of trials: 1/1 (1 RUNNING)<br><table>\n",
       "<thead>\n",
       "<tr><th>Trial name                </th><th>status  </th><th>loc            </th><th style=\"text-align: right;\">  iter</th><th style=\"text-align: right;\">  total time (s)</th><th style=\"text-align: right;\">  ts</th><th style=\"text-align: right;\">  reward</th><th style=\"text-align: right;\">  episode_reward_max</th><th style=\"text-align: right;\">  episode_reward_min</th><th style=\"text-align: right;\">  episode_len_mean</th></tr>\n",
       "</thead>\n",
       "<tbody>\n",
       "<tr><td>PPO_TradingEnv_36bfe_00000</td><td>RUNNING </td><td>172.17.0.2:5590</td><td style=\"text-align: right;\">     2</td><td style=\"text-align: right;\">         341.915</td><td style=\"text-align: right;\">8000</td><td style=\"text-align: right;\"> 259.108</td><td style=\"text-align: right;\">              1202.2</td><td style=\"text-align: right;\">              -464.8</td><td style=\"text-align: right;\">           18.0901</td></tr>\n",
       "</tbody>\n",
       "</table><br><br>"
      ],
      "text/plain": [
       "<IPython.core.display.HTML object>"
      ]
     },
     "metadata": {},
     "output_type": "display_data"
    },
    {
     "data": {
      "text/html": [
       "== Status ==<br>Current time: 2022-01-27 00:43:11 (running for 00:06:20.46)<br>Memory usage on this node: 4.4/7.7 GiB<br>Using FIFO scheduling algorithm.<br>Resources requested: 3.0/8 CPUs, 0/1 GPUs, 0.0/3.59 GiB heap, 0.0/1.8 GiB objects (0.0/1.0 accelerator_type:GT)<br>Result logdir: /root/ray_results/PPO<br>Number of trials: 1/1 (1 RUNNING)<br><table>\n",
       "<thead>\n",
       "<tr><th>Trial name                </th><th>status  </th><th>loc            </th><th style=\"text-align: right;\">  iter</th><th style=\"text-align: right;\">  total time (s)</th><th style=\"text-align: right;\">  ts</th><th style=\"text-align: right;\">  reward</th><th style=\"text-align: right;\">  episode_reward_max</th><th style=\"text-align: right;\">  episode_reward_min</th><th style=\"text-align: right;\">  episode_len_mean</th></tr>\n",
       "</thead>\n",
       "<tbody>\n",
       "<tr><td>PPO_TradingEnv_36bfe_00000</td><td>RUNNING </td><td>172.17.0.2:5590</td><td style=\"text-align: right;\">     2</td><td style=\"text-align: right;\">         341.915</td><td style=\"text-align: right;\">8000</td><td style=\"text-align: right;\"> 259.108</td><td style=\"text-align: right;\">              1202.2</td><td style=\"text-align: right;\">              -464.8</td><td style=\"text-align: right;\">           18.0901</td></tr>\n",
       "</tbody>\n",
       "</table><br><br>"
      ],
      "text/plain": [
       "<IPython.core.display.HTML object>"
      ]
     },
     "metadata": {},
     "output_type": "display_data"
    },
    {
     "data": {
      "text/html": [
       "== Status ==<br>Current time: 2022-01-27 00:43:16 (running for 00:06:25.47)<br>Memory usage on this node: 4.4/7.7 GiB<br>Using FIFO scheduling algorithm.<br>Resources requested: 3.0/8 CPUs, 0/1 GPUs, 0.0/3.59 GiB heap, 0.0/1.8 GiB objects (0.0/1.0 accelerator_type:GT)<br>Result logdir: /root/ray_results/PPO<br>Number of trials: 1/1 (1 RUNNING)<br><table>\n",
       "<thead>\n",
       "<tr><th>Trial name                </th><th>status  </th><th>loc            </th><th style=\"text-align: right;\">  iter</th><th style=\"text-align: right;\">  total time (s)</th><th style=\"text-align: right;\">  ts</th><th style=\"text-align: right;\">  reward</th><th style=\"text-align: right;\">  episode_reward_max</th><th style=\"text-align: right;\">  episode_reward_min</th><th style=\"text-align: right;\">  episode_len_mean</th></tr>\n",
       "</thead>\n",
       "<tbody>\n",
       "<tr><td>PPO_TradingEnv_36bfe_00000</td><td>RUNNING </td><td>172.17.0.2:5590</td><td style=\"text-align: right;\">     2</td><td style=\"text-align: right;\">         341.915</td><td style=\"text-align: right;\">8000</td><td style=\"text-align: right;\"> 259.108</td><td style=\"text-align: right;\">              1202.2</td><td style=\"text-align: right;\">              -464.8</td><td style=\"text-align: right;\">           18.0901</td></tr>\n",
       "</tbody>\n",
       "</table><br><br>"
      ],
      "text/plain": [
       "<IPython.core.display.HTML object>"
      ]
     },
     "metadata": {},
     "output_type": "display_data"
    },
    {
     "data": {
      "text/html": [
       "== Status ==<br>Current time: 2022-01-27 00:43:21 (running for 00:06:30.48)<br>Memory usage on this node: 4.4/7.7 GiB<br>Using FIFO scheduling algorithm.<br>Resources requested: 3.0/8 CPUs, 0/1 GPUs, 0.0/3.59 GiB heap, 0.0/1.8 GiB objects (0.0/1.0 accelerator_type:GT)<br>Result logdir: /root/ray_results/PPO<br>Number of trials: 1/1 (1 RUNNING)<br><table>\n",
       "<thead>\n",
       "<tr><th>Trial name                </th><th>status  </th><th>loc            </th><th style=\"text-align: right;\">  iter</th><th style=\"text-align: right;\">  total time (s)</th><th style=\"text-align: right;\">  ts</th><th style=\"text-align: right;\">  reward</th><th style=\"text-align: right;\">  episode_reward_max</th><th style=\"text-align: right;\">  episode_reward_min</th><th style=\"text-align: right;\">  episode_len_mean</th></tr>\n",
       "</thead>\n",
       "<tbody>\n",
       "<tr><td>PPO_TradingEnv_36bfe_00000</td><td>RUNNING </td><td>172.17.0.2:5590</td><td style=\"text-align: right;\">     2</td><td style=\"text-align: right;\">         341.915</td><td style=\"text-align: right;\">8000</td><td style=\"text-align: right;\"> 259.108</td><td style=\"text-align: right;\">              1202.2</td><td style=\"text-align: right;\">              -464.8</td><td style=\"text-align: right;\">           18.0901</td></tr>\n",
       "</tbody>\n",
       "</table><br><br>"
      ],
      "text/plain": [
       "<IPython.core.display.HTML object>"
      ]
     },
     "metadata": {},
     "output_type": "display_data"
    },
    {
     "data": {
      "text/html": [
       "== Status ==<br>Current time: 2022-01-27 00:43:26 (running for 00:06:35.49)<br>Memory usage on this node: 4.4/7.7 GiB<br>Using FIFO scheduling algorithm.<br>Resources requested: 3.0/8 CPUs, 0/1 GPUs, 0.0/3.59 GiB heap, 0.0/1.8 GiB objects (0.0/1.0 accelerator_type:GT)<br>Result logdir: /root/ray_results/PPO<br>Number of trials: 1/1 (1 RUNNING)<br><table>\n",
       "<thead>\n",
       "<tr><th>Trial name                </th><th>status  </th><th>loc            </th><th style=\"text-align: right;\">  iter</th><th style=\"text-align: right;\">  total time (s)</th><th style=\"text-align: right;\">  ts</th><th style=\"text-align: right;\">  reward</th><th style=\"text-align: right;\">  episode_reward_max</th><th style=\"text-align: right;\">  episode_reward_min</th><th style=\"text-align: right;\">  episode_len_mean</th></tr>\n",
       "</thead>\n",
       "<tbody>\n",
       "<tr><td>PPO_TradingEnv_36bfe_00000</td><td>RUNNING </td><td>172.17.0.2:5590</td><td style=\"text-align: right;\">     2</td><td style=\"text-align: right;\">         341.915</td><td style=\"text-align: right;\">8000</td><td style=\"text-align: right;\"> 259.108</td><td style=\"text-align: right;\">              1202.2</td><td style=\"text-align: right;\">              -464.8</td><td style=\"text-align: right;\">           18.0901</td></tr>\n",
       "</tbody>\n",
       "</table><br><br>"
      ],
      "text/plain": [
       "<IPython.core.display.HTML object>"
      ]
     },
     "metadata": {},
     "output_type": "display_data"
    },
    {
     "data": {
      "text/html": [
       "== Status ==<br>Current time: 2022-01-27 00:43:31 (running for 00:06:40.49)<br>Memory usage on this node: 4.5/7.7 GiB<br>Using FIFO scheduling algorithm.<br>Resources requested: 3.0/8 CPUs, 0/1 GPUs, 0.0/3.59 GiB heap, 0.0/1.8 GiB objects (0.0/1.0 accelerator_type:GT)<br>Result logdir: /root/ray_results/PPO<br>Number of trials: 1/1 (1 RUNNING)<br><table>\n",
       "<thead>\n",
       "<tr><th>Trial name                </th><th>status  </th><th>loc            </th><th style=\"text-align: right;\">  iter</th><th style=\"text-align: right;\">  total time (s)</th><th style=\"text-align: right;\">  ts</th><th style=\"text-align: right;\">  reward</th><th style=\"text-align: right;\">  episode_reward_max</th><th style=\"text-align: right;\">  episode_reward_min</th><th style=\"text-align: right;\">  episode_len_mean</th></tr>\n",
       "</thead>\n",
       "<tbody>\n",
       "<tr><td>PPO_TradingEnv_36bfe_00000</td><td>RUNNING </td><td>172.17.0.2:5590</td><td style=\"text-align: right;\">     2</td><td style=\"text-align: right;\">         341.915</td><td style=\"text-align: right;\">8000</td><td style=\"text-align: right;\"> 259.108</td><td style=\"text-align: right;\">              1202.2</td><td style=\"text-align: right;\">              -464.8</td><td style=\"text-align: right;\">           18.0901</td></tr>\n",
       "</tbody>\n",
       "</table><br><br>"
      ],
      "text/plain": [
       "<IPython.core.display.HTML object>"
      ]
     },
     "metadata": {},
     "output_type": "display_data"
    },
    {
     "data": {
      "text/html": [
       "== Status ==<br>Current time: 2022-01-27 00:43:36 (running for 00:06:45.50)<br>Memory usage on this node: 4.5/7.7 GiB<br>Using FIFO scheduling algorithm.<br>Resources requested: 3.0/8 CPUs, 0/1 GPUs, 0.0/3.59 GiB heap, 0.0/1.8 GiB objects (0.0/1.0 accelerator_type:GT)<br>Result logdir: /root/ray_results/PPO<br>Number of trials: 1/1 (1 RUNNING)<br><table>\n",
       "<thead>\n",
       "<tr><th>Trial name                </th><th>status  </th><th>loc            </th><th style=\"text-align: right;\">  iter</th><th style=\"text-align: right;\">  total time (s)</th><th style=\"text-align: right;\">  ts</th><th style=\"text-align: right;\">  reward</th><th style=\"text-align: right;\">  episode_reward_max</th><th style=\"text-align: right;\">  episode_reward_min</th><th style=\"text-align: right;\">  episode_len_mean</th></tr>\n",
       "</thead>\n",
       "<tbody>\n",
       "<tr><td>PPO_TradingEnv_36bfe_00000</td><td>RUNNING </td><td>172.17.0.2:5590</td><td style=\"text-align: right;\">     2</td><td style=\"text-align: right;\">         341.915</td><td style=\"text-align: right;\">8000</td><td style=\"text-align: right;\"> 259.108</td><td style=\"text-align: right;\">              1202.2</td><td style=\"text-align: right;\">              -464.8</td><td style=\"text-align: right;\">           18.0901</td></tr>\n",
       "</tbody>\n",
       "</table><br><br>"
      ],
      "text/plain": [
       "<IPython.core.display.HTML object>"
      ]
     },
     "metadata": {},
     "output_type": "display_data"
    },
    {
     "data": {
      "text/html": [
       "== Status ==<br>Current time: 2022-01-27 00:43:41 (running for 00:06:50.51)<br>Memory usage on this node: 4.5/7.7 GiB<br>Using FIFO scheduling algorithm.<br>Resources requested: 3.0/8 CPUs, 0/1 GPUs, 0.0/3.59 GiB heap, 0.0/1.8 GiB objects (0.0/1.0 accelerator_type:GT)<br>Result logdir: /root/ray_results/PPO<br>Number of trials: 1/1 (1 RUNNING)<br><table>\n",
       "<thead>\n",
       "<tr><th>Trial name                </th><th>status  </th><th>loc            </th><th style=\"text-align: right;\">  iter</th><th style=\"text-align: right;\">  total time (s)</th><th style=\"text-align: right;\">  ts</th><th style=\"text-align: right;\">  reward</th><th style=\"text-align: right;\">  episode_reward_max</th><th style=\"text-align: right;\">  episode_reward_min</th><th style=\"text-align: right;\">  episode_len_mean</th></tr>\n",
       "</thead>\n",
       "<tbody>\n",
       "<tr><td>PPO_TradingEnv_36bfe_00000</td><td>RUNNING </td><td>172.17.0.2:5590</td><td style=\"text-align: right;\">     2</td><td style=\"text-align: right;\">         341.915</td><td style=\"text-align: right;\">8000</td><td style=\"text-align: right;\"> 259.108</td><td style=\"text-align: right;\">              1202.2</td><td style=\"text-align: right;\">              -464.8</td><td style=\"text-align: right;\">           18.0901</td></tr>\n",
       "</tbody>\n",
       "</table><br><br>"
      ],
      "text/plain": [
       "<IPython.core.display.HTML object>"
      ]
     },
     "metadata": {},
     "output_type": "display_data"
    },
    {
     "data": {
      "text/html": [
       "== Status ==<br>Current time: 2022-01-27 00:43:46 (running for 00:06:55.51)<br>Memory usage on this node: 4.4/7.7 GiB<br>Using FIFO scheduling algorithm.<br>Resources requested: 3.0/8 CPUs, 0/1 GPUs, 0.0/3.59 GiB heap, 0.0/1.8 GiB objects (0.0/1.0 accelerator_type:GT)<br>Result logdir: /root/ray_results/PPO<br>Number of trials: 1/1 (1 RUNNING)<br><table>\n",
       "<thead>\n",
       "<tr><th>Trial name                </th><th>status  </th><th>loc            </th><th style=\"text-align: right;\">  iter</th><th style=\"text-align: right;\">  total time (s)</th><th style=\"text-align: right;\">  ts</th><th style=\"text-align: right;\">  reward</th><th style=\"text-align: right;\">  episode_reward_max</th><th style=\"text-align: right;\">  episode_reward_min</th><th style=\"text-align: right;\">  episode_len_mean</th></tr>\n",
       "</thead>\n",
       "<tbody>\n",
       "<tr><td>PPO_TradingEnv_36bfe_00000</td><td>RUNNING </td><td>172.17.0.2:5590</td><td style=\"text-align: right;\">     2</td><td style=\"text-align: right;\">         341.915</td><td style=\"text-align: right;\">8000</td><td style=\"text-align: right;\"> 259.108</td><td style=\"text-align: right;\">              1202.2</td><td style=\"text-align: right;\">              -464.8</td><td style=\"text-align: right;\">           18.0901</td></tr>\n",
       "</tbody>\n",
       "</table><br><br>"
      ],
      "text/plain": [
       "<IPython.core.display.HTML object>"
      ]
     },
     "metadata": {},
     "output_type": "display_data"
    },
    {
     "data": {
      "text/html": [
       "== Status ==<br>Current time: 2022-01-27 00:43:51 (running for 00:07:00.52)<br>Memory usage on this node: 4.5/7.7 GiB<br>Using FIFO scheduling algorithm.<br>Resources requested: 3.0/8 CPUs, 0/1 GPUs, 0.0/3.59 GiB heap, 0.0/1.8 GiB objects (0.0/1.0 accelerator_type:GT)<br>Result logdir: /root/ray_results/PPO<br>Number of trials: 1/1 (1 RUNNING)<br><table>\n",
       "<thead>\n",
       "<tr><th>Trial name                </th><th>status  </th><th>loc            </th><th style=\"text-align: right;\">  iter</th><th style=\"text-align: right;\">  total time (s)</th><th style=\"text-align: right;\">  ts</th><th style=\"text-align: right;\">  reward</th><th style=\"text-align: right;\">  episode_reward_max</th><th style=\"text-align: right;\">  episode_reward_min</th><th style=\"text-align: right;\">  episode_len_mean</th></tr>\n",
       "</thead>\n",
       "<tbody>\n",
       "<tr><td>PPO_TradingEnv_36bfe_00000</td><td>RUNNING </td><td>172.17.0.2:5590</td><td style=\"text-align: right;\">     2</td><td style=\"text-align: right;\">         341.915</td><td style=\"text-align: right;\">8000</td><td style=\"text-align: right;\"> 259.108</td><td style=\"text-align: right;\">              1202.2</td><td style=\"text-align: right;\">              -464.8</td><td style=\"text-align: right;\">           18.0901</td></tr>\n",
       "</tbody>\n",
       "</table><br><br>"
      ],
      "text/plain": [
       "<IPython.core.display.HTML object>"
      ]
     },
     "metadata": {},
     "output_type": "display_data"
    },
    {
     "data": {
      "text/html": [
       "== Status ==<br>Current time: 2022-01-27 00:43:56 (running for 00:07:05.53)<br>Memory usage on this node: 4.5/7.7 GiB<br>Using FIFO scheduling algorithm.<br>Resources requested: 3.0/8 CPUs, 0/1 GPUs, 0.0/3.59 GiB heap, 0.0/1.8 GiB objects (0.0/1.0 accelerator_type:GT)<br>Result logdir: /root/ray_results/PPO<br>Number of trials: 1/1 (1 RUNNING)<br><table>\n",
       "<thead>\n",
       "<tr><th>Trial name                </th><th>status  </th><th>loc            </th><th style=\"text-align: right;\">  iter</th><th style=\"text-align: right;\">  total time (s)</th><th style=\"text-align: right;\">  ts</th><th style=\"text-align: right;\">  reward</th><th style=\"text-align: right;\">  episode_reward_max</th><th style=\"text-align: right;\">  episode_reward_min</th><th style=\"text-align: right;\">  episode_len_mean</th></tr>\n",
       "</thead>\n",
       "<tbody>\n",
       "<tr><td>PPO_TradingEnv_36bfe_00000</td><td>RUNNING </td><td>172.17.0.2:5590</td><td style=\"text-align: right;\">     2</td><td style=\"text-align: right;\">         341.915</td><td style=\"text-align: right;\">8000</td><td style=\"text-align: right;\"> 259.108</td><td style=\"text-align: right;\">              1202.2</td><td style=\"text-align: right;\">              -464.8</td><td style=\"text-align: right;\">           18.0901</td></tr>\n",
       "</tbody>\n",
       "</table><br><br>"
      ],
      "text/plain": [
       "<IPython.core.display.HTML object>"
      ]
     },
     "metadata": {},
     "output_type": "display_data"
    },
    {
     "data": {
      "text/html": [
       "== Status ==<br>Current time: 2022-01-27 00:44:01 (running for 00:07:10.53)<br>Memory usage on this node: 4.5/7.7 GiB<br>Using FIFO scheduling algorithm.<br>Resources requested: 3.0/8 CPUs, 0/1 GPUs, 0.0/3.59 GiB heap, 0.0/1.8 GiB objects (0.0/1.0 accelerator_type:GT)<br>Result logdir: /root/ray_results/PPO<br>Number of trials: 1/1 (1 RUNNING)<br><table>\n",
       "<thead>\n",
       "<tr><th>Trial name                </th><th>status  </th><th>loc            </th><th style=\"text-align: right;\">  iter</th><th style=\"text-align: right;\">  total time (s)</th><th style=\"text-align: right;\">  ts</th><th style=\"text-align: right;\">  reward</th><th style=\"text-align: right;\">  episode_reward_max</th><th style=\"text-align: right;\">  episode_reward_min</th><th style=\"text-align: right;\">  episode_len_mean</th></tr>\n",
       "</thead>\n",
       "<tbody>\n",
       "<tr><td>PPO_TradingEnv_36bfe_00000</td><td>RUNNING </td><td>172.17.0.2:5590</td><td style=\"text-align: right;\">     2</td><td style=\"text-align: right;\">         341.915</td><td style=\"text-align: right;\">8000</td><td style=\"text-align: right;\"> 259.108</td><td style=\"text-align: right;\">              1202.2</td><td style=\"text-align: right;\">              -464.8</td><td style=\"text-align: right;\">           18.0901</td></tr>\n",
       "</tbody>\n",
       "</table><br><br>"
      ],
      "text/plain": [
       "<IPython.core.display.HTML object>"
      ]
     },
     "metadata": {},
     "output_type": "display_data"
    },
    {
     "data": {
      "text/html": [
       "== Status ==<br>Current time: 2022-01-27 00:44:06 (running for 00:07:15.54)<br>Memory usage on this node: 4.4/7.7 GiB<br>Using FIFO scheduling algorithm.<br>Resources requested: 3.0/8 CPUs, 0/1 GPUs, 0.0/3.59 GiB heap, 0.0/1.8 GiB objects (0.0/1.0 accelerator_type:GT)<br>Result logdir: /root/ray_results/PPO<br>Number of trials: 1/1 (1 RUNNING)<br><table>\n",
       "<thead>\n",
       "<tr><th>Trial name                </th><th>status  </th><th>loc            </th><th style=\"text-align: right;\">  iter</th><th style=\"text-align: right;\">  total time (s)</th><th style=\"text-align: right;\">  ts</th><th style=\"text-align: right;\">  reward</th><th style=\"text-align: right;\">  episode_reward_max</th><th style=\"text-align: right;\">  episode_reward_min</th><th style=\"text-align: right;\">  episode_len_mean</th></tr>\n",
       "</thead>\n",
       "<tbody>\n",
       "<tr><td>PPO_TradingEnv_36bfe_00000</td><td>RUNNING </td><td>172.17.0.2:5590</td><td style=\"text-align: right;\">     2</td><td style=\"text-align: right;\">         341.915</td><td style=\"text-align: right;\">8000</td><td style=\"text-align: right;\"> 259.108</td><td style=\"text-align: right;\">              1202.2</td><td style=\"text-align: right;\">              -464.8</td><td style=\"text-align: right;\">           18.0901</td></tr>\n",
       "</tbody>\n",
       "</table><br><br>"
      ],
      "text/plain": [
       "<IPython.core.display.HTML object>"
      ]
     },
     "metadata": {},
     "output_type": "display_data"
    },
    {
     "data": {
      "text/html": [
       "== Status ==<br>Current time: 2022-01-27 00:44:11 (running for 00:07:20.55)<br>Memory usage on this node: 4.5/7.7 GiB<br>Using FIFO scheduling algorithm.<br>Resources requested: 3.0/8 CPUs, 0/1 GPUs, 0.0/3.59 GiB heap, 0.0/1.8 GiB objects (0.0/1.0 accelerator_type:GT)<br>Result logdir: /root/ray_results/PPO<br>Number of trials: 1/1 (1 RUNNING)<br><table>\n",
       "<thead>\n",
       "<tr><th>Trial name                </th><th>status  </th><th>loc            </th><th style=\"text-align: right;\">  iter</th><th style=\"text-align: right;\">  total time (s)</th><th style=\"text-align: right;\">  ts</th><th style=\"text-align: right;\">  reward</th><th style=\"text-align: right;\">  episode_reward_max</th><th style=\"text-align: right;\">  episode_reward_min</th><th style=\"text-align: right;\">  episode_len_mean</th></tr>\n",
       "</thead>\n",
       "<tbody>\n",
       "<tr><td>PPO_TradingEnv_36bfe_00000</td><td>RUNNING </td><td>172.17.0.2:5590</td><td style=\"text-align: right;\">     2</td><td style=\"text-align: right;\">         341.915</td><td style=\"text-align: right;\">8000</td><td style=\"text-align: right;\"> 259.108</td><td style=\"text-align: right;\">              1202.2</td><td style=\"text-align: right;\">              -464.8</td><td style=\"text-align: right;\">           18.0901</td></tr>\n",
       "</tbody>\n",
       "</table><br><br>"
      ],
      "text/plain": [
       "<IPython.core.display.HTML object>"
      ]
     },
     "metadata": {},
     "output_type": "display_data"
    },
    {
     "data": {
      "text/html": [
       "== Status ==<br>Current time: 2022-01-27 00:44:16 (running for 00:07:25.55)<br>Memory usage on this node: 4.5/7.7 GiB<br>Using FIFO scheduling algorithm.<br>Resources requested: 3.0/8 CPUs, 0/1 GPUs, 0.0/3.59 GiB heap, 0.0/1.8 GiB objects (0.0/1.0 accelerator_type:GT)<br>Result logdir: /root/ray_results/PPO<br>Number of trials: 1/1 (1 RUNNING)<br><table>\n",
       "<thead>\n",
       "<tr><th>Trial name                </th><th>status  </th><th>loc            </th><th style=\"text-align: right;\">  iter</th><th style=\"text-align: right;\">  total time (s)</th><th style=\"text-align: right;\">  ts</th><th style=\"text-align: right;\">  reward</th><th style=\"text-align: right;\">  episode_reward_max</th><th style=\"text-align: right;\">  episode_reward_min</th><th style=\"text-align: right;\">  episode_len_mean</th></tr>\n",
       "</thead>\n",
       "<tbody>\n",
       "<tr><td>PPO_TradingEnv_36bfe_00000</td><td>RUNNING </td><td>172.17.0.2:5590</td><td style=\"text-align: right;\">     2</td><td style=\"text-align: right;\">         341.915</td><td style=\"text-align: right;\">8000</td><td style=\"text-align: right;\"> 259.108</td><td style=\"text-align: right;\">              1202.2</td><td style=\"text-align: right;\">              -464.8</td><td style=\"text-align: right;\">           18.0901</td></tr>\n",
       "</tbody>\n",
       "</table><br><br>"
      ],
      "text/plain": [
       "<IPython.core.display.HTML object>"
      ]
     },
     "metadata": {},
     "output_type": "display_data"
    },
    {
     "data": {
      "text/html": [
       "== Status ==<br>Current time: 2022-01-27 00:44:21 (running for 00:07:30.56)<br>Memory usage on this node: 4.5/7.7 GiB<br>Using FIFO scheduling algorithm.<br>Resources requested: 3.0/8 CPUs, 0/1 GPUs, 0.0/3.59 GiB heap, 0.0/1.8 GiB objects (0.0/1.0 accelerator_type:GT)<br>Result logdir: /root/ray_results/PPO<br>Number of trials: 1/1 (1 RUNNING)<br><table>\n",
       "<thead>\n",
       "<tr><th>Trial name                </th><th>status  </th><th>loc            </th><th style=\"text-align: right;\">  iter</th><th style=\"text-align: right;\">  total time (s)</th><th style=\"text-align: right;\">  ts</th><th style=\"text-align: right;\">  reward</th><th style=\"text-align: right;\">  episode_reward_max</th><th style=\"text-align: right;\">  episode_reward_min</th><th style=\"text-align: right;\">  episode_len_mean</th></tr>\n",
       "</thead>\n",
       "<tbody>\n",
       "<tr><td>PPO_TradingEnv_36bfe_00000</td><td>RUNNING </td><td>172.17.0.2:5590</td><td style=\"text-align: right;\">     2</td><td style=\"text-align: right;\">         341.915</td><td style=\"text-align: right;\">8000</td><td style=\"text-align: right;\"> 259.108</td><td style=\"text-align: right;\">              1202.2</td><td style=\"text-align: right;\">              -464.8</td><td style=\"text-align: right;\">           18.0901</td></tr>\n",
       "</tbody>\n",
       "</table><br><br>"
      ],
      "text/plain": [
       "<IPython.core.display.HTML object>"
      ]
     },
     "metadata": {},
     "output_type": "display_data"
    },
    {
     "data": {
      "text/html": [
       "== Status ==<br>Current time: 2022-01-27 00:44:26 (running for 00:07:35.57)<br>Memory usage on this node: 4.5/7.7 GiB<br>Using FIFO scheduling algorithm.<br>Resources requested: 3.0/8 CPUs, 0/1 GPUs, 0.0/3.59 GiB heap, 0.0/1.8 GiB objects (0.0/1.0 accelerator_type:GT)<br>Result logdir: /root/ray_results/PPO<br>Number of trials: 1/1 (1 RUNNING)<br><table>\n",
       "<thead>\n",
       "<tr><th>Trial name                </th><th>status  </th><th>loc            </th><th style=\"text-align: right;\">  iter</th><th style=\"text-align: right;\">  total time (s)</th><th style=\"text-align: right;\">  ts</th><th style=\"text-align: right;\">  reward</th><th style=\"text-align: right;\">  episode_reward_max</th><th style=\"text-align: right;\">  episode_reward_min</th><th style=\"text-align: right;\">  episode_len_mean</th></tr>\n",
       "</thead>\n",
       "<tbody>\n",
       "<tr><td>PPO_TradingEnv_36bfe_00000</td><td>RUNNING </td><td>172.17.0.2:5590</td><td style=\"text-align: right;\">     2</td><td style=\"text-align: right;\">         341.915</td><td style=\"text-align: right;\">8000</td><td style=\"text-align: right;\"> 259.108</td><td style=\"text-align: right;\">              1202.2</td><td style=\"text-align: right;\">              -464.8</td><td style=\"text-align: right;\">           18.0901</td></tr>\n",
       "</tbody>\n",
       "</table><br><br>"
      ],
      "text/plain": [
       "<IPython.core.display.HTML object>"
      ]
     },
     "metadata": {},
     "output_type": "display_data"
    },
    {
     "data": {
      "text/html": [
       "== Status ==<br>Current time: 2022-01-27 00:44:31 (running for 00:07:40.58)<br>Memory usage on this node: 4.5/7.7 GiB<br>Using FIFO scheduling algorithm.<br>Resources requested: 3.0/8 CPUs, 0/1 GPUs, 0.0/3.59 GiB heap, 0.0/1.8 GiB objects (0.0/1.0 accelerator_type:GT)<br>Result logdir: /root/ray_results/PPO<br>Number of trials: 1/1 (1 RUNNING)<br><table>\n",
       "<thead>\n",
       "<tr><th>Trial name                </th><th>status  </th><th>loc            </th><th style=\"text-align: right;\">  iter</th><th style=\"text-align: right;\">  total time (s)</th><th style=\"text-align: right;\">  ts</th><th style=\"text-align: right;\">  reward</th><th style=\"text-align: right;\">  episode_reward_max</th><th style=\"text-align: right;\">  episode_reward_min</th><th style=\"text-align: right;\">  episode_len_mean</th></tr>\n",
       "</thead>\n",
       "<tbody>\n",
       "<tr><td>PPO_TradingEnv_36bfe_00000</td><td>RUNNING </td><td>172.17.0.2:5590</td><td style=\"text-align: right;\">     2</td><td style=\"text-align: right;\">         341.915</td><td style=\"text-align: right;\">8000</td><td style=\"text-align: right;\"> 259.108</td><td style=\"text-align: right;\">              1202.2</td><td style=\"text-align: right;\">              -464.8</td><td style=\"text-align: right;\">           18.0901</td></tr>\n",
       "</tbody>\n",
       "</table><br><br>"
      ],
      "text/plain": [
       "<IPython.core.display.HTML object>"
      ]
     },
     "metadata": {},
     "output_type": "display_data"
    },
    {
     "data": {
      "text/html": [
       "== Status ==<br>Current time: 2022-01-27 00:44:36 (running for 00:07:45.59)<br>Memory usage on this node: 4.5/7.7 GiB<br>Using FIFO scheduling algorithm.<br>Resources requested: 3.0/8 CPUs, 0/1 GPUs, 0.0/3.59 GiB heap, 0.0/1.8 GiB objects (0.0/1.0 accelerator_type:GT)<br>Result logdir: /root/ray_results/PPO<br>Number of trials: 1/1 (1 RUNNING)<br><table>\n",
       "<thead>\n",
       "<tr><th>Trial name                </th><th>status  </th><th>loc            </th><th style=\"text-align: right;\">  iter</th><th style=\"text-align: right;\">  total time (s)</th><th style=\"text-align: right;\">  ts</th><th style=\"text-align: right;\">  reward</th><th style=\"text-align: right;\">  episode_reward_max</th><th style=\"text-align: right;\">  episode_reward_min</th><th style=\"text-align: right;\">  episode_len_mean</th></tr>\n",
       "</thead>\n",
       "<tbody>\n",
       "<tr><td>PPO_TradingEnv_36bfe_00000</td><td>RUNNING </td><td>172.17.0.2:5590</td><td style=\"text-align: right;\">     2</td><td style=\"text-align: right;\">         341.915</td><td style=\"text-align: right;\">8000</td><td style=\"text-align: right;\"> 259.108</td><td style=\"text-align: right;\">              1202.2</td><td style=\"text-align: right;\">              -464.8</td><td style=\"text-align: right;\">           18.0901</td></tr>\n",
       "</tbody>\n",
       "</table><br><br>"
      ],
      "text/plain": [
       "<IPython.core.display.HTML object>"
      ]
     },
     "metadata": {},
     "output_type": "display_data"
    },
    {
     "data": {
      "text/html": [
       "== Status ==<br>Current time: 2022-01-27 00:44:41 (running for 00:07:50.59)<br>Memory usage on this node: 4.5/7.7 GiB<br>Using FIFO scheduling algorithm.<br>Resources requested: 3.0/8 CPUs, 0/1 GPUs, 0.0/3.59 GiB heap, 0.0/1.8 GiB objects (0.0/1.0 accelerator_type:GT)<br>Result logdir: /root/ray_results/PPO<br>Number of trials: 1/1 (1 RUNNING)<br><table>\n",
       "<thead>\n",
       "<tr><th>Trial name                </th><th>status  </th><th>loc            </th><th style=\"text-align: right;\">  iter</th><th style=\"text-align: right;\">  total time (s)</th><th style=\"text-align: right;\">  ts</th><th style=\"text-align: right;\">  reward</th><th style=\"text-align: right;\">  episode_reward_max</th><th style=\"text-align: right;\">  episode_reward_min</th><th style=\"text-align: right;\">  episode_len_mean</th></tr>\n",
       "</thead>\n",
       "<tbody>\n",
       "<tr><td>PPO_TradingEnv_36bfe_00000</td><td>RUNNING </td><td>172.17.0.2:5590</td><td style=\"text-align: right;\">     2</td><td style=\"text-align: right;\">         341.915</td><td style=\"text-align: right;\">8000</td><td style=\"text-align: right;\"> 259.108</td><td style=\"text-align: right;\">              1202.2</td><td style=\"text-align: right;\">              -464.8</td><td style=\"text-align: right;\">           18.0901</td></tr>\n",
       "</tbody>\n",
       "</table><br><br>"
      ],
      "text/plain": [
       "<IPython.core.display.HTML object>"
      ]
     },
     "metadata": {},
     "output_type": "display_data"
    },
    {
     "data": {
      "text/html": [
       "== Status ==<br>Current time: 2022-01-27 00:44:46 (running for 00:07:55.60)<br>Memory usage on this node: 4.5/7.7 GiB<br>Using FIFO scheduling algorithm.<br>Resources requested: 3.0/8 CPUs, 0/1 GPUs, 0.0/3.59 GiB heap, 0.0/1.8 GiB objects (0.0/1.0 accelerator_type:GT)<br>Result logdir: /root/ray_results/PPO<br>Number of trials: 1/1 (1 RUNNING)<br><table>\n",
       "<thead>\n",
       "<tr><th>Trial name                </th><th>status  </th><th>loc            </th><th style=\"text-align: right;\">  iter</th><th style=\"text-align: right;\">  total time (s)</th><th style=\"text-align: right;\">  ts</th><th style=\"text-align: right;\">  reward</th><th style=\"text-align: right;\">  episode_reward_max</th><th style=\"text-align: right;\">  episode_reward_min</th><th style=\"text-align: right;\">  episode_len_mean</th></tr>\n",
       "</thead>\n",
       "<tbody>\n",
       "<tr><td>PPO_TradingEnv_36bfe_00000</td><td>RUNNING </td><td>172.17.0.2:5590</td><td style=\"text-align: right;\">     2</td><td style=\"text-align: right;\">         341.915</td><td style=\"text-align: right;\">8000</td><td style=\"text-align: right;\"> 259.108</td><td style=\"text-align: right;\">              1202.2</td><td style=\"text-align: right;\">              -464.8</td><td style=\"text-align: right;\">           18.0901</td></tr>\n",
       "</tbody>\n",
       "</table><br><br>"
      ],
      "text/plain": [
       "<IPython.core.display.HTML object>"
      ]
     },
     "metadata": {},
     "output_type": "display_data"
    },
    {
     "data": {
      "text/html": [
       "== Status ==<br>Current time: 2022-01-27 00:44:51 (running for 00:08:00.61)<br>Memory usage on this node: 4.5/7.7 GiB<br>Using FIFO scheduling algorithm.<br>Resources requested: 3.0/8 CPUs, 0/1 GPUs, 0.0/3.59 GiB heap, 0.0/1.8 GiB objects (0.0/1.0 accelerator_type:GT)<br>Result logdir: /root/ray_results/PPO<br>Number of trials: 1/1 (1 RUNNING)<br><table>\n",
       "<thead>\n",
       "<tr><th>Trial name                </th><th>status  </th><th>loc            </th><th style=\"text-align: right;\">  iter</th><th style=\"text-align: right;\">  total time (s)</th><th style=\"text-align: right;\">  ts</th><th style=\"text-align: right;\">  reward</th><th style=\"text-align: right;\">  episode_reward_max</th><th style=\"text-align: right;\">  episode_reward_min</th><th style=\"text-align: right;\">  episode_len_mean</th></tr>\n",
       "</thead>\n",
       "<tbody>\n",
       "<tr><td>PPO_TradingEnv_36bfe_00000</td><td>RUNNING </td><td>172.17.0.2:5590</td><td style=\"text-align: right;\">     2</td><td style=\"text-align: right;\">         341.915</td><td style=\"text-align: right;\">8000</td><td style=\"text-align: right;\"> 259.108</td><td style=\"text-align: right;\">              1202.2</td><td style=\"text-align: right;\">              -464.8</td><td style=\"text-align: right;\">           18.0901</td></tr>\n",
       "</tbody>\n",
       "</table><br><br>"
      ],
      "text/plain": [
       "<IPython.core.display.HTML object>"
      ]
     },
     "metadata": {},
     "output_type": "display_data"
    },
    {
     "data": {
      "text/html": [
       "== Status ==<br>Current time: 2022-01-27 00:44:56 (running for 00:08:05.62)<br>Memory usage on this node: 4.5/7.7 GiB<br>Using FIFO scheduling algorithm.<br>Resources requested: 3.0/8 CPUs, 0/1 GPUs, 0.0/3.59 GiB heap, 0.0/1.8 GiB objects (0.0/1.0 accelerator_type:GT)<br>Result logdir: /root/ray_results/PPO<br>Number of trials: 1/1 (1 RUNNING)<br><table>\n",
       "<thead>\n",
       "<tr><th>Trial name                </th><th>status  </th><th>loc            </th><th style=\"text-align: right;\">  iter</th><th style=\"text-align: right;\">  total time (s)</th><th style=\"text-align: right;\">  ts</th><th style=\"text-align: right;\">  reward</th><th style=\"text-align: right;\">  episode_reward_max</th><th style=\"text-align: right;\">  episode_reward_min</th><th style=\"text-align: right;\">  episode_len_mean</th></tr>\n",
       "</thead>\n",
       "<tbody>\n",
       "<tr><td>PPO_TradingEnv_36bfe_00000</td><td>RUNNING </td><td>172.17.0.2:5590</td><td style=\"text-align: right;\">     2</td><td style=\"text-align: right;\">         341.915</td><td style=\"text-align: right;\">8000</td><td style=\"text-align: right;\"> 259.108</td><td style=\"text-align: right;\">              1202.2</td><td style=\"text-align: right;\">              -464.8</td><td style=\"text-align: right;\">           18.0901</td></tr>\n",
       "</tbody>\n",
       "</table><br><br>"
      ],
      "text/plain": [
       "<IPython.core.display.HTML object>"
      ]
     },
     "metadata": {},
     "output_type": "display_data"
    },
    {
     "data": {
      "text/html": [
       "== Status ==<br>Current time: 2022-01-27 00:45:01 (running for 00:08:10.62)<br>Memory usage on this node: 4.5/7.7 GiB<br>Using FIFO scheduling algorithm.<br>Resources requested: 3.0/8 CPUs, 0/1 GPUs, 0.0/3.59 GiB heap, 0.0/1.8 GiB objects (0.0/1.0 accelerator_type:GT)<br>Result logdir: /root/ray_results/PPO<br>Number of trials: 1/1 (1 RUNNING)<br><table>\n",
       "<thead>\n",
       "<tr><th>Trial name                </th><th>status  </th><th>loc            </th><th style=\"text-align: right;\">  iter</th><th style=\"text-align: right;\">  total time (s)</th><th style=\"text-align: right;\">  ts</th><th style=\"text-align: right;\">  reward</th><th style=\"text-align: right;\">  episode_reward_max</th><th style=\"text-align: right;\">  episode_reward_min</th><th style=\"text-align: right;\">  episode_len_mean</th></tr>\n",
       "</thead>\n",
       "<tbody>\n",
       "<tr><td>PPO_TradingEnv_36bfe_00000</td><td>RUNNING </td><td>172.17.0.2:5590</td><td style=\"text-align: right;\">     2</td><td style=\"text-align: right;\">         341.915</td><td style=\"text-align: right;\">8000</td><td style=\"text-align: right;\"> 259.108</td><td style=\"text-align: right;\">              1202.2</td><td style=\"text-align: right;\">              -464.8</td><td style=\"text-align: right;\">           18.0901</td></tr>\n",
       "</tbody>\n",
       "</table><br><br>"
      ],
      "text/plain": [
       "<IPython.core.display.HTML object>"
      ]
     },
     "metadata": {},
     "output_type": "display_data"
    },
    {
     "data": {
      "text/html": [
       "== Status ==<br>Current time: 2022-01-27 00:45:06 (running for 00:08:15.63)<br>Memory usage on this node: 4.5/7.7 GiB<br>Using FIFO scheduling algorithm.<br>Resources requested: 3.0/8 CPUs, 0/1 GPUs, 0.0/3.59 GiB heap, 0.0/1.8 GiB objects (0.0/1.0 accelerator_type:GT)<br>Result logdir: /root/ray_results/PPO<br>Number of trials: 1/1 (1 RUNNING)<br><table>\n",
       "<thead>\n",
       "<tr><th>Trial name                </th><th>status  </th><th>loc            </th><th style=\"text-align: right;\">  iter</th><th style=\"text-align: right;\">  total time (s)</th><th style=\"text-align: right;\">  ts</th><th style=\"text-align: right;\">  reward</th><th style=\"text-align: right;\">  episode_reward_max</th><th style=\"text-align: right;\">  episode_reward_min</th><th style=\"text-align: right;\">  episode_len_mean</th></tr>\n",
       "</thead>\n",
       "<tbody>\n",
       "<tr><td>PPO_TradingEnv_36bfe_00000</td><td>RUNNING </td><td>172.17.0.2:5590</td><td style=\"text-align: right;\">     2</td><td style=\"text-align: right;\">         341.915</td><td style=\"text-align: right;\">8000</td><td style=\"text-align: right;\"> 259.108</td><td style=\"text-align: right;\">              1202.2</td><td style=\"text-align: right;\">              -464.8</td><td style=\"text-align: right;\">           18.0901</td></tr>\n",
       "</tbody>\n",
       "</table><br><br>"
      ],
      "text/plain": [
       "<IPython.core.display.HTML object>"
      ]
     },
     "metadata": {},
     "output_type": "display_data"
    },
    {
     "data": {
      "text/html": [
       "== Status ==<br>Current time: 2022-01-27 00:45:11 (running for 00:08:20.64)<br>Memory usage on this node: 4.5/7.7 GiB<br>Using FIFO scheduling algorithm.<br>Resources requested: 3.0/8 CPUs, 0/1 GPUs, 0.0/3.59 GiB heap, 0.0/1.8 GiB objects (0.0/1.0 accelerator_type:GT)<br>Result logdir: /root/ray_results/PPO<br>Number of trials: 1/1 (1 RUNNING)<br><table>\n",
       "<thead>\n",
       "<tr><th>Trial name                </th><th>status  </th><th>loc            </th><th style=\"text-align: right;\">  iter</th><th style=\"text-align: right;\">  total time (s)</th><th style=\"text-align: right;\">  ts</th><th style=\"text-align: right;\">  reward</th><th style=\"text-align: right;\">  episode_reward_max</th><th style=\"text-align: right;\">  episode_reward_min</th><th style=\"text-align: right;\">  episode_len_mean</th></tr>\n",
       "</thead>\n",
       "<tbody>\n",
       "<tr><td>PPO_TradingEnv_36bfe_00000</td><td>RUNNING </td><td>172.17.0.2:5590</td><td style=\"text-align: right;\">     2</td><td style=\"text-align: right;\">         341.915</td><td style=\"text-align: right;\">8000</td><td style=\"text-align: right;\"> 259.108</td><td style=\"text-align: right;\">              1202.2</td><td style=\"text-align: right;\">              -464.8</td><td style=\"text-align: right;\">           18.0901</td></tr>\n",
       "</tbody>\n",
       "</table><br><br>"
      ],
      "text/plain": [
       "<IPython.core.display.HTML object>"
      ]
     },
     "metadata": {},
     "output_type": "display_data"
    },
    {
     "data": {
      "text/html": [
       "== Status ==<br>Current time: 2022-01-27 00:45:16 (running for 00:08:25.65)<br>Memory usage on this node: 4.5/7.7 GiB<br>Using FIFO scheduling algorithm.<br>Resources requested: 3.0/8 CPUs, 0/1 GPUs, 0.0/3.59 GiB heap, 0.0/1.8 GiB objects (0.0/1.0 accelerator_type:GT)<br>Result logdir: /root/ray_results/PPO<br>Number of trials: 1/1 (1 RUNNING)<br><table>\n",
       "<thead>\n",
       "<tr><th>Trial name                </th><th>status  </th><th>loc            </th><th style=\"text-align: right;\">  iter</th><th style=\"text-align: right;\">  total time (s)</th><th style=\"text-align: right;\">  ts</th><th style=\"text-align: right;\">  reward</th><th style=\"text-align: right;\">  episode_reward_max</th><th style=\"text-align: right;\">  episode_reward_min</th><th style=\"text-align: right;\">  episode_len_mean</th></tr>\n",
       "</thead>\n",
       "<tbody>\n",
       "<tr><td>PPO_TradingEnv_36bfe_00000</td><td>RUNNING </td><td>172.17.0.2:5590</td><td style=\"text-align: right;\">     2</td><td style=\"text-align: right;\">         341.915</td><td style=\"text-align: right;\">8000</td><td style=\"text-align: right;\"> 259.108</td><td style=\"text-align: right;\">              1202.2</td><td style=\"text-align: right;\">              -464.8</td><td style=\"text-align: right;\">           18.0901</td></tr>\n",
       "</tbody>\n",
       "</table><br><br>"
      ],
      "text/plain": [
       "<IPython.core.display.HTML object>"
      ]
     },
     "metadata": {},
     "output_type": "display_data"
    },
    {
     "data": {
      "text/html": [
       "== Status ==<br>Current time: 2022-01-27 00:45:21 (running for 00:08:30.65)<br>Memory usage on this node: 4.5/7.7 GiB<br>Using FIFO scheduling algorithm.<br>Resources requested: 3.0/8 CPUs, 0/1 GPUs, 0.0/3.59 GiB heap, 0.0/1.8 GiB objects (0.0/1.0 accelerator_type:GT)<br>Result logdir: /root/ray_results/PPO<br>Number of trials: 1/1 (1 RUNNING)<br><table>\n",
       "<thead>\n",
       "<tr><th>Trial name                </th><th>status  </th><th>loc            </th><th style=\"text-align: right;\">  iter</th><th style=\"text-align: right;\">  total time (s)</th><th style=\"text-align: right;\">  ts</th><th style=\"text-align: right;\">  reward</th><th style=\"text-align: right;\">  episode_reward_max</th><th style=\"text-align: right;\">  episode_reward_min</th><th style=\"text-align: right;\">  episode_len_mean</th></tr>\n",
       "</thead>\n",
       "<tbody>\n",
       "<tr><td>PPO_TradingEnv_36bfe_00000</td><td>RUNNING </td><td>172.17.0.2:5590</td><td style=\"text-align: right;\">     2</td><td style=\"text-align: right;\">         341.915</td><td style=\"text-align: right;\">8000</td><td style=\"text-align: right;\"> 259.108</td><td style=\"text-align: right;\">              1202.2</td><td style=\"text-align: right;\">              -464.8</td><td style=\"text-align: right;\">           18.0901</td></tr>\n",
       "</tbody>\n",
       "</table><br><br>"
      ],
      "text/plain": [
       "<IPython.core.display.HTML object>"
      ]
     },
     "metadata": {},
     "output_type": "display_data"
    },
    {
     "name": "stdout",
     "output_type": "stream",
     "text": [
      "Result for PPO_TradingEnv_36bfe_00000:\n",
      "  agent_timesteps_total: 12000\n",
      "  custom_metrics: {}\n",
      "  date: 2022-01-27_00-45-25\n",
      "  done: false\n",
      "  episode_len_mean: 16.99148936170213\n",
      "  episode_media: {}\n",
      "  episode_reward_max: 1038.899999999996\n",
      "  episode_reward_mean: 488.9680851063811\n",
      "  episode_reward_min: -117.09999999999854\n",
      "  episodes_this_iter: 235\n",
      "  episodes_total: 672\n",
      "  experiment_id: 24a371e8dfc342d4a5944195365b4acd\n",
      "  hostname: 1560ecedb02e\n",
      "  info:\n",
      "    learner:\n",
      "      default_policy:\n",
      "        custom_metrics: {}\n",
      "        learner_stats:\n",
      "          allreduce_latency: 0.0\n",
      "          cur_kl_coeff: 0.4500000000000001\n",
      "          cur_lr: 0.0003\n",
      "          entropy: 0.33460693260033925\n",
      "          entropy_coeff: 0.01\n",
      "          kl: 0.03365529642238327\n",
      "          policy_loss: -0.09076583785585739\n",
      "          total_loss: 0.5570913470039766\n",
      "          vf_explained_var: -0.028746407134558564\n",
      "          vf_loss: 1.2721167406087281\n",
      "        model: {}\n",
      "    num_agent_steps_sampled: 12000\n",
      "    num_agent_steps_trained: 12000\n",
      "    num_steps_sampled: 12000\n",
      "    num_steps_trained: 12000\n",
      "    num_steps_trained_this_iter: 0\n",
      "  iterations_since_restore: 3\n",
      "  node_ip: 172.17.0.2\n",
      "  num_healthy_workers: 2\n",
      "  off_policy_estimator: {}\n",
      "  perf:\n",
      "    cpu_util_percent: 16.89913043478261\n",
      "    ram_util_percent: 58.08956521739131\n",
      "  pid: 5590\n",
      "  policy_reward_max: {}\n",
      "  policy_reward_mean: {}\n",
      "  policy_reward_min: {}\n",
      "  sampler_perf:\n",
      "    mean_action_processing_ms: 0.11653519619453177\n",
      "    mean_env_render_ms: 0.0\n",
      "    mean_env_wait_ms: 0.9340696281719268\n",
      "    mean_inference_ms: 2.7223455550755182\n",
      "    mean_raw_obs_processing_ms: 0.33971382407989387\n",
      "  time_since_restore: 502.54623198509216\n",
      "  time_this_iter_s: 160.63093090057373\n",
      "  time_total_s: 502.54623198509216\n",
      "  timers:\n",
      "    learn_throughput: 25.156\n",
      "    learn_time_ms: 159005.744\n",
      "    load_throughput: 54219.98\n",
      "    load_time_ms: 73.774\n",
      "    sample_throughput: 34.252\n",
      "    sample_time_ms: 116780.531\n",
      "    update_time_ms: 5.325\n",
      "  timestamp: 1643244325\n",
      "  timesteps_since_restore: 0\n",
      "  timesteps_this_iter: 0\n",
      "  timesteps_total: 12000\n",
      "  training_iteration: 3\n",
      "  trial_id: 36bfe_00000\n",
      "  \n"
     ]
    },
    {
     "name": "stderr",
     "output_type": "stream",
     "text": [
      "\u001b[2m\u001b[36m(RolloutWorker pid=5588)\u001b[0m /usr/local/lib/python3.6/dist-packages/ray/rllib/utils/numpy.py:140: FutureWarning:\n",
      "\u001b[2m\u001b[36m(RolloutWorker pid=5588)\u001b[0m \n",
      "\u001b[2m\u001b[36m(RolloutWorker pid=5588)\u001b[0m Conversion of the second argument of issubdtype from `int` to `np.signedinteger` is deprecated. In future, it will be treated as `np.int64 == np.dtype(int).type`.\n",
      "\u001b[2m\u001b[36m(RolloutWorker pid=5588)\u001b[0m \n",
      "\u001b[2m\u001b[36m(RolloutWorker pid=5594)\u001b[0m /usr/local/lib/python3.6/dist-packages/ray/rllib/utils/numpy.py:140: FutureWarning:\n",
      "\u001b[2m\u001b[36m(RolloutWorker pid=5594)\u001b[0m \n",
      "\u001b[2m\u001b[36m(RolloutWorker pid=5594)\u001b[0m Conversion of the second argument of issubdtype from `int` to `np.signedinteger` is deprecated. In future, it will be treated as `np.int64 == np.dtype(int).type`.\n",
      "\u001b[2m\u001b[36m(RolloutWorker pid=5594)\u001b[0m \n"
     ]
    },
    {
     "data": {
      "text/html": [
       "== Status ==<br>Current time: 2022-01-27 00:45:26 (running for 00:08:36.12)<br>Memory usage on this node: 4.4/7.7 GiB<br>Using FIFO scheduling algorithm.<br>Resources requested: 3.0/8 CPUs, 0/1 GPUs, 0.0/3.59 GiB heap, 0.0/1.8 GiB objects (0.0/1.0 accelerator_type:GT)<br>Result logdir: /root/ray_results/PPO<br>Number of trials: 1/1 (1 RUNNING)<br><table>\n",
       "<thead>\n",
       "<tr><th>Trial name                </th><th>status  </th><th>loc            </th><th style=\"text-align: right;\">  iter</th><th style=\"text-align: right;\">  total time (s)</th><th style=\"text-align: right;\">   ts</th><th style=\"text-align: right;\">  reward</th><th style=\"text-align: right;\">  episode_reward_max</th><th style=\"text-align: right;\">  episode_reward_min</th><th style=\"text-align: right;\">  episode_len_mean</th></tr>\n",
       "</thead>\n",
       "<tbody>\n",
       "<tr><td>PPO_TradingEnv_36bfe_00000</td><td>RUNNING </td><td>172.17.0.2:5590</td><td style=\"text-align: right;\">     3</td><td style=\"text-align: right;\">         502.546</td><td style=\"text-align: right;\">12000</td><td style=\"text-align: right;\"> 488.968</td><td style=\"text-align: right;\">              1038.9</td><td style=\"text-align: right;\">              -117.1</td><td style=\"text-align: right;\">           16.9915</td></tr>\n",
       "</tbody>\n",
       "</table><br><br>"
      ],
      "text/plain": [
       "<IPython.core.display.HTML object>"
      ]
     },
     "metadata": {},
     "output_type": "display_data"
    },
    {
     "data": {
      "text/html": [
       "== Status ==<br>Current time: 2022-01-27 00:45:31 (running for 00:08:41.13)<br>Memory usage on this node: 4.4/7.7 GiB<br>Using FIFO scheduling algorithm.<br>Resources requested: 3.0/8 CPUs, 0/1 GPUs, 0.0/3.59 GiB heap, 0.0/1.8 GiB objects (0.0/1.0 accelerator_type:GT)<br>Result logdir: /root/ray_results/PPO<br>Number of trials: 1/1 (1 RUNNING)<br><table>\n",
       "<thead>\n",
       "<tr><th>Trial name                </th><th>status  </th><th>loc            </th><th style=\"text-align: right;\">  iter</th><th style=\"text-align: right;\">  total time (s)</th><th style=\"text-align: right;\">   ts</th><th style=\"text-align: right;\">  reward</th><th style=\"text-align: right;\">  episode_reward_max</th><th style=\"text-align: right;\">  episode_reward_min</th><th style=\"text-align: right;\">  episode_len_mean</th></tr>\n",
       "</thead>\n",
       "<tbody>\n",
       "<tr><td>PPO_TradingEnv_36bfe_00000</td><td>RUNNING </td><td>172.17.0.2:5590</td><td style=\"text-align: right;\">     3</td><td style=\"text-align: right;\">         502.546</td><td style=\"text-align: right;\">12000</td><td style=\"text-align: right;\"> 488.968</td><td style=\"text-align: right;\">              1038.9</td><td style=\"text-align: right;\">              -117.1</td><td style=\"text-align: right;\">           16.9915</td></tr>\n",
       "</tbody>\n",
       "</table><br><br>"
      ],
      "text/plain": [
       "<IPython.core.display.HTML object>"
      ]
     },
     "metadata": {},
     "output_type": "display_data"
    },
    {
     "data": {
      "text/html": [
       "== Status ==<br>Current time: 2022-01-27 00:45:36 (running for 00:08:46.14)<br>Memory usage on this node: 4.5/7.7 GiB<br>Using FIFO scheduling algorithm.<br>Resources requested: 3.0/8 CPUs, 0/1 GPUs, 0.0/3.59 GiB heap, 0.0/1.8 GiB objects (0.0/1.0 accelerator_type:GT)<br>Result logdir: /root/ray_results/PPO<br>Number of trials: 1/1 (1 RUNNING)<br><table>\n",
       "<thead>\n",
       "<tr><th>Trial name                </th><th>status  </th><th>loc            </th><th style=\"text-align: right;\">  iter</th><th style=\"text-align: right;\">  total time (s)</th><th style=\"text-align: right;\">   ts</th><th style=\"text-align: right;\">  reward</th><th style=\"text-align: right;\">  episode_reward_max</th><th style=\"text-align: right;\">  episode_reward_min</th><th style=\"text-align: right;\">  episode_len_mean</th></tr>\n",
       "</thead>\n",
       "<tbody>\n",
       "<tr><td>PPO_TradingEnv_36bfe_00000</td><td>RUNNING </td><td>172.17.0.2:5590</td><td style=\"text-align: right;\">     3</td><td style=\"text-align: right;\">         502.546</td><td style=\"text-align: right;\">12000</td><td style=\"text-align: right;\"> 488.968</td><td style=\"text-align: right;\">              1038.9</td><td style=\"text-align: right;\">              -117.1</td><td style=\"text-align: right;\">           16.9915</td></tr>\n",
       "</tbody>\n",
       "</table><br><br>"
      ],
      "text/plain": [
       "<IPython.core.display.HTML object>"
      ]
     },
     "metadata": {},
     "output_type": "display_data"
    },
    {
     "data": {
      "text/html": [
       "== Status ==<br>Current time: 2022-01-27 00:45:41 (running for 00:08:51.14)<br>Memory usage on this node: 4.5/7.7 GiB<br>Using FIFO scheduling algorithm.<br>Resources requested: 3.0/8 CPUs, 0/1 GPUs, 0.0/3.59 GiB heap, 0.0/1.8 GiB objects (0.0/1.0 accelerator_type:GT)<br>Result logdir: /root/ray_results/PPO<br>Number of trials: 1/1 (1 RUNNING)<br><table>\n",
       "<thead>\n",
       "<tr><th>Trial name                </th><th>status  </th><th>loc            </th><th style=\"text-align: right;\">  iter</th><th style=\"text-align: right;\">  total time (s)</th><th style=\"text-align: right;\">   ts</th><th style=\"text-align: right;\">  reward</th><th style=\"text-align: right;\">  episode_reward_max</th><th style=\"text-align: right;\">  episode_reward_min</th><th style=\"text-align: right;\">  episode_len_mean</th></tr>\n",
       "</thead>\n",
       "<tbody>\n",
       "<tr><td>PPO_TradingEnv_36bfe_00000</td><td>RUNNING </td><td>172.17.0.2:5590</td><td style=\"text-align: right;\">     3</td><td style=\"text-align: right;\">         502.546</td><td style=\"text-align: right;\">12000</td><td style=\"text-align: right;\"> 488.968</td><td style=\"text-align: right;\">              1038.9</td><td style=\"text-align: right;\">              -117.1</td><td style=\"text-align: right;\">           16.9915</td></tr>\n",
       "</tbody>\n",
       "</table><br><br>"
      ],
      "text/plain": [
       "<IPython.core.display.HTML object>"
      ]
     },
     "metadata": {},
     "output_type": "display_data"
    },
    {
     "data": {
      "text/html": [
       "== Status ==<br>Current time: 2022-01-27 00:45:46 (running for 00:08:56.15)<br>Memory usage on this node: 4.5/7.7 GiB<br>Using FIFO scheduling algorithm.<br>Resources requested: 3.0/8 CPUs, 0/1 GPUs, 0.0/3.59 GiB heap, 0.0/1.8 GiB objects (0.0/1.0 accelerator_type:GT)<br>Result logdir: /root/ray_results/PPO<br>Number of trials: 1/1 (1 RUNNING)<br><table>\n",
       "<thead>\n",
       "<tr><th>Trial name                </th><th>status  </th><th>loc            </th><th style=\"text-align: right;\">  iter</th><th style=\"text-align: right;\">  total time (s)</th><th style=\"text-align: right;\">   ts</th><th style=\"text-align: right;\">  reward</th><th style=\"text-align: right;\">  episode_reward_max</th><th style=\"text-align: right;\">  episode_reward_min</th><th style=\"text-align: right;\">  episode_len_mean</th></tr>\n",
       "</thead>\n",
       "<tbody>\n",
       "<tr><td>PPO_TradingEnv_36bfe_00000</td><td>RUNNING </td><td>172.17.0.2:5590</td><td style=\"text-align: right;\">     3</td><td style=\"text-align: right;\">         502.546</td><td style=\"text-align: right;\">12000</td><td style=\"text-align: right;\"> 488.968</td><td style=\"text-align: right;\">              1038.9</td><td style=\"text-align: right;\">              -117.1</td><td style=\"text-align: right;\">           16.9915</td></tr>\n",
       "</tbody>\n",
       "</table><br><br>"
      ],
      "text/plain": [
       "<IPython.core.display.HTML object>"
      ]
     },
     "metadata": {},
     "output_type": "display_data"
    },
    {
     "data": {
      "text/html": [
       "== Status ==<br>Current time: 2022-01-27 00:45:51 (running for 00:09:01.16)<br>Memory usage on this node: 4.5/7.7 GiB<br>Using FIFO scheduling algorithm.<br>Resources requested: 3.0/8 CPUs, 0/1 GPUs, 0.0/3.59 GiB heap, 0.0/1.8 GiB objects (0.0/1.0 accelerator_type:GT)<br>Result logdir: /root/ray_results/PPO<br>Number of trials: 1/1 (1 RUNNING)<br><table>\n",
       "<thead>\n",
       "<tr><th>Trial name                </th><th>status  </th><th>loc            </th><th style=\"text-align: right;\">  iter</th><th style=\"text-align: right;\">  total time (s)</th><th style=\"text-align: right;\">   ts</th><th style=\"text-align: right;\">  reward</th><th style=\"text-align: right;\">  episode_reward_max</th><th style=\"text-align: right;\">  episode_reward_min</th><th style=\"text-align: right;\">  episode_len_mean</th></tr>\n",
       "</thead>\n",
       "<tbody>\n",
       "<tr><td>PPO_TradingEnv_36bfe_00000</td><td>RUNNING </td><td>172.17.0.2:5590</td><td style=\"text-align: right;\">     3</td><td style=\"text-align: right;\">         502.546</td><td style=\"text-align: right;\">12000</td><td style=\"text-align: right;\"> 488.968</td><td style=\"text-align: right;\">              1038.9</td><td style=\"text-align: right;\">              -117.1</td><td style=\"text-align: right;\">           16.9915</td></tr>\n",
       "</tbody>\n",
       "</table><br><br>"
      ],
      "text/plain": [
       "<IPython.core.display.HTML object>"
      ]
     },
     "metadata": {},
     "output_type": "display_data"
    },
    {
     "data": {
      "text/html": [
       "== Status ==<br>Current time: 2022-01-27 00:45:56 (running for 00:09:06.16)<br>Memory usage on this node: 4.5/7.7 GiB<br>Using FIFO scheduling algorithm.<br>Resources requested: 3.0/8 CPUs, 0/1 GPUs, 0.0/3.59 GiB heap, 0.0/1.8 GiB objects (0.0/1.0 accelerator_type:GT)<br>Result logdir: /root/ray_results/PPO<br>Number of trials: 1/1 (1 RUNNING)<br><table>\n",
       "<thead>\n",
       "<tr><th>Trial name                </th><th>status  </th><th>loc            </th><th style=\"text-align: right;\">  iter</th><th style=\"text-align: right;\">  total time (s)</th><th style=\"text-align: right;\">   ts</th><th style=\"text-align: right;\">  reward</th><th style=\"text-align: right;\">  episode_reward_max</th><th style=\"text-align: right;\">  episode_reward_min</th><th style=\"text-align: right;\">  episode_len_mean</th></tr>\n",
       "</thead>\n",
       "<tbody>\n",
       "<tr><td>PPO_TradingEnv_36bfe_00000</td><td>RUNNING </td><td>172.17.0.2:5590</td><td style=\"text-align: right;\">     3</td><td style=\"text-align: right;\">         502.546</td><td style=\"text-align: right;\">12000</td><td style=\"text-align: right;\"> 488.968</td><td style=\"text-align: right;\">              1038.9</td><td style=\"text-align: right;\">              -117.1</td><td style=\"text-align: right;\">           16.9915</td></tr>\n",
       "</tbody>\n",
       "</table><br><br>"
      ],
      "text/plain": [
       "<IPython.core.display.HTML object>"
      ]
     },
     "metadata": {},
     "output_type": "display_data"
    },
    {
     "data": {
      "text/html": [
       "== Status ==<br>Current time: 2022-01-27 00:46:01 (running for 00:09:11.17)<br>Memory usage on this node: 4.5/7.7 GiB<br>Using FIFO scheduling algorithm.<br>Resources requested: 3.0/8 CPUs, 0/1 GPUs, 0.0/3.59 GiB heap, 0.0/1.8 GiB objects (0.0/1.0 accelerator_type:GT)<br>Result logdir: /root/ray_results/PPO<br>Number of trials: 1/1 (1 RUNNING)<br><table>\n",
       "<thead>\n",
       "<tr><th>Trial name                </th><th>status  </th><th>loc            </th><th style=\"text-align: right;\">  iter</th><th style=\"text-align: right;\">  total time (s)</th><th style=\"text-align: right;\">   ts</th><th style=\"text-align: right;\">  reward</th><th style=\"text-align: right;\">  episode_reward_max</th><th style=\"text-align: right;\">  episode_reward_min</th><th style=\"text-align: right;\">  episode_len_mean</th></tr>\n",
       "</thead>\n",
       "<tbody>\n",
       "<tr><td>PPO_TradingEnv_36bfe_00000</td><td>RUNNING </td><td>172.17.0.2:5590</td><td style=\"text-align: right;\">     3</td><td style=\"text-align: right;\">         502.546</td><td style=\"text-align: right;\">12000</td><td style=\"text-align: right;\"> 488.968</td><td style=\"text-align: right;\">              1038.9</td><td style=\"text-align: right;\">              -117.1</td><td style=\"text-align: right;\">           16.9915</td></tr>\n",
       "</tbody>\n",
       "</table><br><br>"
      ],
      "text/plain": [
       "<IPython.core.display.HTML object>"
      ]
     },
     "metadata": {},
     "output_type": "display_data"
    },
    {
     "data": {
      "text/html": [
       "== Status ==<br>Current time: 2022-01-27 00:46:06 (running for 00:09:16.18)<br>Memory usage on this node: 4.5/7.7 GiB<br>Using FIFO scheduling algorithm.<br>Resources requested: 3.0/8 CPUs, 0/1 GPUs, 0.0/3.59 GiB heap, 0.0/1.8 GiB objects (0.0/1.0 accelerator_type:GT)<br>Result logdir: /root/ray_results/PPO<br>Number of trials: 1/1 (1 RUNNING)<br><table>\n",
       "<thead>\n",
       "<tr><th>Trial name                </th><th>status  </th><th>loc            </th><th style=\"text-align: right;\">  iter</th><th style=\"text-align: right;\">  total time (s)</th><th style=\"text-align: right;\">   ts</th><th style=\"text-align: right;\">  reward</th><th style=\"text-align: right;\">  episode_reward_max</th><th style=\"text-align: right;\">  episode_reward_min</th><th style=\"text-align: right;\">  episode_len_mean</th></tr>\n",
       "</thead>\n",
       "<tbody>\n",
       "<tr><td>PPO_TradingEnv_36bfe_00000</td><td>RUNNING </td><td>172.17.0.2:5590</td><td style=\"text-align: right;\">     3</td><td style=\"text-align: right;\">         502.546</td><td style=\"text-align: right;\">12000</td><td style=\"text-align: right;\"> 488.968</td><td style=\"text-align: right;\">              1038.9</td><td style=\"text-align: right;\">              -117.1</td><td style=\"text-align: right;\">           16.9915</td></tr>\n",
       "</tbody>\n",
       "</table><br><br>"
      ],
      "text/plain": [
       "<IPython.core.display.HTML object>"
      ]
     },
     "metadata": {},
     "output_type": "display_data"
    },
    {
     "data": {
      "text/html": [
       "== Status ==<br>Current time: 2022-01-27 00:46:11 (running for 00:09:21.18)<br>Memory usage on this node: 4.5/7.7 GiB<br>Using FIFO scheduling algorithm.<br>Resources requested: 3.0/8 CPUs, 0/1 GPUs, 0.0/3.59 GiB heap, 0.0/1.8 GiB objects (0.0/1.0 accelerator_type:GT)<br>Result logdir: /root/ray_results/PPO<br>Number of trials: 1/1 (1 RUNNING)<br><table>\n",
       "<thead>\n",
       "<tr><th>Trial name                </th><th>status  </th><th>loc            </th><th style=\"text-align: right;\">  iter</th><th style=\"text-align: right;\">  total time (s)</th><th style=\"text-align: right;\">   ts</th><th style=\"text-align: right;\">  reward</th><th style=\"text-align: right;\">  episode_reward_max</th><th style=\"text-align: right;\">  episode_reward_min</th><th style=\"text-align: right;\">  episode_len_mean</th></tr>\n",
       "</thead>\n",
       "<tbody>\n",
       "<tr><td>PPO_TradingEnv_36bfe_00000</td><td>RUNNING </td><td>172.17.0.2:5590</td><td style=\"text-align: right;\">     3</td><td style=\"text-align: right;\">         502.546</td><td style=\"text-align: right;\">12000</td><td style=\"text-align: right;\"> 488.968</td><td style=\"text-align: right;\">              1038.9</td><td style=\"text-align: right;\">              -117.1</td><td style=\"text-align: right;\">           16.9915</td></tr>\n",
       "</tbody>\n",
       "</table><br><br>"
      ],
      "text/plain": [
       "<IPython.core.display.HTML object>"
      ]
     },
     "metadata": {},
     "output_type": "display_data"
    },
    {
     "data": {
      "text/html": [
       "== Status ==<br>Current time: 2022-01-27 00:46:16 (running for 00:09:26.19)<br>Memory usage on this node: 4.5/7.7 GiB<br>Using FIFO scheduling algorithm.<br>Resources requested: 3.0/8 CPUs, 0/1 GPUs, 0.0/3.59 GiB heap, 0.0/1.8 GiB objects (0.0/1.0 accelerator_type:GT)<br>Result logdir: /root/ray_results/PPO<br>Number of trials: 1/1 (1 RUNNING)<br><table>\n",
       "<thead>\n",
       "<tr><th>Trial name                </th><th>status  </th><th>loc            </th><th style=\"text-align: right;\">  iter</th><th style=\"text-align: right;\">  total time (s)</th><th style=\"text-align: right;\">   ts</th><th style=\"text-align: right;\">  reward</th><th style=\"text-align: right;\">  episode_reward_max</th><th style=\"text-align: right;\">  episode_reward_min</th><th style=\"text-align: right;\">  episode_len_mean</th></tr>\n",
       "</thead>\n",
       "<tbody>\n",
       "<tr><td>PPO_TradingEnv_36bfe_00000</td><td>RUNNING </td><td>172.17.0.2:5590</td><td style=\"text-align: right;\">     3</td><td style=\"text-align: right;\">         502.546</td><td style=\"text-align: right;\">12000</td><td style=\"text-align: right;\"> 488.968</td><td style=\"text-align: right;\">              1038.9</td><td style=\"text-align: right;\">              -117.1</td><td style=\"text-align: right;\">           16.9915</td></tr>\n",
       "</tbody>\n",
       "</table><br><br>"
      ],
      "text/plain": [
       "<IPython.core.display.HTML object>"
      ]
     },
     "metadata": {},
     "output_type": "display_data"
    },
    {
     "data": {
      "text/html": [
       "== Status ==<br>Current time: 2022-01-27 00:46:21 (running for 00:09:31.20)<br>Memory usage on this node: 4.5/7.7 GiB<br>Using FIFO scheduling algorithm.<br>Resources requested: 3.0/8 CPUs, 0/1 GPUs, 0.0/3.59 GiB heap, 0.0/1.8 GiB objects (0.0/1.0 accelerator_type:GT)<br>Result logdir: /root/ray_results/PPO<br>Number of trials: 1/1 (1 RUNNING)<br><table>\n",
       "<thead>\n",
       "<tr><th>Trial name                </th><th>status  </th><th>loc            </th><th style=\"text-align: right;\">  iter</th><th style=\"text-align: right;\">  total time (s)</th><th style=\"text-align: right;\">   ts</th><th style=\"text-align: right;\">  reward</th><th style=\"text-align: right;\">  episode_reward_max</th><th style=\"text-align: right;\">  episode_reward_min</th><th style=\"text-align: right;\">  episode_len_mean</th></tr>\n",
       "</thead>\n",
       "<tbody>\n",
       "<tr><td>PPO_TradingEnv_36bfe_00000</td><td>RUNNING </td><td>172.17.0.2:5590</td><td style=\"text-align: right;\">     3</td><td style=\"text-align: right;\">         502.546</td><td style=\"text-align: right;\">12000</td><td style=\"text-align: right;\"> 488.968</td><td style=\"text-align: right;\">              1038.9</td><td style=\"text-align: right;\">              -117.1</td><td style=\"text-align: right;\">           16.9915</td></tr>\n",
       "</tbody>\n",
       "</table><br><br>"
      ],
      "text/plain": [
       "<IPython.core.display.HTML object>"
      ]
     },
     "metadata": {},
     "output_type": "display_data"
    },
    {
     "data": {
      "text/html": [
       "== Status ==<br>Current time: 2022-01-27 00:46:26 (running for 00:09:36.21)<br>Memory usage on this node: 4.5/7.7 GiB<br>Using FIFO scheduling algorithm.<br>Resources requested: 3.0/8 CPUs, 0/1 GPUs, 0.0/3.59 GiB heap, 0.0/1.8 GiB objects (0.0/1.0 accelerator_type:GT)<br>Result logdir: /root/ray_results/PPO<br>Number of trials: 1/1 (1 RUNNING)<br><table>\n",
       "<thead>\n",
       "<tr><th>Trial name                </th><th>status  </th><th>loc            </th><th style=\"text-align: right;\">  iter</th><th style=\"text-align: right;\">  total time (s)</th><th style=\"text-align: right;\">   ts</th><th style=\"text-align: right;\">  reward</th><th style=\"text-align: right;\">  episode_reward_max</th><th style=\"text-align: right;\">  episode_reward_min</th><th style=\"text-align: right;\">  episode_len_mean</th></tr>\n",
       "</thead>\n",
       "<tbody>\n",
       "<tr><td>PPO_TradingEnv_36bfe_00000</td><td>RUNNING </td><td>172.17.0.2:5590</td><td style=\"text-align: right;\">     3</td><td style=\"text-align: right;\">         502.546</td><td style=\"text-align: right;\">12000</td><td style=\"text-align: right;\"> 488.968</td><td style=\"text-align: right;\">              1038.9</td><td style=\"text-align: right;\">              -117.1</td><td style=\"text-align: right;\">           16.9915</td></tr>\n",
       "</tbody>\n",
       "</table><br><br>"
      ],
      "text/plain": [
       "<IPython.core.display.HTML object>"
      ]
     },
     "metadata": {},
     "output_type": "display_data"
    },
    {
     "data": {
      "text/html": [
       "== Status ==<br>Current time: 2022-01-27 00:46:31 (running for 00:09:41.21)<br>Memory usage on this node: 4.5/7.7 GiB<br>Using FIFO scheduling algorithm.<br>Resources requested: 3.0/8 CPUs, 0/1 GPUs, 0.0/3.59 GiB heap, 0.0/1.8 GiB objects (0.0/1.0 accelerator_type:GT)<br>Result logdir: /root/ray_results/PPO<br>Number of trials: 1/1 (1 RUNNING)<br><table>\n",
       "<thead>\n",
       "<tr><th>Trial name                </th><th>status  </th><th>loc            </th><th style=\"text-align: right;\">  iter</th><th style=\"text-align: right;\">  total time (s)</th><th style=\"text-align: right;\">   ts</th><th style=\"text-align: right;\">  reward</th><th style=\"text-align: right;\">  episode_reward_max</th><th style=\"text-align: right;\">  episode_reward_min</th><th style=\"text-align: right;\">  episode_len_mean</th></tr>\n",
       "</thead>\n",
       "<tbody>\n",
       "<tr><td>PPO_TradingEnv_36bfe_00000</td><td>RUNNING </td><td>172.17.0.2:5590</td><td style=\"text-align: right;\">     3</td><td style=\"text-align: right;\">         502.546</td><td style=\"text-align: right;\">12000</td><td style=\"text-align: right;\"> 488.968</td><td style=\"text-align: right;\">              1038.9</td><td style=\"text-align: right;\">              -117.1</td><td style=\"text-align: right;\">           16.9915</td></tr>\n",
       "</tbody>\n",
       "</table><br><br>"
      ],
      "text/plain": [
       "<IPython.core.display.HTML object>"
      ]
     },
     "metadata": {},
     "output_type": "display_data"
    },
    {
     "data": {
      "text/html": [
       "== Status ==<br>Current time: 2022-01-27 00:46:36 (running for 00:09:46.22)<br>Memory usage on this node: 4.5/7.7 GiB<br>Using FIFO scheduling algorithm.<br>Resources requested: 3.0/8 CPUs, 0/1 GPUs, 0.0/3.59 GiB heap, 0.0/1.8 GiB objects (0.0/1.0 accelerator_type:GT)<br>Result logdir: /root/ray_results/PPO<br>Number of trials: 1/1 (1 RUNNING)<br><table>\n",
       "<thead>\n",
       "<tr><th>Trial name                </th><th>status  </th><th>loc            </th><th style=\"text-align: right;\">  iter</th><th style=\"text-align: right;\">  total time (s)</th><th style=\"text-align: right;\">   ts</th><th style=\"text-align: right;\">  reward</th><th style=\"text-align: right;\">  episode_reward_max</th><th style=\"text-align: right;\">  episode_reward_min</th><th style=\"text-align: right;\">  episode_len_mean</th></tr>\n",
       "</thead>\n",
       "<tbody>\n",
       "<tr><td>PPO_TradingEnv_36bfe_00000</td><td>RUNNING </td><td>172.17.0.2:5590</td><td style=\"text-align: right;\">     3</td><td style=\"text-align: right;\">         502.546</td><td style=\"text-align: right;\">12000</td><td style=\"text-align: right;\"> 488.968</td><td style=\"text-align: right;\">              1038.9</td><td style=\"text-align: right;\">              -117.1</td><td style=\"text-align: right;\">           16.9915</td></tr>\n",
       "</tbody>\n",
       "</table><br><br>"
      ],
      "text/plain": [
       "<IPython.core.display.HTML object>"
      ]
     },
     "metadata": {},
     "output_type": "display_data"
    },
    {
     "data": {
      "text/html": [
       "== Status ==<br>Current time: 2022-01-27 00:46:41 (running for 00:09:51.23)<br>Memory usage on this node: 4.5/7.7 GiB<br>Using FIFO scheduling algorithm.<br>Resources requested: 3.0/8 CPUs, 0/1 GPUs, 0.0/3.59 GiB heap, 0.0/1.8 GiB objects (0.0/1.0 accelerator_type:GT)<br>Result logdir: /root/ray_results/PPO<br>Number of trials: 1/1 (1 RUNNING)<br><table>\n",
       "<thead>\n",
       "<tr><th>Trial name                </th><th>status  </th><th>loc            </th><th style=\"text-align: right;\">  iter</th><th style=\"text-align: right;\">  total time (s)</th><th style=\"text-align: right;\">   ts</th><th style=\"text-align: right;\">  reward</th><th style=\"text-align: right;\">  episode_reward_max</th><th style=\"text-align: right;\">  episode_reward_min</th><th style=\"text-align: right;\">  episode_len_mean</th></tr>\n",
       "</thead>\n",
       "<tbody>\n",
       "<tr><td>PPO_TradingEnv_36bfe_00000</td><td>RUNNING </td><td>172.17.0.2:5590</td><td style=\"text-align: right;\">     3</td><td style=\"text-align: right;\">         502.546</td><td style=\"text-align: right;\">12000</td><td style=\"text-align: right;\"> 488.968</td><td style=\"text-align: right;\">              1038.9</td><td style=\"text-align: right;\">              -117.1</td><td style=\"text-align: right;\">           16.9915</td></tr>\n",
       "</tbody>\n",
       "</table><br><br>"
      ],
      "text/plain": [
       "<IPython.core.display.HTML object>"
      ]
     },
     "metadata": {},
     "output_type": "display_data"
    },
    {
     "data": {
      "text/html": [
       "== Status ==<br>Current time: 2022-01-27 00:46:46 (running for 00:09:56.24)<br>Memory usage on this node: 4.5/7.7 GiB<br>Using FIFO scheduling algorithm.<br>Resources requested: 3.0/8 CPUs, 0/1 GPUs, 0.0/3.59 GiB heap, 0.0/1.8 GiB objects (0.0/1.0 accelerator_type:GT)<br>Result logdir: /root/ray_results/PPO<br>Number of trials: 1/1 (1 RUNNING)<br><table>\n",
       "<thead>\n",
       "<tr><th>Trial name                </th><th>status  </th><th>loc            </th><th style=\"text-align: right;\">  iter</th><th style=\"text-align: right;\">  total time (s)</th><th style=\"text-align: right;\">   ts</th><th style=\"text-align: right;\">  reward</th><th style=\"text-align: right;\">  episode_reward_max</th><th style=\"text-align: right;\">  episode_reward_min</th><th style=\"text-align: right;\">  episode_len_mean</th></tr>\n",
       "</thead>\n",
       "<tbody>\n",
       "<tr><td>PPO_TradingEnv_36bfe_00000</td><td>RUNNING </td><td>172.17.0.2:5590</td><td style=\"text-align: right;\">     3</td><td style=\"text-align: right;\">         502.546</td><td style=\"text-align: right;\">12000</td><td style=\"text-align: right;\"> 488.968</td><td style=\"text-align: right;\">              1038.9</td><td style=\"text-align: right;\">              -117.1</td><td style=\"text-align: right;\">           16.9915</td></tr>\n",
       "</tbody>\n",
       "</table><br><br>"
      ],
      "text/plain": [
       "<IPython.core.display.HTML object>"
      ]
     },
     "metadata": {},
     "output_type": "display_data"
    },
    {
     "data": {
      "text/html": [
       "== Status ==<br>Current time: 2022-01-27 00:46:51 (running for 00:10:01.24)<br>Memory usage on this node: 4.5/7.7 GiB<br>Using FIFO scheduling algorithm.<br>Resources requested: 3.0/8 CPUs, 0/1 GPUs, 0.0/3.59 GiB heap, 0.0/1.8 GiB objects (0.0/1.0 accelerator_type:GT)<br>Result logdir: /root/ray_results/PPO<br>Number of trials: 1/1 (1 RUNNING)<br><table>\n",
       "<thead>\n",
       "<tr><th>Trial name                </th><th>status  </th><th>loc            </th><th style=\"text-align: right;\">  iter</th><th style=\"text-align: right;\">  total time (s)</th><th style=\"text-align: right;\">   ts</th><th style=\"text-align: right;\">  reward</th><th style=\"text-align: right;\">  episode_reward_max</th><th style=\"text-align: right;\">  episode_reward_min</th><th style=\"text-align: right;\">  episode_len_mean</th></tr>\n",
       "</thead>\n",
       "<tbody>\n",
       "<tr><td>PPO_TradingEnv_36bfe_00000</td><td>RUNNING </td><td>172.17.0.2:5590</td><td style=\"text-align: right;\">     3</td><td style=\"text-align: right;\">         502.546</td><td style=\"text-align: right;\">12000</td><td style=\"text-align: right;\"> 488.968</td><td style=\"text-align: right;\">              1038.9</td><td style=\"text-align: right;\">              -117.1</td><td style=\"text-align: right;\">           16.9915</td></tr>\n",
       "</tbody>\n",
       "</table><br><br>"
      ],
      "text/plain": [
       "<IPython.core.display.HTML object>"
      ]
     },
     "metadata": {},
     "output_type": "display_data"
    },
    {
     "data": {
      "text/html": [
       "== Status ==<br>Current time: 2022-01-27 00:46:56 (running for 00:10:06.25)<br>Memory usage on this node: 4.5/7.7 GiB<br>Using FIFO scheduling algorithm.<br>Resources requested: 3.0/8 CPUs, 0/1 GPUs, 0.0/3.59 GiB heap, 0.0/1.8 GiB objects (0.0/1.0 accelerator_type:GT)<br>Result logdir: /root/ray_results/PPO<br>Number of trials: 1/1 (1 RUNNING)<br><table>\n",
       "<thead>\n",
       "<tr><th>Trial name                </th><th>status  </th><th>loc            </th><th style=\"text-align: right;\">  iter</th><th style=\"text-align: right;\">  total time (s)</th><th style=\"text-align: right;\">   ts</th><th style=\"text-align: right;\">  reward</th><th style=\"text-align: right;\">  episode_reward_max</th><th style=\"text-align: right;\">  episode_reward_min</th><th style=\"text-align: right;\">  episode_len_mean</th></tr>\n",
       "</thead>\n",
       "<tbody>\n",
       "<tr><td>PPO_TradingEnv_36bfe_00000</td><td>RUNNING </td><td>172.17.0.2:5590</td><td style=\"text-align: right;\">     3</td><td style=\"text-align: right;\">         502.546</td><td style=\"text-align: right;\">12000</td><td style=\"text-align: right;\"> 488.968</td><td style=\"text-align: right;\">              1038.9</td><td style=\"text-align: right;\">              -117.1</td><td style=\"text-align: right;\">           16.9915</td></tr>\n",
       "</tbody>\n",
       "</table><br><br>"
      ],
      "text/plain": [
       "<IPython.core.display.HTML object>"
      ]
     },
     "metadata": {},
     "output_type": "display_data"
    },
    {
     "data": {
      "text/html": [
       "== Status ==<br>Current time: 2022-01-27 00:47:01 (running for 00:10:11.25)<br>Memory usage on this node: 4.5/7.7 GiB<br>Using FIFO scheduling algorithm.<br>Resources requested: 3.0/8 CPUs, 0/1 GPUs, 0.0/3.59 GiB heap, 0.0/1.8 GiB objects (0.0/1.0 accelerator_type:GT)<br>Result logdir: /root/ray_results/PPO<br>Number of trials: 1/1 (1 RUNNING)<br><table>\n",
       "<thead>\n",
       "<tr><th>Trial name                </th><th>status  </th><th>loc            </th><th style=\"text-align: right;\">  iter</th><th style=\"text-align: right;\">  total time (s)</th><th style=\"text-align: right;\">   ts</th><th style=\"text-align: right;\">  reward</th><th style=\"text-align: right;\">  episode_reward_max</th><th style=\"text-align: right;\">  episode_reward_min</th><th style=\"text-align: right;\">  episode_len_mean</th></tr>\n",
       "</thead>\n",
       "<tbody>\n",
       "<tr><td>PPO_TradingEnv_36bfe_00000</td><td>RUNNING </td><td>172.17.0.2:5590</td><td style=\"text-align: right;\">     3</td><td style=\"text-align: right;\">         502.546</td><td style=\"text-align: right;\">12000</td><td style=\"text-align: right;\"> 488.968</td><td style=\"text-align: right;\">              1038.9</td><td style=\"text-align: right;\">              -117.1</td><td style=\"text-align: right;\">           16.9915</td></tr>\n",
       "</tbody>\n",
       "</table><br><br>"
      ],
      "text/plain": [
       "<IPython.core.display.HTML object>"
      ]
     },
     "metadata": {},
     "output_type": "display_data"
    },
    {
     "data": {
      "text/html": [
       "== Status ==<br>Current time: 2022-01-27 00:47:06 (running for 00:10:16.26)<br>Memory usage on this node: 4.5/7.7 GiB<br>Using FIFO scheduling algorithm.<br>Resources requested: 3.0/8 CPUs, 0/1 GPUs, 0.0/3.59 GiB heap, 0.0/1.8 GiB objects (0.0/1.0 accelerator_type:GT)<br>Result logdir: /root/ray_results/PPO<br>Number of trials: 1/1 (1 RUNNING)<br><table>\n",
       "<thead>\n",
       "<tr><th>Trial name                </th><th>status  </th><th>loc            </th><th style=\"text-align: right;\">  iter</th><th style=\"text-align: right;\">  total time (s)</th><th style=\"text-align: right;\">   ts</th><th style=\"text-align: right;\">  reward</th><th style=\"text-align: right;\">  episode_reward_max</th><th style=\"text-align: right;\">  episode_reward_min</th><th style=\"text-align: right;\">  episode_len_mean</th></tr>\n",
       "</thead>\n",
       "<tbody>\n",
       "<tr><td>PPO_TradingEnv_36bfe_00000</td><td>RUNNING </td><td>172.17.0.2:5590</td><td style=\"text-align: right;\">     3</td><td style=\"text-align: right;\">         502.546</td><td style=\"text-align: right;\">12000</td><td style=\"text-align: right;\"> 488.968</td><td style=\"text-align: right;\">              1038.9</td><td style=\"text-align: right;\">              -117.1</td><td style=\"text-align: right;\">           16.9915</td></tr>\n",
       "</tbody>\n",
       "</table><br><br>"
      ],
      "text/plain": [
       "<IPython.core.display.HTML object>"
      ]
     },
     "metadata": {},
     "output_type": "display_data"
    },
    {
     "data": {
      "text/html": [
       "== Status ==<br>Current time: 2022-01-27 00:47:11 (running for 00:10:21.27)<br>Memory usage on this node: 4.5/7.7 GiB<br>Using FIFO scheduling algorithm.<br>Resources requested: 3.0/8 CPUs, 0/1 GPUs, 0.0/3.59 GiB heap, 0.0/1.8 GiB objects (0.0/1.0 accelerator_type:GT)<br>Result logdir: /root/ray_results/PPO<br>Number of trials: 1/1 (1 RUNNING)<br><table>\n",
       "<thead>\n",
       "<tr><th>Trial name                </th><th>status  </th><th>loc            </th><th style=\"text-align: right;\">  iter</th><th style=\"text-align: right;\">  total time (s)</th><th style=\"text-align: right;\">   ts</th><th style=\"text-align: right;\">  reward</th><th style=\"text-align: right;\">  episode_reward_max</th><th style=\"text-align: right;\">  episode_reward_min</th><th style=\"text-align: right;\">  episode_len_mean</th></tr>\n",
       "</thead>\n",
       "<tbody>\n",
       "<tr><td>PPO_TradingEnv_36bfe_00000</td><td>RUNNING </td><td>172.17.0.2:5590</td><td style=\"text-align: right;\">     3</td><td style=\"text-align: right;\">         502.546</td><td style=\"text-align: right;\">12000</td><td style=\"text-align: right;\"> 488.968</td><td style=\"text-align: right;\">              1038.9</td><td style=\"text-align: right;\">              -117.1</td><td style=\"text-align: right;\">           16.9915</td></tr>\n",
       "</tbody>\n",
       "</table><br><br>"
      ],
      "text/plain": [
       "<IPython.core.display.HTML object>"
      ]
     },
     "metadata": {},
     "output_type": "display_data"
    },
    {
     "data": {
      "text/html": [
       "== Status ==<br>Current time: 2022-01-27 00:47:16 (running for 00:10:26.28)<br>Memory usage on this node: 4.5/7.7 GiB<br>Using FIFO scheduling algorithm.<br>Resources requested: 3.0/8 CPUs, 0/1 GPUs, 0.0/3.59 GiB heap, 0.0/1.8 GiB objects (0.0/1.0 accelerator_type:GT)<br>Result logdir: /root/ray_results/PPO<br>Number of trials: 1/1 (1 RUNNING)<br><table>\n",
       "<thead>\n",
       "<tr><th>Trial name                </th><th>status  </th><th>loc            </th><th style=\"text-align: right;\">  iter</th><th style=\"text-align: right;\">  total time (s)</th><th style=\"text-align: right;\">   ts</th><th style=\"text-align: right;\">  reward</th><th style=\"text-align: right;\">  episode_reward_max</th><th style=\"text-align: right;\">  episode_reward_min</th><th style=\"text-align: right;\">  episode_len_mean</th></tr>\n",
       "</thead>\n",
       "<tbody>\n",
       "<tr><td>PPO_TradingEnv_36bfe_00000</td><td>RUNNING </td><td>172.17.0.2:5590</td><td style=\"text-align: right;\">     3</td><td style=\"text-align: right;\">         502.546</td><td style=\"text-align: right;\">12000</td><td style=\"text-align: right;\"> 488.968</td><td style=\"text-align: right;\">              1038.9</td><td style=\"text-align: right;\">              -117.1</td><td style=\"text-align: right;\">           16.9915</td></tr>\n",
       "</tbody>\n",
       "</table><br><br>"
      ],
      "text/plain": [
       "<IPython.core.display.HTML object>"
      ]
     },
     "metadata": {},
     "output_type": "display_data"
    },
    {
     "data": {
      "text/html": [
       "== Status ==<br>Current time: 2022-01-27 00:47:21 (running for 00:10:31.28)<br>Memory usage on this node: 4.5/7.7 GiB<br>Using FIFO scheduling algorithm.<br>Resources requested: 3.0/8 CPUs, 0/1 GPUs, 0.0/3.59 GiB heap, 0.0/1.8 GiB objects (0.0/1.0 accelerator_type:GT)<br>Result logdir: /root/ray_results/PPO<br>Number of trials: 1/1 (1 RUNNING)<br><table>\n",
       "<thead>\n",
       "<tr><th>Trial name                </th><th>status  </th><th>loc            </th><th style=\"text-align: right;\">  iter</th><th style=\"text-align: right;\">  total time (s)</th><th style=\"text-align: right;\">   ts</th><th style=\"text-align: right;\">  reward</th><th style=\"text-align: right;\">  episode_reward_max</th><th style=\"text-align: right;\">  episode_reward_min</th><th style=\"text-align: right;\">  episode_len_mean</th></tr>\n",
       "</thead>\n",
       "<tbody>\n",
       "<tr><td>PPO_TradingEnv_36bfe_00000</td><td>RUNNING </td><td>172.17.0.2:5590</td><td style=\"text-align: right;\">     3</td><td style=\"text-align: right;\">         502.546</td><td style=\"text-align: right;\">12000</td><td style=\"text-align: right;\"> 488.968</td><td style=\"text-align: right;\">              1038.9</td><td style=\"text-align: right;\">              -117.1</td><td style=\"text-align: right;\">           16.9915</td></tr>\n",
       "</tbody>\n",
       "</table><br><br>"
      ],
      "text/plain": [
       "<IPython.core.display.HTML object>"
      ]
     },
     "metadata": {},
     "output_type": "display_data"
    },
    {
     "data": {
      "text/html": [
       "== Status ==<br>Current time: 2022-01-27 00:47:26 (running for 00:10:36.29)<br>Memory usage on this node: 4.5/7.7 GiB<br>Using FIFO scheduling algorithm.<br>Resources requested: 3.0/8 CPUs, 0/1 GPUs, 0.0/3.59 GiB heap, 0.0/1.8 GiB objects (0.0/1.0 accelerator_type:GT)<br>Result logdir: /root/ray_results/PPO<br>Number of trials: 1/1 (1 RUNNING)<br><table>\n",
       "<thead>\n",
       "<tr><th>Trial name                </th><th>status  </th><th>loc            </th><th style=\"text-align: right;\">  iter</th><th style=\"text-align: right;\">  total time (s)</th><th style=\"text-align: right;\">   ts</th><th style=\"text-align: right;\">  reward</th><th style=\"text-align: right;\">  episode_reward_max</th><th style=\"text-align: right;\">  episode_reward_min</th><th style=\"text-align: right;\">  episode_len_mean</th></tr>\n",
       "</thead>\n",
       "<tbody>\n",
       "<tr><td>PPO_TradingEnv_36bfe_00000</td><td>RUNNING </td><td>172.17.0.2:5590</td><td style=\"text-align: right;\">     3</td><td style=\"text-align: right;\">         502.546</td><td style=\"text-align: right;\">12000</td><td style=\"text-align: right;\"> 488.968</td><td style=\"text-align: right;\">              1038.9</td><td style=\"text-align: right;\">              -117.1</td><td style=\"text-align: right;\">           16.9915</td></tr>\n",
       "</tbody>\n",
       "</table><br><br>"
      ],
      "text/plain": [
       "<IPython.core.display.HTML object>"
      ]
     },
     "metadata": {},
     "output_type": "display_data"
    },
    {
     "data": {
      "text/html": [
       "== Status ==<br>Current time: 2022-01-27 00:47:31 (running for 00:10:41.30)<br>Memory usage on this node: 4.5/7.7 GiB<br>Using FIFO scheduling algorithm.<br>Resources requested: 3.0/8 CPUs, 0/1 GPUs, 0.0/3.59 GiB heap, 0.0/1.8 GiB objects (0.0/1.0 accelerator_type:GT)<br>Result logdir: /root/ray_results/PPO<br>Number of trials: 1/1 (1 RUNNING)<br><table>\n",
       "<thead>\n",
       "<tr><th>Trial name                </th><th>status  </th><th>loc            </th><th style=\"text-align: right;\">  iter</th><th style=\"text-align: right;\">  total time (s)</th><th style=\"text-align: right;\">   ts</th><th style=\"text-align: right;\">  reward</th><th style=\"text-align: right;\">  episode_reward_max</th><th style=\"text-align: right;\">  episode_reward_min</th><th style=\"text-align: right;\">  episode_len_mean</th></tr>\n",
       "</thead>\n",
       "<tbody>\n",
       "<tr><td>PPO_TradingEnv_36bfe_00000</td><td>RUNNING </td><td>172.17.0.2:5590</td><td style=\"text-align: right;\">     3</td><td style=\"text-align: right;\">         502.546</td><td style=\"text-align: right;\">12000</td><td style=\"text-align: right;\"> 488.968</td><td style=\"text-align: right;\">              1038.9</td><td style=\"text-align: right;\">              -117.1</td><td style=\"text-align: right;\">           16.9915</td></tr>\n",
       "</tbody>\n",
       "</table><br><br>"
      ],
      "text/plain": [
       "<IPython.core.display.HTML object>"
      ]
     },
     "metadata": {},
     "output_type": "display_data"
    },
    {
     "data": {
      "text/html": [
       "== Status ==<br>Current time: 2022-01-27 00:47:36 (running for 00:10:46.31)<br>Memory usage on this node: 4.5/7.7 GiB<br>Using FIFO scheduling algorithm.<br>Resources requested: 3.0/8 CPUs, 0/1 GPUs, 0.0/3.59 GiB heap, 0.0/1.8 GiB objects (0.0/1.0 accelerator_type:GT)<br>Result logdir: /root/ray_results/PPO<br>Number of trials: 1/1 (1 RUNNING)<br><table>\n",
       "<thead>\n",
       "<tr><th>Trial name                </th><th>status  </th><th>loc            </th><th style=\"text-align: right;\">  iter</th><th style=\"text-align: right;\">  total time (s)</th><th style=\"text-align: right;\">   ts</th><th style=\"text-align: right;\">  reward</th><th style=\"text-align: right;\">  episode_reward_max</th><th style=\"text-align: right;\">  episode_reward_min</th><th style=\"text-align: right;\">  episode_len_mean</th></tr>\n",
       "</thead>\n",
       "<tbody>\n",
       "<tr><td>PPO_TradingEnv_36bfe_00000</td><td>RUNNING </td><td>172.17.0.2:5590</td><td style=\"text-align: right;\">     3</td><td style=\"text-align: right;\">         502.546</td><td style=\"text-align: right;\">12000</td><td style=\"text-align: right;\"> 488.968</td><td style=\"text-align: right;\">              1038.9</td><td style=\"text-align: right;\">              -117.1</td><td style=\"text-align: right;\">           16.9915</td></tr>\n",
       "</tbody>\n",
       "</table><br><br>"
      ],
      "text/plain": [
       "<IPython.core.display.HTML object>"
      ]
     },
     "metadata": {},
     "output_type": "display_data"
    },
    {
     "data": {
      "text/html": [
       "== Status ==<br>Current time: 2022-01-27 00:47:41 (running for 00:10:51.31)<br>Memory usage on this node: 4.5/7.7 GiB<br>Using FIFO scheduling algorithm.<br>Resources requested: 3.0/8 CPUs, 0/1 GPUs, 0.0/3.59 GiB heap, 0.0/1.8 GiB objects (0.0/1.0 accelerator_type:GT)<br>Result logdir: /root/ray_results/PPO<br>Number of trials: 1/1 (1 RUNNING)<br><table>\n",
       "<thead>\n",
       "<tr><th>Trial name                </th><th>status  </th><th>loc            </th><th style=\"text-align: right;\">  iter</th><th style=\"text-align: right;\">  total time (s)</th><th style=\"text-align: right;\">   ts</th><th style=\"text-align: right;\">  reward</th><th style=\"text-align: right;\">  episode_reward_max</th><th style=\"text-align: right;\">  episode_reward_min</th><th style=\"text-align: right;\">  episode_len_mean</th></tr>\n",
       "</thead>\n",
       "<tbody>\n",
       "<tr><td>PPO_TradingEnv_36bfe_00000</td><td>RUNNING </td><td>172.17.0.2:5590</td><td style=\"text-align: right;\">     3</td><td style=\"text-align: right;\">         502.546</td><td style=\"text-align: right;\">12000</td><td style=\"text-align: right;\"> 488.968</td><td style=\"text-align: right;\">              1038.9</td><td style=\"text-align: right;\">              -117.1</td><td style=\"text-align: right;\">           16.9915</td></tr>\n",
       "</tbody>\n",
       "</table><br><br>"
      ],
      "text/plain": [
       "<IPython.core.display.HTML object>"
      ]
     },
     "metadata": {},
     "output_type": "display_data"
    },
    {
     "data": {
      "text/html": [
       "== Status ==<br>Current time: 2022-01-27 00:47:47 (running for 00:10:56.32)<br>Memory usage on this node: 4.5/7.7 GiB<br>Using FIFO scheduling algorithm.<br>Resources requested: 3.0/8 CPUs, 0/1 GPUs, 0.0/3.59 GiB heap, 0.0/1.8 GiB objects (0.0/1.0 accelerator_type:GT)<br>Result logdir: /root/ray_results/PPO<br>Number of trials: 1/1 (1 RUNNING)<br><table>\n",
       "<thead>\n",
       "<tr><th>Trial name                </th><th>status  </th><th>loc            </th><th style=\"text-align: right;\">  iter</th><th style=\"text-align: right;\">  total time (s)</th><th style=\"text-align: right;\">   ts</th><th style=\"text-align: right;\">  reward</th><th style=\"text-align: right;\">  episode_reward_max</th><th style=\"text-align: right;\">  episode_reward_min</th><th style=\"text-align: right;\">  episode_len_mean</th></tr>\n",
       "</thead>\n",
       "<tbody>\n",
       "<tr><td>PPO_TradingEnv_36bfe_00000</td><td>RUNNING </td><td>172.17.0.2:5590</td><td style=\"text-align: right;\">     3</td><td style=\"text-align: right;\">         502.546</td><td style=\"text-align: right;\">12000</td><td style=\"text-align: right;\"> 488.968</td><td style=\"text-align: right;\">              1038.9</td><td style=\"text-align: right;\">              -117.1</td><td style=\"text-align: right;\">           16.9915</td></tr>\n",
       "</tbody>\n",
       "</table><br><br>"
      ],
      "text/plain": [
       "<IPython.core.display.HTML object>"
      ]
     },
     "metadata": {},
     "output_type": "display_data"
    },
    {
     "data": {
      "text/html": [
       "== Status ==<br>Current time: 2022-01-27 00:47:52 (running for 00:11:01.32)<br>Memory usage on this node: 4.5/7.7 GiB<br>Using FIFO scheduling algorithm.<br>Resources requested: 3.0/8 CPUs, 0/1 GPUs, 0.0/3.59 GiB heap, 0.0/1.8 GiB objects (0.0/1.0 accelerator_type:GT)<br>Result logdir: /root/ray_results/PPO<br>Number of trials: 1/1 (1 RUNNING)<br><table>\n",
       "<thead>\n",
       "<tr><th>Trial name                </th><th>status  </th><th>loc            </th><th style=\"text-align: right;\">  iter</th><th style=\"text-align: right;\">  total time (s)</th><th style=\"text-align: right;\">   ts</th><th style=\"text-align: right;\">  reward</th><th style=\"text-align: right;\">  episode_reward_max</th><th style=\"text-align: right;\">  episode_reward_min</th><th style=\"text-align: right;\">  episode_len_mean</th></tr>\n",
       "</thead>\n",
       "<tbody>\n",
       "<tr><td>PPO_TradingEnv_36bfe_00000</td><td>RUNNING </td><td>172.17.0.2:5590</td><td style=\"text-align: right;\">     3</td><td style=\"text-align: right;\">         502.546</td><td style=\"text-align: right;\">12000</td><td style=\"text-align: right;\"> 488.968</td><td style=\"text-align: right;\">              1038.9</td><td style=\"text-align: right;\">              -117.1</td><td style=\"text-align: right;\">           16.9915</td></tr>\n",
       "</tbody>\n",
       "</table><br><br>"
      ],
      "text/plain": [
       "<IPython.core.display.HTML object>"
      ]
     },
     "metadata": {},
     "output_type": "display_data"
    },
    {
     "data": {
      "text/html": [
       "== Status ==<br>Current time: 2022-01-27 00:47:57 (running for 00:11:06.33)<br>Memory usage on this node: 4.5/7.7 GiB<br>Using FIFO scheduling algorithm.<br>Resources requested: 3.0/8 CPUs, 0/1 GPUs, 0.0/3.59 GiB heap, 0.0/1.8 GiB objects (0.0/1.0 accelerator_type:GT)<br>Result logdir: /root/ray_results/PPO<br>Number of trials: 1/1 (1 RUNNING)<br><table>\n",
       "<thead>\n",
       "<tr><th>Trial name                </th><th>status  </th><th>loc            </th><th style=\"text-align: right;\">  iter</th><th style=\"text-align: right;\">  total time (s)</th><th style=\"text-align: right;\">   ts</th><th style=\"text-align: right;\">  reward</th><th style=\"text-align: right;\">  episode_reward_max</th><th style=\"text-align: right;\">  episode_reward_min</th><th style=\"text-align: right;\">  episode_len_mean</th></tr>\n",
       "</thead>\n",
       "<tbody>\n",
       "<tr><td>PPO_TradingEnv_36bfe_00000</td><td>RUNNING </td><td>172.17.0.2:5590</td><td style=\"text-align: right;\">     3</td><td style=\"text-align: right;\">         502.546</td><td style=\"text-align: right;\">12000</td><td style=\"text-align: right;\"> 488.968</td><td style=\"text-align: right;\">              1038.9</td><td style=\"text-align: right;\">              -117.1</td><td style=\"text-align: right;\">           16.9915</td></tr>\n",
       "</tbody>\n",
       "</table><br><br>"
      ],
      "text/plain": [
       "<IPython.core.display.HTML object>"
      ]
     },
     "metadata": {},
     "output_type": "display_data"
    },
    {
     "data": {
      "text/html": [
       "== Status ==<br>Current time: 2022-01-27 00:48:02 (running for 00:11:11.34)<br>Memory usage on this node: 4.5/7.7 GiB<br>Using FIFO scheduling algorithm.<br>Resources requested: 3.0/8 CPUs, 0/1 GPUs, 0.0/3.59 GiB heap, 0.0/1.8 GiB objects (0.0/1.0 accelerator_type:GT)<br>Result logdir: /root/ray_results/PPO<br>Number of trials: 1/1 (1 RUNNING)<br><table>\n",
       "<thead>\n",
       "<tr><th>Trial name                </th><th>status  </th><th>loc            </th><th style=\"text-align: right;\">  iter</th><th style=\"text-align: right;\">  total time (s)</th><th style=\"text-align: right;\">   ts</th><th style=\"text-align: right;\">  reward</th><th style=\"text-align: right;\">  episode_reward_max</th><th style=\"text-align: right;\">  episode_reward_min</th><th style=\"text-align: right;\">  episode_len_mean</th></tr>\n",
       "</thead>\n",
       "<tbody>\n",
       "<tr><td>PPO_TradingEnv_36bfe_00000</td><td>RUNNING </td><td>172.17.0.2:5590</td><td style=\"text-align: right;\">     3</td><td style=\"text-align: right;\">         502.546</td><td style=\"text-align: right;\">12000</td><td style=\"text-align: right;\"> 488.968</td><td style=\"text-align: right;\">              1038.9</td><td style=\"text-align: right;\">              -117.1</td><td style=\"text-align: right;\">           16.9915</td></tr>\n",
       "</tbody>\n",
       "</table><br><br>"
      ],
      "text/plain": [
       "<IPython.core.display.HTML object>"
      ]
     },
     "metadata": {},
     "output_type": "display_data"
    },
    {
     "name": "stdout",
     "output_type": "stream",
     "text": [
      "Result for PPO_TradingEnv_36bfe_00000:\n",
      "  agent_timesteps_total: 16000\n",
      "  custom_metrics: {}\n",
      "  date: 2022-01-27_00-48-03\n",
      "  done: true\n",
      "  episode_len_mean: 16.58091286307054\n",
      "  episode_media: {}\n",
      "  episode_reward_max: 965.3999999999978\n",
      "  episode_reward_mean: 534.9240663900392\n",
      "  episode_reward_min: -61.50000000000182\n",
      "  episodes_this_iter: 241\n",
      "  episodes_total: 913\n",
      "  experiment_id: 24a371e8dfc342d4a5944195365b4acd\n",
      "  hostname: 1560ecedb02e\n",
      "  info:\n",
      "    learner:\n",
      "      default_policy:\n",
      "        custom_metrics: {}\n",
      "        learner_stats:\n",
      "          allreduce_latency: 0.0\n",
      "          cur_kl_coeff: 0.6750000000000002\n",
      "          cur_lr: 9.800000000000001e-05\n",
      "          entropy: 0.2653648759408664\n",
      "          entropy_coeff: 0.01\n",
      "          kl: 0.009640639959424982\n",
      "          policy_loss: -0.035687544647484054\n",
      "          total_loss: 0.5101490079395232\n",
      "          vf_explained_var: 0.10458010986287107\n",
      "          vf_loss: 1.0839655406372521\n",
      "        model: {}\n",
      "    num_agent_steps_sampled: 16000\n",
      "    num_agent_steps_trained: 16000\n",
      "    num_steps_sampled: 16000\n",
      "    num_steps_trained: 16000\n",
      "    num_steps_trained_this_iter: 0\n",
      "  iterations_since_restore: 4\n",
      "  node_ip: 172.17.0.2\n",
      "  num_healthy_workers: 2\n",
      "  off_policy_estimator: {}\n",
      "  perf:\n",
      "    cpu_util_percent: 16.863392857142856\n",
      "    ram_util_percent: 58.232142857142854\n",
      "  pid: 5590\n",
      "  policy_reward_max: {}\n",
      "  policy_reward_mean: {}\n",
      "  policy_reward_min: {}\n",
      "  sampler_perf:\n",
      "    mean_action_processing_ms: 0.11566024962627992\n",
      "    mean_env_render_ms: 0.0\n",
      "    mean_env_wait_ms: 0.9383103086194008\n",
      "    mean_inference_ms: 2.707232275791392\n",
      "    mean_raw_obs_processing_ms: 0.33874915560224994\n",
      "  time_since_restore: 660.125415802002\n",
      "  time_this_iter_s: 157.5791838169098\n",
      "  time_total_s: 660.125415802002\n",
      "  timers:\n",
      "    learn_throughput: 25.551\n",
      "    learn_time_ms: 156551.868\n",
      "    load_throughput: 54492.048\n",
      "    load_time_ms: 73.405\n",
      "    sample_throughput: 31.31\n",
      "    sample_time_ms: 127755.132\n",
      "    update_time_ms: 5.143\n",
      "  timestamp: 1643244483\n",
      "  timesteps_since_restore: 0\n",
      "  timesteps_this_iter: 0\n",
      "  timesteps_total: 16000\n",
      "  training_iteration: 4\n",
      "  trial_id: 36bfe_00000\n",
      "  \n"
     ]
    },
    {
     "data": {
      "text/html": [
       "== Status ==<br>Current time: 2022-01-27 00:48:03 (running for 00:11:12.85)<br>Memory usage on this node: 4.5/7.7 GiB<br>Using FIFO scheduling algorithm.<br>Resources requested: 0/8 CPUs, 0/1 GPUs, 0.0/3.59 GiB heap, 0.0/1.8 GiB objects (0.0/1.0 accelerator_type:GT)<br>Result logdir: /root/ray_results/PPO<br>Number of trials: 1/1 (1 TERMINATED)<br><table>\n",
       "<thead>\n",
       "<tr><th>Trial name                </th><th>status    </th><th>loc            </th><th style=\"text-align: right;\">  iter</th><th style=\"text-align: right;\">  total time (s)</th><th style=\"text-align: right;\">   ts</th><th style=\"text-align: right;\">  reward</th><th style=\"text-align: right;\">  episode_reward_max</th><th style=\"text-align: right;\">  episode_reward_min</th><th style=\"text-align: right;\">  episode_len_mean</th></tr>\n",
       "</thead>\n",
       "<tbody>\n",
       "<tr><td>PPO_TradingEnv_36bfe_00000</td><td>TERMINATED</td><td>172.17.0.2:5590</td><td style=\"text-align: right;\">     4</td><td style=\"text-align: right;\">         660.125</td><td style=\"text-align: right;\">16000</td><td style=\"text-align: right;\"> 534.924</td><td style=\"text-align: right;\">               965.4</td><td style=\"text-align: right;\">               -61.5</td><td style=\"text-align: right;\">           16.5809</td></tr>\n",
       "</tbody>\n",
       "</table><br><br>"
      ],
      "text/plain": [
       "<IPython.core.display.HTML object>"
      ]
     },
     "metadata": {},
     "output_type": "display_data"
    },
    {
     "name": "stderr",
     "output_type": "stream",
     "text": [
      "2022-01-27 00:48:03,657\tINFO tune.py:626 -- Total run time: 674.50 seconds (672.81 seconds for the tuning loop).\n"
     ]
    }
   ],
   "source": [
    "# Specific configuration keys that will be used during training\n",
    "env_config_training = {\n",
    "    \"window_size\": 14,  # We want to look at the last 14 samples (hours)\n",
    "    \"reward_window_size\": 7,  # And calculate reward based on the actions taken in the next 7 hours\n",
    "    \"max_allowed_loss\": 0.10,  # If it goes past 10% loss during the iteration, we don't want to waste time on a \"loser\".\n",
    "    \"csv_filename\": train_csv  # The variable that will be used to differentiate training and validation datasets\n",
    "}\n",
    "# Specific configuration keys that will be used during evaluation (only the overridden ones)\n",
    "env_config_evaluation = {\n",
    "    \"max_allowed_loss\": 1.00,  # During validation runs we want to see how bad it would go. Even up to 100% loss.\n",
    "    \"csv_filename\": test_csv,  # The variable that will be used to differentiate training and validation datasets\n",
    "}\n",
    "\n",
    "\n",
    "analysis = tune.run(\n",
    "    \"PPO\",\n",
    "    stop={\n",
    "        \"episode_reward_mean\": 500,\n",
    "        \"training_iteration\": 20,\n",
    "    },\n",
    "    config={\n",
    "        \"env\": \"TradingEnv\",\n",
    "        \"env_config\": env_config_training,\n",
    "        \"log_level\": \"ERROR\",\n",
    "        \"framework\": \"torch\",\n",
    "        \"ignore_worker_failures\": True,\n",
    "        \"num_workers\": 2,\n",
    "        \"num_gpus\": 0,\n",
    "        \"clip_rewards\": True,\n",
    "        \"lr\": 0.005,\n",
    "        \"lr_schedule\": [\n",
    "            [0, 1e-1],\n",
    "            [int(1e2), 1e-2],\n",
    "            [int(1e3), 1e-3],\n",
    "            [int(1e4), 1e-4],\n",
    "            [int(1e5), 1e-5],\n",
    "            [int(1e6), 1e-6],\n",
    "            [int(1e7), 1e-7]\n",
    "        ],\n",
    "        \"model\": {\n",
    "            \"use_lstm\": use_lstm,\n",
    "            \"lstm_cell_size\": lstm_cell_size\n",
    "        },\n",
    "        \"gamma\": 0.99,\n",
    "        \"observation_filter\": \"MeanStdFilter\",\n",
    "        \"lambda\": 0.72,\n",
    "        \"vf_loss_coeff\": 0.5,\n",
    "        \"entropy_coeff\": 0.01,\n",
    "        \"evaluation_config\": {\n",
    "            \"env_config\": env_config_evaluation,  # The dictionary we built before (only the overriding keys to use in evaluation)\n",
    "            \"explore\": False,  # We don't want to explore during evaluation. All actions have to be repeatable.\n",
    "        },\n",
    "    },\n",
    "    checkpoint_at_end=True\n",
    ")"
   ]
  },
  {
   "cell_type": "code",
   "execution_count": 11,
   "id": "56485836",
   "metadata": {},
   "outputs": [
    {
     "name": "stderr",
     "output_type": "stream",
     "text": [
      "2022-01-27 00:48:03,709\tINFO ppo.py:167 -- In multi-agent mode, policies will be optimized sequentially by the multi-GPU optimizer. Consider setting simple_optimizer=True if this doesn't work for you.\n",
      "2022-01-27 00:48:03,710\tINFO trainer.py:745 -- Current log_level is ERROR. For more information, set 'log_level': 'INFO' / 'DEBUG' or use the -v and -vv flags.\n",
      "\u001b[2m\u001b[36m(RolloutWorker pid=5593)\u001b[0m /usr/local/lib/python3.6/dist-packages/gym/logger.py:30: UserWarning:\n",
      "\u001b[2m\u001b[36m(RolloutWorker pid=5593)\u001b[0m \n",
      "\u001b[2m\u001b[36m(RolloutWorker pid=5593)\u001b[0m \u001b[33mWARN: Box bound precision lowered by casting to float32\u001b[0m\n",
      "\u001b[2m\u001b[36m(RolloutWorker pid=5593)\u001b[0m \n",
      "/usr/local/lib/python3.6/dist-packages/gym/logger.py:30: UserWarning:\n",
      "\n",
      "\u001b[33mWARN: Box bound precision lowered by casting to float32\u001b[0m\n",
      "\n",
      "/usr/local/lib/python3.6/dist-packages/ray/rllib/utils/numpy.py:140: FutureWarning:\n",
      "\n",
      "Conversion of the second argument of issubdtype from `int` to `np.signedinteger` is deprecated. In future, it will be treated as `np.int64 == np.dtype(int).type`.\n",
      "\n",
      "\u001b[2m\u001b[36m(RolloutWorker pid=5593)\u001b[0m /usr/local/lib/python3.6/dist-packages/ray/rllib/utils/numpy.py:140: FutureWarning:\n",
      "\u001b[2m\u001b[36m(RolloutWorker pid=5593)\u001b[0m \n",
      "\u001b[2m\u001b[36m(RolloutWorker pid=5593)\u001b[0m Conversion of the second argument of issubdtype from `int` to `np.signedinteger` is deprecated. In future, it will be treated as `np.int64 == np.dtype(int).type`.\n",
      "\u001b[2m\u001b[36m(RolloutWorker pid=5593)\u001b[0m \n",
      "2022-01-27 00:48:10,527\tWARNING util.py:57 -- Install gputil for GPU system monitoring.\n",
      "2022-01-27 00:48:10,595\tINFO trainable.py:468 -- Restored on 172.17.0.2 from checkpoint: /root/ray_results/PPO/PPO_TradingEnv_36bfe_00000_0_2022-01-27_00-36-50/checkpoint_000004/checkpoint-4\n",
      "2022-01-27 00:48:10,596\tINFO trainable.py:475 -- Current state after restoring: {'_iteration': 4, '_timesteps_total': 0, '_time_total': 660.125415802002, '_episodes_total': 913}\n"
     ]
    }
   ],
   "source": [
    "import ray.rllib.agents.ppo as ppo\n",
    "\n",
    "checkpoint_metric = 'episode_reward_mean'\n",
    "\n",
    "# Get checkpoint\n",
    "checkpoints = analysis.get_trial_checkpoints_paths(\n",
    "    trial=analysis.get_best_trial(checkpoint_metric, mode='max'),\n",
    "    metric=checkpoint_metric\n",
    ")\n",
    "checkpoint_path = checkpoints[0][0]\n",
    "\n",
    "env_config_validation = {\n",
    "    \"window_size\": 14,  # We want to look at the last 14 samples (hours)\n",
    "    \"reward_window_size\": 7,  # And calculate reward based on the actions taken in the next 7 hours\n",
    "    \"max_allowed_loss\": 1.0,  # If it goes past 10% loss during the iteration, we don't want to waste time on a \"loser\".\n",
    "    \"csv_filename\": valid_csv  # The variable that will be used to differentiate training and validation datasets\n",
    "}\n",
    "\n",
    "# Restore agent\n",
    "agent = ppo.PPOTrainer(\n",
    "    env=\"TradingEnv\",\n",
    "    config={\n",
    "        \"env_config\": env_config_validation,\n",
    "        \"framework\": \"torch\",\n",
    "        \"log_level\": \"ERROR\",\n",
    "        \"ignore_worker_failures\": True,\n",
    "        \"num_workers\": 1,\n",
    "        \"num_gpus\": 0,\n",
    "        \"clip_rewards\": True,\n",
    "        \"lr\": 0.005,\n",
    "        \"lr_schedule\": [\n",
    "            [0, 1e-1],\n",
    "            [int(1e2), 1e-2],\n",
    "            [int(1e3), 1e-3],\n",
    "            [int(1e4), 1e-4],\n",
    "            [int(1e5), 1e-5],\n",
    "            [int(1e6), 1e-6],\n",
    "            [int(1e7), 1e-7]\n",
    "        ],\n",
    "        \"model\": {\n",
    "            \"use_lstm\": use_lstm,\n",
    "            \"lstm_cell_size\": lstm_cell_size\n",
    "        },\n",
    "        \"gamma\": 0.99,\n",
    "        \"observation_filter\": \"MeanStdFilter\",\n",
    "        \"lambda\": 0.72,\n",
    "        \"vf_loss_coeff\": 0.5,\n",
    "        \"entropy_coeff\": 0.01,\n",
    "    }\n",
    ")\n",
    "agent.restore(checkpoint_path)"
   ]
  },
  {
   "cell_type": "code",
   "execution_count": 12,
   "id": "a0d8cd97",
   "metadata": {},
   "outputs": [
    {
     "data": {
      "text/plain": [
       "FullyConnectedNetwork_as_LSTMWrapper(\n",
       "  (_hidden_layers): Sequential(\n",
       "    (0): SlimFC(\n",
       "      (_model): Sequential(\n",
       "        (0): Linear(in_features=70, out_features=256, bias=True)\n",
       "        (1): Tanh()\n",
       "      )\n",
       "    )\n",
       "    (1): SlimFC(\n",
       "      (_model): Sequential(\n",
       "        (0): Linear(in_features=256, out_features=256, bias=True)\n",
       "        (1): Tanh()\n",
       "      )\n",
       "    )\n",
       "  )\n",
       "  (_value_branch_separate): Sequential(\n",
       "    (0): SlimFC(\n",
       "      (_model): Sequential(\n",
       "        (0): Linear(in_features=70, out_features=256, bias=True)\n",
       "        (1): Tanh()\n",
       "      )\n",
       "    )\n",
       "    (1): SlimFC(\n",
       "      (_model): Sequential(\n",
       "        (0): Linear(in_features=256, out_features=256, bias=True)\n",
       "        (1): Tanh()\n",
       "      )\n",
       "    )\n",
       "  )\n",
       "  (_value_branch): SlimFC(\n",
       "    (_model): Sequential(\n",
       "      (0): Linear(in_features=512, out_features=1, bias=True)\n",
       "    )\n",
       "  )\n",
       "  (lstm): LSTM(256, 512, batch_first=True)\n",
       "  (_logits_branch): SlimFC(\n",
       "    (_model): Sequential(\n",
       "      (0): Linear(in_features=512, out_features=2, bias=True)\n",
       "    )\n",
       "  )\n",
       ")"
      ]
     },
     "execution_count": 12,
     "metadata": {},
     "output_type": "execute_result"
    }
   ],
   "source": [
    "# See how the model is wrapped by LSTM\n",
    "agent.get_policy().model"
   ]
  },
  {
   "cell_type": "code",
   "execution_count": 13,
   "id": "9f1e6d4f",
   "metadata": {},
   "outputs": [
    {
     "data": {
      "image/png": "[encoded data removed]",
      "text/plain": [
       "<Figure size 1080x360 with 2 Axes>"
      ]
     },
     "metadata": {},
     "output_type": "display_data"
    }
   ],
   "source": [
    "# Instantiate the environment\n",
    "env = create_env(env_config_validation)\n",
    "\n",
    "# Run until episode ends\n",
    "done = False\n",
    "obs = env.reset()\n",
    "# Initialize hidden_state variable that will correspond to lstm_cell_size\n",
    "hidden_state = [np.zeros(lstm_cell_size), np.zeros(lstm_cell_size)]\n",
    "\n",
    "i = 0\n",
    "while not done:\n",
    "    # In order for use_lstm to work we set full_fetch to True\n",
    "    # This changes the output of compute action to a tuple (action, hidden_state, info)\n",
    "    # We also pass in the previous hidden state in order for the model to use correctly use the LSTM\n",
    "    action, hidden_state, _ = agent.compute_action(obs, state=hidden_state, full_fetch=True)\n",
    "    obs, reward, done, info = env.step(action)\n",
    "\n",
    "env.render()"
   ]
  },
  {
   "cell_type": "code",
   "execution_count": null,
   "id": "e6b2e79e",
   "metadata": {},
   "outputs": [],
   "source": []
  }
 ],
 "metadata": {
  "kernelspec": {
   "display_name": "Python 3",
   "language": "python",
   "name": "python3"
  },
  "language_info": {
   "codemirror_mode": {
    "name": "ipython",
    "version": 3
   },
   "file_extension": ".py",
   "mimetype": "text/x-python",
   "name": "python",
   "nbconvert_exporter": "python",
   "pygments_lexer": "ipython3",
   "version": "3.6.9"
  }
 },
 "nbformat": 4,
 "nbformat_minor": 5
}
